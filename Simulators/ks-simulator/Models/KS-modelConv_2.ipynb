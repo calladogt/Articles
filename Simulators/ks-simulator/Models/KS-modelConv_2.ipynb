{
 "cells": [
  {
   "cell_type": "markdown",
   "metadata": {
    "colab_type": "text",
    "id": "mEmv9FsyCKU6"
   },
   "source": [
    "\n",
    "\n",
    "# Prediction of the KS system: a model using Convolutional Neural Network\n",
    "\n",
    "In this notebook, I will use a model of Deep Learning to predict the KS system. More precisely, we wanna predict the next step of a given history of state of the system. To do it, a simple convolutional neural network will be used. It is just the first model trained to predict the system. I will try many configurations and varieties.\n",
    "\n",
    "To generate the data, I will use the KS.py code provided by Alessandro Bucci."
   ]
  },
  {
   "cell_type": "code",
   "execution_count": 1,
   "metadata": {
    "colab": {},
    "colab_type": "code",
    "id": "rrWwDC5TCKU9"
   },
   "outputs": [
    {
     "ename": "ModuleNotFoundError",
     "evalue": "No module named 'KS'",
     "output_type": "error",
     "traceback": [
      "\u001b[1;31m---------------------------------------------------------------------------\u001b[0m",
      "\u001b[1;31mModuleNotFoundError\u001b[0m                       Traceback (most recent call last)",
      "\u001b[1;32m<ipython-input-1-fab88a8a767c>\u001b[0m in \u001b[0;36m<module>\u001b[1;34m\u001b[0m\n\u001b[0;32m      3\u001b[0m \u001b[1;32mimport\u001b[0m \u001b[0mtime\u001b[0m\u001b[1;33m\u001b[0m\u001b[1;33m\u001b[0m\u001b[0m\n\u001b[0;32m      4\u001b[0m \u001b[1;32mfrom\u001b[0m \u001b[0mscipy\u001b[0m \u001b[1;32mimport\u001b[0m \u001b[0mstats\u001b[0m\u001b[1;33m\u001b[0m\u001b[1;33m\u001b[0m\u001b[0m\n\u001b[1;32m----> 5\u001b[1;33m \u001b[1;32mfrom\u001b[0m \u001b[0mKS\u001b[0m \u001b[1;32mimport\u001b[0m \u001b[0mKS\u001b[0m\u001b[1;33m\u001b[0m\u001b[1;33m\u001b[0m\u001b[0m\n\u001b[0m\u001b[0;32m      6\u001b[0m \u001b[1;32mimport\u001b[0m \u001b[0mmatplotlib\u001b[0m\u001b[1;33m.\u001b[0m\u001b[0mpyplot\u001b[0m \u001b[1;32mas\u001b[0m \u001b[0mplt\u001b[0m\u001b[1;33m\u001b[0m\u001b[1;33m\u001b[0m\u001b[0m\n\u001b[0;32m      7\u001b[0m \u001b[1;32mfrom\u001b[0m \u001b[0msklearn\u001b[0m \u001b[1;32mimport\u001b[0m \u001b[0mpreprocessing\u001b[0m\u001b[1;33m\u001b[0m\u001b[1;33m\u001b[0m\u001b[0m\n",
      "\u001b[1;31mModuleNotFoundError\u001b[0m: No module named 'KS'"
     ]
    }
   ],
   "source": [
    "import numpy as np\n",
    "import torch as th\n",
    "import time\n",
    "from scipy import stats\n",
    "from KS import KS\n",
    "import matplotlib.pyplot as plt\n",
    "from sklearn import preprocessing"
   ]
  },
  {
   "cell_type": "code",
   "execution_count": 0,
   "metadata": {
    "colab": {},
    "colab_type": "code",
    "id": "vblhn23zCZHj"
   },
   "outputs": [],
   "source": [
    "#Set a javascript interval to click on the connect button every 60 seconds. \n",
    "#Open developer-settings (in your web-browser) with Ctrl+Shift+i then click \n",
    "#on console tab and type this on the console prompt.\n",
    "function ClickConnect(){\n",
    "    console.log(\"Clicked on connect button\"); \n",
    "    document.querySelector(\"colab-connect-button\").click()\n",
    "}\n",
    "setInterval(ClickConnect,60000)"
   ]
  },
  {
   "cell_type": "code",
   "execution_count": 0,
   "metadata": {
    "colab": {},
    "colab_type": "code",
    "id": "seMr-weECKVF"
   },
   "outputs": [],
   "source": [
    "def drawKS(U_sim, x_axis, t_axis ,startT=0,endT=0, width = 10, divwidth = 4): \n",
    "    \"\"\"\n",
    "    This function will plot the evolution of the KS system (U_sim) over time (t_axis)\n",
    "    \n",
    "    \"\"\"\n",
    "    fig = plt.figure(figsize=(width, width/divwidth))\n",
    "    ax = fig.gca()\n",
    "    ola = ax.contourf(t_axis[startT:endT], x_axis, U_sim[startT:endT,:].T, 15)\n",
    "    cbar = plt.colorbar(ola)\n",
    "    plt.xlabel('Time evolution')\n",
    "    plt.ylabel('Position X')\n",
    "    plt.title('Spatiotemporal solution of KS equation')\n",
    "    plt.show()"
   ]
  },
  {
   "cell_type": "code",
   "execution_count": 0,
   "metadata": {
    "colab": {},
    "colab_type": "code",
    "id": "s7_tBZVPCKVJ"
   },
   "outputs": [],
   "source": [
    "def plothist(state_history,bins=30):\n",
    "    \"\"\"\n",
    "    plot the histogram of KS system data with the correct label\n",
    "    \n",
    "    \"\"\"\n",
    "    fig, ax = plt.subplots(figsize=(12, 5))\n",
    "    plt.hist(state_history,bins=30)\n",
    "    plt.xlabel('Values of velocity')\n",
    "    plt.ylabel('Frequency')\n",
    "    plt.title('Histogram of state_history')\n",
    "    plt.grid(True, color=\"#93a1a1\", alpha=0.3)"
   ]
  },
  {
   "cell_type": "code",
   "execution_count": 0,
   "metadata": {
    "colab": {},
    "colab_type": "code",
    "id": "h6x5PBNqCKVN"
   },
   "outputs": [],
   "source": [
    "def statvalues(state_history):\n",
    "    \"\"\"\n",
    "    print some statistics values of the KS data\n",
    "    \n",
    "    \"\"\"\n",
    "    print('Mean:', np.mean(state_history))\n",
    "    print('Median:', np.median(state_history))\n",
    "    print('Max:', np.max(state_history))\n",
    "    print('Min:', np.min(state_history))\n",
    "    print('Mode:', stats.mode(state_history))\n",
    "    print('Variance:', np.var(state_history))\n"
   ]
  },
  {
   "cell_type": "code",
   "execution_count": 0,
   "metadata": {
    "colab": {},
    "colab_type": "code",
    "id": "miDKdnW2CKVQ"
   },
   "outputs": [],
   "source": [
    "def evolutionstat(state_history):\n",
    "  \"\"\"\n",
    "  plot the temporal evolution of some statistics values\n",
    "  \n",
    "  \"\"\"  \n",
    "  plt.subplots(figsize=(15, 7))\n",
    "  plt.subplot(2,3,1)\n",
    "  plt.plot(np.mean(state_history,axis=1))\n",
    "  plt.title('Mean')\n",
    "  plt.ylabel('Mean value')\n",
    "  plt.subplot(2,3,2)\n",
    "  plt.plot(np.median(state_history,axis=1))\n",
    "  plt.title('Median')\n",
    "  plt.ylabel('Median value')\n",
    "  plt.subplot(2,3,3)\n",
    "  plt.plot(np.max(state_history,axis=1))\n",
    "  plt.title('Max')\n",
    "  plt.ylabel('Max value')\n",
    "  plt.xlabel('Time evolution')\n",
    "  plt.subplot(2,3,4)\n",
    "  plt.plot(np.min(state_history,axis=1))\n",
    "  plt.title('Min')\n",
    "  plt.ylabel('Min value')\n",
    "  plt.xlabel('Time evolution')\n",
    "  plt.subplot(2,3,5)\n",
    "  plt.plot(np.var(state_history,axis=1))\n",
    "  plt.title('Variance')\n",
    "  plt.ylabel('Variance value')\n",
    "  plt.xlabel('Time evolution')"
   ]
  },
  {
   "cell_type": "code",
   "execution_count": 0,
   "metadata": {
    "colab": {},
    "colab_type": "code",
    "id": "q8ft6IKHCvVa"
   },
   "outputs": [],
   "source": [
    "def prediction(model,start_position,N_step_pred,state_history_norm_th):\n",
    "    \"\"\"\n",
    "    This function will simulate the model for a given start_position of \n",
    "    state_history_norm_th from start_position to start_position+N_step_pred\n",
    "    and compares this simulation with the true value given by state_history_norm_th\n",
    "    \n",
    "    input:\n",
    "    - model: the model that will be used to make the prediction\n",
    "    - start_position: the position in the vector state_history_norm_th that will start the simulation\n",
    "    - N_step_pred: number of the steps to simulate\n",
    "    - state_history_norm_th: the true simulation given by KS.py. it will be used as the start point\n",
    "      to initiate our model simulation and to verify the quality of this simulation\n",
    "    \n",
    "    \n",
    "    output:\n",
    "    - print: the true spatiotemporal evolution of KS system\n",
    "             our simulation by the model\n",
    "             the difference between them per step of the simulation\n",
    "    \n",
    "    state_history: all the spatialtemporal evolution of the system. shape: [number of iteractions,samples_points]\n",
    "    time_counter: array of the time corresponding to each interaction\n",
    "    position_x: array of samples_points points that goes from 0 to length\n",
    "    \"\"\"\n",
    "\n",
    "    y_true=state_history_norm_th[start_position:start_position+N_step_pred,:].squeeze()\n",
    "    sample_points=state_history_norm_th.size(1)\n",
    "    current_state = th.zeros((1, sample_points, size_conv_time))\n",
    "    current_state[0,:,:] = state_history_norm_th[start_position-100:start_position,:].T\n",
    "    current_state=current_state.double().cuda()\n",
    "    prediction_model = th.zeros((N_step_pred, sample_points))\n",
    "\n",
    "    for i in range(N_step_pred):\n",
    "        y=model(current_state)\n",
    "        past=current_state[:,:,1:100]\n",
    "        current_state=th.zeros(1,64,100).double().cuda()\n",
    "        current_state[:,:,0:99]=past\n",
    "        current_state[:,:,99]=y\n",
    "        prediction_model[i,:]=y.squeeze()\n",
    "\n",
    "\n",
    "    prediction_model_np = prediction_model.detach().numpy()\n",
    "    y_true_np = y_true.cpu().numpy()\n",
    "    dif=np.mean(np.absolute(prediction_model_np-y_true_np),axis=1)\n",
    "\n",
    "\n",
    "    print('The true solution:')\n",
    "    drawKS(y_true_np, position_x, time_counter[start_position:start_position+N_step_pred] ,startT=1,endT=N_step_pred, width = 10, divwidth = 4) \n",
    "    print('The model solution:')\n",
    "    drawKS(prediction_model_np, position_x,time_counter[start_position:start_position+N_step_pred] ,startT=1,endT=N_step_pred, width = 10, divwidth = 4)\n",
    "\n",
    "    plt.plot(np.absolute(dif))\n",
    "    plt.title('Difference between prediction and true value')\n",
    "    plt.ylabel('Delta')\n",
    "    plt.xlabel('Time step')"
   ]
  },
  {
   "cell_type": "markdown",
   "metadata": {
    "colab_type": "text",
    "id": "OcwP8Uh-CKVU"
   },
   "source": [
    "## Loading and normalizing the data\n",
    "First, let's set the parameters of the simulation. Pay attention to set the correct parameters to the data set loaded."
   ]
  },
  {
   "cell_type": "code",
   "execution_count": 2,
   "metadata": {
    "colab": {},
    "colab_type": "code",
    "id": "Qi00m-dVCKVV"
   },
   "outputs": [],
   "source": [
    "final_time = 10000 # the total time of the simulation\n",
    "dt = 0.05 # the time step \n",
    "length = 22 # the \"physical\" length of the domaine. pay attention cuz this value will determine if the system is regular or chaotic\n",
    "sample_points = 64 # the number of sample points on this length. It will be the size of the input in our system\n",
    "#state_initial = np.loadtxt('u1.dat') #the observed initial state of the system"
   ]
  },
  {
   "cell_type": "code",
   "execution_count": 8,
   "metadata": {
    "colab": {
     "base_uri": "https://localhost:8080/",
     "height": 68
    },
    "colab_type": "code",
    "executionInfo": {
     "elapsed": 13027,
     "status": "ok",
     "timestamp": 1591734657656,
     "user": {
      "displayName": "Gabriel Callado",
      "photoUrl": "https://lh3.googleusercontent.com/a-/AOh14Ghnvi183GuMBSeeGPSUTAterZ8HcEuC0_0pR7xFtA=s64",
      "userId": "08786233999723143686"
     },
     "user_tz": 180
    },
    "id": "dm-yUw0WCKVi",
    "outputId": "6854ab10-c35b-4246-8312-02d27e0e9d6b"
   },
   "outputs": [
    {
     "name": "stdout",
     "output_type": "stream",
     "text": [
      "The state_history shape is: (200001, 64)\n",
      "The final time: 10000.0\n",
      "Total length 22.0\n"
     ]
    }
   ],
   "source": [
    "#to load data\n",
    "\n",
    "from numpy import load\n",
    "# load numpy array\n",
    "state_history = np.loadtxt('state_history_u3.dat')\n",
    "time_counter = np.loadtxt('time_counter_u3.dat')\n",
    "position_x = np.loadtxt('position_u3.dat')\n",
    "\n",
    "print('The state_history shape is:', state_history.shape)\n",
    "print('The final time:', time_counter[-1])\n",
    "print('Total length', position_x[1]+position_x[-1])"
   ]
  },
  {
   "cell_type": "markdown",
   "metadata": {
    "colab_type": "text",
    "id": "rn5WELW7CKVv"
   },
   "source": [
    "Let's normalize the data to be between [-0.975,0.975]. It will allow us to use other activation fonction (like Tanh):"
   ]
  },
  {
   "cell_type": "code",
   "execution_count": 37,
   "metadata": {
    "colab": {
     "base_uri": "https://localhost:8080/",
     "height": 1000
    },
    "colab_type": "code",
    "executionInfo": {
     "elapsed": 7042,
     "status": "ok",
     "timestamp": 1591739946561,
     "user": {
      "displayName": "Gabriel Callado",
      "photoUrl": "https://lh3.googleusercontent.com/a-/AOh14Ghnvi183GuMBSeeGPSUTAterZ8HcEuC0_0pR7xFtA=s64",
      "userId": "08786233999723143686"
     },
     "user_tz": 180
    },
    "id": "zIIeDJseCKVw",
    "outputId": "8260bcc9-7079-418f-d74b-13ae58ecbff0"
   },
   "outputs": [
    {
     "name": "stdout",
     "output_type": "stream",
     "text": [
      "Mean: 0.0037720958739586776\n",
      "Median: 0.02334210639889245\n",
      "Max: 0.4565350850600155\n",
      "Min: -0.4433889069435318\n",
      "Mode: ModeResult(mode=array([-0.44338891]), count=array([1]))\n",
      "Variance: 0.05437736519905126\n"
     ]
    },
    {
     "data": {
      "image/png": "[encoded data removed]",
      "text/plain": [
       "<Figure size 864x360 with 1 Axes>"
      ]
     },
     "metadata": {
      "needs_background": "light",
      "tags": []
     },
     "output_type": "display_data"
    },
    {
     "data": {
      "image/png": "[encoded data removed]",
      "text/plain": [
       "<Figure size 1080x504 with 5 Axes>"
      ]
     },
     "metadata": {
      "needs_background": "light",
      "tags": []
     },
     "output_type": "display_data"
    },
    {
     "data": {
      "image/png": "[encoded data removed]",
      "text/plain": [
       "<Figure size 720x180 with 2 Axes>"
      ]
     },
     "metadata": {
      "needs_background": "light",
      "tags": []
     },
     "output_type": "display_data"
    }
   ],
   "source": [
    "min_max_scaler = preprocessing.MinMaxScaler(feature_range=(-0.975,0.975))\n",
    "state_history_norm = min_max_scaler.fit_transform(state_history)\n",
    "\n",
    "#histogram\n",
    "plothist(state_history_norm,bins=30)\n",
    "\n",
    "#statistic values\n",
    "statvalues(state_history_norm[0,:])\n",
    "\n",
    "#evolution of statistic values\n",
    "evolutionstat(state_history_norm)\n",
    "\n",
    "#KSflow\n",
    "drawKS(state_history_norm, position_x, time_counter ,startT=1,endT=int(time_counter[-1]), width = 10, divwidth = 4)"
   ]
  },
  {
   "cell_type": "markdown",
   "metadata": {
    "colab_type": "text",
    "id": "CaAcatrRCKVz"
   },
   "source": [
    "## Separating the data into training and test sets"
   ]
  },
  {
   "cell_type": "code",
   "execution_count": 10,
   "metadata": {
    "colab": {
     "base_uri": "https://localhost:8080/",
     "height": 34
    },
    "colab_type": "code",
    "executionInfo": {
     "elapsed": 1117,
     "status": "ok",
     "timestamp": 1591734693334,
     "user": {
      "displayName": "Gabriel Callado",
      "photoUrl": "https://lh3.googleusercontent.com/a-/AOh14Ghnvi183GuMBSeeGPSUTAterZ8HcEuC0_0pR7xFtA=s64",
      "userId": "08786233999723143686"
     },
     "user_tz": 180
    },
    "id": "d0h5De2KDJei",
    "outputId": "723a1f36-0a3e-44c1-ee24-3f650fa3463e"
   },
   "outputs": [
    {
     "data": {
      "text/plain": [
       "(100000, 64)"
      ]
     },
     "execution_count": 10,
     "metadata": {
      "tags": []
     },
     "output_type": "execute_result"
    }
   ],
   "source": [
    "state_history_norm=state_history_norm[:100000,:]\n",
    "#até 100.000 vai, com 200.000 o colabs nao aguenta\n",
    "state_history_norm.shape"
   ]
  },
  {
   "cell_type": "code",
   "execution_count": 0,
   "metadata": {
    "colab": {},
    "colab_type": "code",
    "id": "RLWUBz-aCKV0"
   },
   "outputs": [],
   "source": [
    "size_conv_time=100\n",
    "X = state_history_norm[:-size_conv_time,:] #our input: all the data excluding the last size_conv_time data\n",
    "Y = state_history_norm[size_conv_time:,:] #our output: all the data minus the first size_conv_time one\n",
    "\n",
    "NN = state_history_norm.shape[0]-2*size_conv_time\n",
    "Nt = int(NN*0.9) # number of train\n",
    "Nv = int(NN*0.1) # number of validation\n",
    "\n",
    "\n",
    "np.random.seed(0)\n",
    "indices=np.arange(NN)\n",
    "np.random.shuffle(indices)\n",
    "train_ind=indices[0:Nt]\n",
    "valid_ind=indices[-Nv:]\n",
    "\n",
    "X_train = np.zeros((Nt, sample_points, size_conv_time))\n",
    "aux=0\n",
    "for ind in train_ind:\n",
    "    X_train[aux,:,:]=X[ind:ind+size_conv_time].T\n",
    "    aux=aux+1\n",
    "\n",
    "Y_train = Y[train_ind]\n",
    "\n",
    "X_valid = np.zeros((Nv, sample_points, size_conv_time))\n",
    "aux=0\n",
    "for ind in valid_ind:\n",
    "    X_valid[aux,:,:]=X[ind:ind+size_conv_time].T\n",
    "    aux=aux+1\n",
    "\n",
    "Y_valid = Y[valid_ind]\n",
    "\n",
    "\n",
    "#converting to tensor\n",
    "X_train_th = th.from_numpy(X_train).cuda()\n",
    "Y_train_th = th.from_numpy(Y_train).cuda()\n",
    "X_valid_th = th.from_numpy(X_valid).cuda()\n",
    "Y_valid_th = th.from_numpy(Y_valid).cuda()"
   ]
  },
  {
   "cell_type": "code",
   "execution_count": 0,
   "metadata": {
    "colab": {
     "base_uri": "https://localhost:8080/",
     "height": 51
    },
    "colab_type": "code",
    "executionInfo": {
     "elapsed": 627,
     "status": "ok",
     "timestamp": 1591388993804,
     "user": {
      "displayName": "Gabriel Callado",
      "photoUrl": "https://lh3.googleusercontent.com/a-/AOh14Ghnvi183GuMBSeeGPSUTAterZ8HcEuC0_0pR7xFtA=s64",
      "userId": "08786233999723143686"
     },
     "user_tz": 180
    },
    "id": "ShbN87s3CKV3",
    "outputId": "3d68b134-cb60-4b30-b2ee-dab774fb7b9d"
   },
   "outputs": [
    {
     "name": "stdout",
     "output_type": "stream",
     "text": [
      "torch.Size([89820, 64, 100])\n",
      "torch.Size([89820, 64])\n"
     ]
    }
   ],
   "source": [
    "print(X_train_th.shape)\n",
    "print(Y_train_th.shape)"
   ]
  },
  {
   "cell_type": "markdown",
   "metadata": {
    "colab_type": "text",
    "id": "XW-FIkBUCKV9"
   },
   "source": [
    "## Training"
   ]
  },
  {
   "cell_type": "code",
   "execution_count": 0,
   "metadata": {
    "colab": {},
    "colab_type": "code",
    "id": "ei7CYP-UCKV-"
   },
   "outputs": [],
   "source": [
    "def train(model,X_train,X_valid,Y_train,Y_valid,epochs=1000,batch_size=64):\n",
    "    Nt=len(X_train)\n",
    "    Nv=len(X_valid)\n",
    "    ### Mini-batching and shuffle\n",
    "    idx = np.arange(Nt)\n",
    "    nbatch = int(Nt/batch_size)\n",
    "    train_losses,valid_losses=[],[]\n",
    "    start_time=time.time()\n",
    "    print(\"Epoch\\tTrain Loss\\tValid Loss\")\n",
    "    \n",
    "    #Just to see the prediction of our random parameters\n",
    "    model.eval()\n",
    "    with th.no_grad():\n",
    "        running_loss=0\n",
    "        for bi in range(nbatch):\n",
    "            ids = idx[bi*batch_size:(bi+1)*batch_size]\n",
    "            x = X_train[ids]\n",
    "            ttf_calc=model(x).squeeze()\n",
    "            ttf = Y_train[ids]\n",
    "            loss=loss_fn(ttf_calc,ttf)\n",
    "            running_loss+=loss.item()\n",
    "        train_losses.append(running_loss/nbatch)\n",
    "        running_loss=0\n",
    "        ttf_calc=model(X_valid).squeeze()\n",
    "        ttf = Y_valid\n",
    "        loss=loss_fn(ttf_calc,ttf)\n",
    "        running_loss+=loss.item()\n",
    "        valid_losses.append(running_loss)\n",
    "        #it will print the result in epoch=0 during the training\n",
    "    \n",
    "    #starting the training here:\n",
    "    for e in range(epochs):\n",
    "        model.train()\n",
    "        print(\"{}\\t\".format(e),\"{:.5f}..\\t\".format(train_losses[-1]),\"{:.5f}..\".format(valid_losses[-1]))  \n",
    "        np.random.shuffle(idx)\n",
    "        running_loss=0\n",
    "        for bi in range(nbatch):\n",
    "            ids = idx[bi*batch_size:(bi+1)*batch_size]\n",
    "            x = X_train[ids]\n",
    "            optimizer.zero_grad()\n",
    "            ttf_calc=model(x).squeeze()\n",
    "            ttf = Y_train[ids]\n",
    "            loss=loss_fn(ttf_calc,ttf)\n",
    "            loss.backward()\n",
    "            optimizer.step()\n",
    "            running_loss+=loss.item()\n",
    "            \n",
    "        # training is over for one epoch\n",
    "        #now evaluate the model with the valid set:\n",
    "        model.eval()\n",
    "        accuracy=0\n",
    "        train_losses.append(running_loss/nbatch)\n",
    "        running_loss=0\n",
    "        with th.no_grad():\n",
    "            x = X_valid\n",
    "            ttf_calc=model(x).squeeze()\n",
    "            ttf = Y_valid\n",
    "            loss=loss_fn(ttf_calc,ttf)\n",
    "            running_loss+=loss.item()\n",
    "            valid_losses.append(running_loss)\n",
    "    print(\"{}\\t\".format(e+1),\"{:.5f}..\\t\".format(train_losses[-1]),\"{:.5f}..\".format(valid_losses[-1]))     \n",
    "    print(\"---------- Best : {:.3f}\".format(min(valid_losses)), \" at epoch \" \n",
    "          , np.fromiter(valid_losses, dtype=np.float).argmin(), \" / \",epochs )\n",
    "    print('Execution time={:.2f}s'.format(time.time()-start_time))\n",
    "    #plot some graphs\n",
    "    plt.figure(figsize = (9, 1.5))\n",
    "    ax= plt.subplot(1, 2, 1)\n",
    "    plt.plot(train_losses)\n",
    "    ax.set_ylim(bottom=0)\n",
    "    ax= plt.subplot(1, 2, 2)\n",
    "    plt.plot(valid_losses)\n",
    "    ax.set_ylim(bottom=0)\n",
    "    return train_losses, valid_losses"
   ]
  },
  {
   "cell_type": "markdown",
   "metadata": {
    "colab_type": "text",
    "id": "W7RJWJgWCKWI"
   },
   "source": [
    "## Model 1"
   ]
  },
  {
   "cell_type": "code",
   "execution_count": 3,
   "metadata": {
    "colab": {},
    "colab_type": "code",
    "id": "mLhDnJ9zCKWJ"
   },
   "outputs": [],
   "source": [
    "Lin = 100\n",
    "in_ch_conv_1 = 64\n",
    "out_ch_conv_1 = 128\n",
    "k_conv_1 = 10\n",
    "st_conv_1 = 2\n",
    "pad_conv_1 = 4\n",
    "L_2 = (Lin+2*pad_conv_1-(k_conv_1-1)-1)/st_conv_1+1\n",
    "\n",
    "k_pool_1= 2\n",
    "st_pool_1= 2\n",
    "L_3 = (L_2 - k_pool_1)/st_pool_1 + 1\n",
    "\n",
    "in_ch_conv_2 = 128\n",
    "out_ch_conv_2 = 64\n",
    "k_conv_2 = 5\n",
    "st_conv_2 = 2\n",
    "pad_conv_2 = 1\n",
    "L_4 = (L_3+2*pad_conv_2-(k_conv_2-1)-1)/st_conv_2+1\n",
    "\n",
    "k_pool_2= 12\n",
    "st_pool_2= 1\n",
    "L_5 = (L_4 - k_pool_2)/st_pool_2 + 1\n",
    "\n",
    "in_lin = sample_points\n",
    "out_lin = sample_points\n",
    "\n",
    "\n",
    "model = th.nn.Sequential(\n",
    "    th.nn.Conv1d(in_ch_conv_1,out_ch_conv_1,k_conv_1,st_conv_1,pad_conv_1),\n",
    "    th.nn.LeakyReLU(),\n",
    "    th.nn.MaxPool1d(k_pool_1,st_pool_1),\n",
    "    th.nn.Conv1d(in_ch_conv_2,out_ch_conv_2,k_conv_2,st_conv_2,pad_conv_2),\n",
    "    th.nn.LeakyReLU(),\n",
    "    th.nn.MaxPool1d(k_pool_2,st_pool_2),\n",
    "    th.nn.Flatten(),\n",
    "    th.nn.Linear(in_lin,out_lin),\n",
    "    th.nn.Tanh(),\n",
    ")\n",
    "model.double()\n",
    "model.cuda()\n",
    "optimizer=th.optim.Adam(model.parameters(),lr=1e-5)\n",
    "loss_fn=th.nn.MSELoss()"
   ]
  },
  {
   "cell_type": "code",
   "execution_count": 4,
   "metadata": {},
   "outputs": [
    {
     "name": "stderr",
     "output_type": "stream",
     "text": [
      "C:\\Users\\Callado\\Anaconda3\\lib\\site-packages\\torch\\serialization.py:593: SourceChangeWarning: source code of class 'torch.nn.modules.loss.MSELoss' has changed. you can retrieve the original source code by accessing the object's source attribute or set `torch.nn.Module.dump_patches = True` and use the patch tool to revert the changes.\n",
      "  warnings.warn(msg, SourceChangeWarning)\n"
     ]
    }
   ],
   "source": [
    "checkpoint = th.load(\"modelcv2_model1_u3\")\n",
    "\n",
    "# restore the model and optimizer states: \n",
    "#model = checkpoint['model']\n",
    "model.load_state_dict(checkpoint['model_state_dict'])\n",
    "optimizer.load_state_dict(checkpoint['optimizer_state_dict'])\n",
    "epoch = checkpoint['epoch']\n",
    "batch_size = checkpoint['batch_size']\n",
    "loss_fn=checkpoint['loss']\n",
    "train_losses=checkpoint['training loss']\n",
    "valid_losses=checkpoint['valid loss']"
   ]
  },
  {
   "cell_type": "code",
   "execution_count": null,
   "metadata": {},
   "outputs": [],
   "source": []
  },
  {
   "cell_type": "code",
   "execution_count": 38,
   "metadata": {
    "colab": {
     "base_uri": "https://localhost:8080/",
     "height": 1000
    },
    "colab_type": "code",
    "executionInfo": {
     "elapsed": 1668286,
     "status": "ok",
     "timestamp": 1591742639192,
     "user": {
      "displayName": "Gabriel Callado",
      "photoUrl": "https://lh3.googleusercontent.com/a-/AOh14Ghnvi183GuMBSeeGPSUTAterZ8HcEuC0_0pR7xFtA=s64",
      "userId": "08786233999723143686"
     },
     "user_tz": 180
    },
    "id": "uJ6l9SUVCKWM",
    "outputId": "837bf1ab-9462-4cdc-da60-de7b70e32720"
   },
   "outputs": [
    {
     "name": "stdout",
     "output_type": "stream",
     "text": [
      "Epoch\tTrain Loss\tValid Loss\n",
      "0\t 0.00004..\t 0.00004..\n",
      "1\t 0.00004..\t 0.00004..\n",
      "2\t 0.00004..\t 0.00004..\n",
      "3\t 0.00004..\t 0.00004..\n",
      "4\t 0.00004..\t 0.00004..\n",
      "5\t 0.00004..\t 0.00004..\n",
      "6\t 0.00004..\t 0.00004..\n",
      "7\t 0.00004..\t 0.00004..\n",
      "8\t 0.00004..\t 0.00004..\n",
      "9\t 0.00004..\t 0.00004..\n",
      "10\t 0.00004..\t 0.00004..\n",
      "11\t 0.00004..\t 0.00004..\n",
      "12\t 0.00004..\t 0.00004..\n",
      "13\t 0.00004..\t 0.00004..\n",
      "14\t 0.00004..\t 0.00004..\n",
      "15\t 0.00004..\t 0.00004..\n",
      "16\t 0.00004..\t 0.00004..\n",
      "17\t 0.00004..\t 0.00004..\n",
      "18\t 0.00004..\t 0.00004..\n",
      "19\t 0.00004..\t 0.00004..\n",
      "20\t 0.00004..\t 0.00004..\n",
      "21\t 0.00004..\t 0.00004..\n",
      "22\t 0.00004..\t 0.00004..\n",
      "23\t 0.00004..\t 0.00004..\n",
      "24\t 0.00004..\t 0.00004..\n",
      "25\t 0.00004..\t 0.00004..\n",
      "26\t 0.00004..\t 0.00004..\n",
      "27\t 0.00004..\t 0.00004..\n",
      "28\t 0.00004..\t 0.00004..\n",
      "29\t 0.00004..\t 0.00004..\n",
      "30\t 0.00004..\t 0.00004..\n",
      "31\t 0.00004..\t 0.00004..\n",
      "32\t 0.00004..\t 0.00004..\n",
      "33\t 0.00004..\t 0.00004..\n",
      "34\t 0.00004..\t 0.00004..\n",
      "35\t 0.00004..\t 0.00004..\n",
      "36\t 0.00004..\t 0.00004..\n",
      "37\t 0.00004..\t 0.00004..\n",
      "38\t 0.00004..\t 0.00004..\n",
      "39\t 0.00004..\t 0.00004..\n",
      "40\t 0.00004..\t 0.00004..\n",
      "41\t 0.00004..\t 0.00004..\n",
      "42\t 0.00004..\t 0.00004..\n",
      "43\t 0.00004..\t 0.00004..\n",
      "44\t 0.00004..\t 0.00004..\n",
      "45\t 0.00004..\t 0.00004..\n",
      "46\t 0.00004..\t 0.00004..\n",
      "47\t 0.00004..\t 0.00004..\n",
      "48\t 0.00004..\t 0.00004..\n",
      "49\t 0.00004..\t 0.00004..\n",
      "50\t 0.00004..\t 0.00004..\n",
      "51\t 0.00004..\t 0.00004..\n",
      "52\t 0.00004..\t 0.00004..\n",
      "53\t 0.00004..\t 0.00004..\n",
      "54\t 0.00004..\t 0.00004..\n",
      "55\t 0.00004..\t 0.00004..\n",
      "56\t 0.00004..\t 0.00004..\n",
      "57\t 0.00004..\t 0.00004..\n",
      "58\t 0.00004..\t 0.00004..\n",
      "59\t 0.00004..\t 0.00004..\n",
      "60\t 0.00004..\t 0.00004..\n",
      "61\t 0.00004..\t 0.00004..\n",
      "62\t 0.00004..\t 0.00004..\n",
      "63\t 0.00004..\t 0.00004..\n",
      "64\t 0.00004..\t 0.00004..\n",
      "65\t 0.00004..\t 0.00004..\n",
      "66\t 0.00004..\t 0.00004..\n",
      "67\t 0.00004..\t 0.00004..\n",
      "68\t 0.00004..\t 0.00004..\n",
      "69\t 0.00004..\t 0.00004..\n",
      "70\t 0.00004..\t 0.00004..\n",
      "71\t 0.00004..\t 0.00004..\n",
      "72\t 0.00004..\t 0.00004..\n",
      "73\t 0.00004..\t 0.00004..\n",
      "74\t 0.00004..\t 0.00004..\n",
      "75\t 0.00004..\t 0.00004..\n",
      "76\t 0.00004..\t 0.00004..\n",
      "77\t 0.00004..\t 0.00004..\n",
      "78\t 0.00004..\t 0.00004..\n",
      "79\t 0.00004..\t 0.00004..\n",
      "80\t 0.00004..\t 0.00004..\n",
      "81\t 0.00004..\t 0.00004..\n",
      "82\t 0.00004..\t 0.00004..\n",
      "83\t 0.00004..\t 0.00004..\n",
      "84\t 0.00004..\t 0.00004..\n",
      "85\t 0.00004..\t 0.00004..\n",
      "86\t 0.00004..\t 0.00004..\n",
      "87\t 0.00004..\t 0.00004..\n",
      "88\t 0.00004..\t 0.00004..\n",
      "89\t 0.00004..\t 0.00004..\n",
      "90\t 0.00004..\t 0.00004..\n",
      "91\t 0.00004..\t 0.00004..\n",
      "92\t 0.00004..\t 0.00004..\n",
      "93\t 0.00004..\t 0.00004..\n",
      "94\t 0.00004..\t 0.00004..\n",
      "95\t 0.00004..\t 0.00004..\n",
      "96\t 0.00004..\t 0.00004..\n",
      "97\t 0.00004..\t 0.00004..\n",
      "98\t 0.00004..\t 0.00004..\n",
      "99\t 0.00004..\t 0.00004..\n",
      "100\t 0.00004..\t 0.00004..\n",
      "101\t 0.00004..\t 0.00004..\n",
      "102\t 0.00004..\t 0.00004..\n",
      "103\t 0.00004..\t 0.00004..\n",
      "104\t 0.00004..\t 0.00004..\n",
      "105\t 0.00004..\t 0.00004..\n",
      "106\t 0.00004..\t 0.00004..\n",
      "107\t 0.00004..\t 0.00004..\n",
      "108\t 0.00004..\t 0.00004..\n",
      "109\t 0.00004..\t 0.00004..\n",
      "110\t 0.00004..\t 0.00004..\n",
      "111\t 0.00004..\t 0.00004..\n",
      "112\t 0.00004..\t 0.00004..\n",
      "113\t 0.00004..\t 0.00004..\n",
      "114\t 0.00004..\t 0.00004..\n",
      "115\t 0.00004..\t 0.00004..\n",
      "116\t 0.00004..\t 0.00004..\n",
      "117\t 0.00004..\t 0.00004..\n",
      "118\t 0.00004..\t 0.00004..\n",
      "119\t 0.00004..\t 0.00004..\n",
      "120\t 0.00004..\t 0.00004..\n",
      "121\t 0.00004..\t 0.00004..\n",
      "122\t 0.00004..\t 0.00004..\n",
      "123\t 0.00004..\t 0.00004..\n",
      "124\t 0.00004..\t 0.00004..\n",
      "125\t 0.00004..\t 0.00004..\n",
      "126\t 0.00004..\t 0.00004..\n",
      "127\t 0.00004..\t 0.00004..\n",
      "128\t 0.00004..\t 0.00004..\n",
      "129\t 0.00004..\t 0.00004..\n",
      "130\t 0.00004..\t 0.00004..\n",
      "131\t 0.00004..\t 0.00004..\n",
      "132\t 0.00004..\t 0.00004..\n",
      "133\t 0.00004..\t 0.00004..\n",
      "134\t 0.00004..\t 0.00004..\n",
      "135\t 0.00004..\t 0.00004..\n",
      "136\t 0.00004..\t 0.00004..\n",
      "137\t 0.00004..\t 0.00004..\n",
      "138\t 0.00004..\t 0.00004..\n",
      "139\t 0.00004..\t 0.00004..\n",
      "140\t 0.00004..\t 0.00004..\n",
      "141\t 0.00004..\t 0.00004..\n",
      "142\t 0.00004..\t 0.00004..\n",
      "143\t 0.00004..\t 0.00004..\n",
      "144\t 0.00004..\t 0.00004..\n",
      "145\t 0.00004..\t 0.00004..\n",
      "146\t 0.00004..\t 0.00004..\n",
      "147\t 0.00004..\t 0.00004..\n",
      "148\t 0.00004..\t 0.00004..\n",
      "149\t 0.00004..\t 0.00004..\n",
      "150\t 0.00004..\t 0.00004..\n",
      "151\t 0.00004..\t 0.00004..\n",
      "152\t 0.00004..\t 0.00004..\n",
      "153\t 0.00004..\t 0.00004..\n",
      "154\t 0.00004..\t 0.00004..\n",
      "155\t 0.00004..\t 0.00004..\n",
      "156\t 0.00004..\t 0.00004..\n",
      "157\t 0.00004..\t 0.00004..\n",
      "158\t 0.00004..\t 0.00004..\n",
      "159\t 0.00004..\t 0.00004..\n",
      "160\t 0.00004..\t 0.00004..\n",
      "161\t 0.00004..\t 0.00004..\n",
      "162\t 0.00004..\t 0.00004..\n",
      "163\t 0.00004..\t 0.00004..\n",
      "164\t 0.00004..\t 0.00004..\n",
      "165\t 0.00004..\t 0.00004..\n",
      "166\t 0.00004..\t 0.00004..\n",
      "167\t 0.00004..\t 0.00004..\n",
      "168\t 0.00004..\t 0.00004..\n",
      "169\t 0.00004..\t 0.00004..\n",
      "170\t 0.00004..\t 0.00004..\n",
      "171\t 0.00004..\t 0.00004..\n",
      "172\t 0.00004..\t 0.00004..\n",
      "173\t 0.00004..\t 0.00004..\n",
      "174\t 0.00004..\t 0.00004..\n",
      "175\t 0.00004..\t 0.00004..\n",
      "176\t 0.00004..\t 0.00004..\n",
      "177\t 0.00004..\t 0.00004..\n",
      "178\t 0.00004..\t 0.00004..\n",
      "179\t 0.00004..\t 0.00004..\n",
      "180\t 0.00004..\t 0.00004..\n",
      "181\t 0.00004..\t 0.00004..\n",
      "182\t 0.00004..\t 0.00004..\n",
      "183\t 0.00004..\t 0.00004..\n",
      "184\t 0.00004..\t 0.00004..\n",
      "185\t 0.00004..\t 0.00004..\n",
      "186\t 0.00004..\t 0.00004..\n",
      "187\t 0.00004..\t 0.00004..\n",
      "188\t 0.00004..\t 0.00004..\n",
      "189\t 0.00004..\t 0.00004..\n",
      "190\t 0.00004..\t 0.00004..\n",
      "191\t 0.00004..\t 0.00004..\n",
      "192\t 0.00004..\t 0.00004..\n",
      "193\t 0.00004..\t 0.00004..\n",
      "194\t 0.00004..\t 0.00004..\n",
      "195\t 0.00004..\t 0.00004..\n",
      "196\t 0.00004..\t 0.00004..\n",
      "197\t 0.00004..\t 0.00004..\n",
      "198\t 0.00004..\t 0.00004..\n",
      "199\t 0.00004..\t 0.00004..\n",
      "200\t 0.00004..\t 0.00004..\n",
      "201\t 0.00004..\t 0.00004..\n",
      "202\t 0.00004..\t 0.00004..\n",
      "203\t 0.00004..\t 0.00004..\n",
      "204\t 0.00004..\t 0.00004..\n",
      "205\t 0.00004..\t 0.00004..\n",
      "206\t 0.00004..\t 0.00004..\n",
      "207\t 0.00004..\t 0.00004..\n",
      "208\t 0.00004..\t 0.00004..\n",
      "209\t 0.00004..\t 0.00004..\n",
      "210\t 0.00004..\t 0.00004..\n",
      "211\t 0.00004..\t 0.00004..\n",
      "212\t 0.00004..\t 0.00004..\n",
      "213\t 0.00004..\t 0.00004..\n",
      "214\t 0.00004..\t 0.00004..\n",
      "215\t 0.00004..\t 0.00004..\n",
      "216\t 0.00004..\t 0.00004..\n",
      "217\t 0.00004..\t 0.00004..\n",
      "218\t 0.00004..\t 0.00004..\n",
      "219\t 0.00004..\t 0.00004..\n",
      "220\t 0.00004..\t 0.00004..\n",
      "221\t 0.00004..\t 0.00004..\n",
      "222\t 0.00004..\t 0.00004..\n",
      "223\t 0.00004..\t 0.00004..\n",
      "224\t 0.00004..\t 0.00004..\n",
      "225\t 0.00004..\t 0.00004..\n",
      "226\t 0.00004..\t 0.00004..\n",
      "227\t 0.00004..\t 0.00004..\n",
      "228\t 0.00004..\t 0.00004..\n",
      "229\t 0.00003..\t 0.00004..\n",
      "230\t 0.00003..\t 0.00004..\n",
      "231\t 0.00003..\t 0.00004..\n",
      "232\t 0.00003..\t 0.00004..\n",
      "233\t 0.00003..\t 0.00004..\n",
      "234\t 0.00003..\t 0.00004..\n",
      "235\t 0.00003..\t 0.00004..\n",
      "236\t 0.00003..\t 0.00004..\n",
      "237\t 0.00003..\t 0.00004..\n",
      "238\t 0.00003..\t 0.00004..\n",
      "239\t 0.00003..\t 0.00004..\n",
      "240\t 0.00003..\t 0.00003..\n",
      "241\t 0.00003..\t 0.00004..\n",
      "242\t 0.00003..\t 0.00004..\n",
      "243\t 0.00003..\t 0.00004..\n",
      "244\t 0.00003..\t 0.00004..\n",
      "245\t 0.00003..\t 0.00004..\n",
      "246\t 0.00003..\t 0.00003..\n",
      "247\t 0.00003..\t 0.00004..\n",
      "248\t 0.00003..\t 0.00003..\n",
      "249\t 0.00003..\t 0.00003..\n",
      "250\t 0.00003..\t 0.00003..\n",
      "251\t 0.00003..\t 0.00003..\n",
      "252\t 0.00003..\t 0.00004..\n",
      "253\t 0.00003..\t 0.00003..\n",
      "254\t 0.00003..\t 0.00003..\n",
      "255\t 0.00003..\t 0.00003..\n",
      "256\t 0.00003..\t 0.00003..\n",
      "257\t 0.00003..\t 0.00003..\n",
      "258\t 0.00003..\t 0.00003..\n",
      "259\t 0.00003..\t 0.00003..\n",
      "260\t 0.00003..\t 0.00003..\n",
      "261\t 0.00003..\t 0.00003..\n",
      "262\t 0.00003..\t 0.00003..\n",
      "263\t 0.00003..\t 0.00003..\n",
      "264\t 0.00003..\t 0.00003..\n",
      "265\t 0.00003..\t 0.00003..\n",
      "266\t 0.00003..\t 0.00003..\n",
      "267\t 0.00003..\t 0.00003..\n",
      "268\t 0.00003..\t 0.00003..\n",
      "269\t 0.00003..\t 0.00003..\n",
      "270\t 0.00003..\t 0.00003..\n",
      "271\t 0.00003..\t 0.00003..\n",
      "272\t 0.00003..\t 0.00003..\n",
      "273\t 0.00003..\t 0.00003..\n",
      "274\t 0.00003..\t 0.00003..\n",
      "275\t 0.00003..\t 0.00003..\n",
      "276\t 0.00003..\t 0.00003..\n",
      "277\t 0.00003..\t 0.00003..\n",
      "278\t 0.00003..\t 0.00003..\n",
      "279\t 0.00003..\t 0.00003..\n",
      "280\t 0.00003..\t 0.00003..\n",
      "281\t 0.00003..\t 0.00003..\n",
      "282\t 0.00003..\t 0.00003..\n",
      "283\t 0.00003..\t 0.00003..\n",
      "284\t 0.00003..\t 0.00003..\n",
      "285\t 0.00003..\t 0.00003..\n",
      "286\t 0.00003..\t 0.00003..\n",
      "287\t 0.00003..\t 0.00003..\n",
      "288\t 0.00003..\t 0.00003..\n",
      "289\t 0.00003..\t 0.00003..\n",
      "290\t 0.00003..\t 0.00003..\n",
      "291\t 0.00003..\t 0.00003..\n",
      "292\t 0.00003..\t 0.00003..\n",
      "293\t 0.00003..\t 0.00003..\n",
      "294\t 0.00003..\t 0.00003..\n",
      "295\t 0.00003..\t 0.00003..\n",
      "296\t 0.00003..\t 0.00003..\n",
      "297\t 0.00003..\t 0.00003..\n",
      "298\t 0.00003..\t 0.00003..\n",
      "299\t 0.00003..\t 0.00003..\n",
      "300\t 0.00003..\t 0.00003..\n",
      "301\t 0.00003..\t 0.00003..\n",
      "302\t 0.00003..\t 0.00003..\n",
      "303\t 0.00003..\t 0.00003..\n",
      "304\t 0.00003..\t 0.00003..\n",
      "305\t 0.00003..\t 0.00003..\n",
      "306\t 0.00003..\t 0.00003..\n",
      "307\t 0.00003..\t 0.00003..\n",
      "308\t 0.00003..\t 0.00003..\n",
      "309\t 0.00003..\t 0.00003..\n",
      "310\t 0.00003..\t 0.00003..\n",
      "311\t 0.00003..\t 0.00003..\n",
      "312\t 0.00003..\t 0.00003..\n",
      "313\t 0.00003..\t 0.00003..\n",
      "314\t 0.00003..\t 0.00003..\n",
      "315\t 0.00003..\t 0.00003..\n",
      "316\t 0.00003..\t 0.00003..\n",
      "317\t 0.00003..\t 0.00003..\n",
      "318\t 0.00003..\t 0.00003..\n",
      "319\t 0.00003..\t 0.00003..\n",
      "320\t 0.00003..\t 0.00003..\n",
      "321\t 0.00003..\t 0.00003..\n",
      "322\t 0.00003..\t 0.00003..\n",
      "323\t 0.00003..\t 0.00003..\n",
      "324\t 0.00003..\t 0.00003..\n",
      "325\t 0.00003..\t 0.00003..\n",
      "326\t 0.00003..\t 0.00003..\n",
      "327\t 0.00003..\t 0.00003..\n",
      "328\t 0.00003..\t 0.00003..\n",
      "329\t 0.00003..\t 0.00003..\n",
      "330\t 0.00003..\t 0.00003..\n",
      "331\t 0.00003..\t 0.00003..\n",
      "332\t 0.00003..\t 0.00003..\n",
      "333\t 0.00003..\t 0.00003..\n",
      "334\t 0.00003..\t 0.00003..\n",
      "335\t 0.00003..\t 0.00003..\n",
      "336\t 0.00003..\t 0.00003..\n",
      "337\t 0.00003..\t 0.00003..\n",
      "338\t 0.00003..\t 0.00003..\n",
      "339\t 0.00003..\t 0.00003..\n",
      "340\t 0.00003..\t 0.00003..\n",
      "341\t 0.00003..\t 0.00003..\n",
      "342\t 0.00003..\t 0.00003..\n",
      "343\t 0.00003..\t 0.00003..\n",
      "344\t 0.00003..\t 0.00003..\n",
      "345\t 0.00003..\t 0.00003..\n",
      "346\t 0.00003..\t 0.00003..\n",
      "347\t 0.00003..\t 0.00003..\n",
      "348\t 0.00003..\t 0.00003..\n",
      "349\t 0.00003..\t 0.00003..\n",
      "350\t 0.00003..\t 0.00003..\n",
      "351\t 0.00003..\t 0.00003..\n",
      "352\t 0.00003..\t 0.00003..\n",
      "353\t 0.00003..\t 0.00003..\n",
      "354\t 0.00003..\t 0.00003..\n",
      "355\t 0.00003..\t 0.00003..\n",
      "356\t 0.00003..\t 0.00003..\n",
      "357\t 0.00003..\t 0.00003..\n",
      "358\t 0.00003..\t 0.00003..\n",
      "359\t 0.00003..\t 0.00003..\n",
      "360\t 0.00003..\t 0.00003..\n",
      "361\t 0.00003..\t 0.00003..\n",
      "362\t 0.00003..\t 0.00003..\n",
      "363\t 0.00003..\t 0.00003..\n",
      "364\t 0.00003..\t 0.00003..\n",
      "365\t 0.00003..\t 0.00003..\n",
      "366\t 0.00003..\t 0.00003..\n",
      "367\t 0.00003..\t 0.00003..\n",
      "368\t 0.00003..\t 0.00003..\n",
      "369\t 0.00003..\t 0.00003..\n",
      "370\t 0.00003..\t 0.00003..\n",
      "371\t 0.00003..\t 0.00003..\n",
      "372\t 0.00003..\t 0.00003..\n",
      "373\t 0.00003..\t 0.00003..\n",
      "374\t 0.00003..\t 0.00003..\n",
      "375\t 0.00003..\t 0.00003..\n",
      "376\t 0.00003..\t 0.00003..\n",
      "377\t 0.00003..\t 0.00003..\n",
      "378\t 0.00003..\t 0.00003..\n",
      "379\t 0.00003..\t 0.00003..\n",
      "380\t 0.00003..\t 0.00003..\n",
      "381\t 0.00003..\t 0.00003..\n",
      "382\t 0.00003..\t 0.00003..\n",
      "383\t 0.00003..\t 0.00003..\n",
      "384\t 0.00003..\t 0.00003..\n",
      "385\t 0.00003..\t 0.00003..\n",
      "386\t 0.00003..\t 0.00003..\n",
      "387\t 0.00003..\t 0.00003..\n",
      "388\t 0.00003..\t 0.00003..\n",
      "389\t 0.00003..\t 0.00003..\n",
      "390\t 0.00003..\t 0.00003..\n",
      "391\t 0.00003..\t 0.00003..\n",
      "392\t 0.00003..\t 0.00003..\n",
      "393\t 0.00003..\t 0.00003..\n",
      "394\t 0.00003..\t 0.00003..\n",
      "395\t 0.00003..\t 0.00003..\n",
      "396\t 0.00003..\t 0.00003..\n",
      "397\t 0.00003..\t 0.00003..\n",
      "398\t 0.00003..\t 0.00003..\n",
      "399\t 0.00003..\t 0.00003..\n",
      "400\t 0.00003..\t 0.00003..\n",
      "401\t 0.00003..\t 0.00003..\n",
      "402\t 0.00003..\t 0.00003..\n",
      "403\t 0.00003..\t 0.00003..\n",
      "404\t 0.00003..\t 0.00003..\n",
      "405\t 0.00003..\t 0.00003..\n",
      "406\t 0.00003..\t 0.00003..\n",
      "407\t 0.00003..\t 0.00003..\n",
      "408\t 0.00003..\t 0.00003..\n",
      "409\t 0.00003..\t 0.00003..\n",
      "410\t 0.00003..\t 0.00003..\n",
      "411\t 0.00003..\t 0.00003..\n",
      "412\t 0.00003..\t 0.00003..\n",
      "413\t 0.00003..\t 0.00003..\n",
      "414\t 0.00003..\t 0.00003..\n",
      "415\t 0.00003..\t 0.00003..\n",
      "416\t 0.00003..\t 0.00003..\n",
      "417\t 0.00003..\t 0.00003..\n",
      "418\t 0.00003..\t 0.00003..\n",
      "419\t 0.00003..\t 0.00003..\n",
      "420\t 0.00003..\t 0.00003..\n",
      "421\t 0.00003..\t 0.00003..\n",
      "422\t 0.00003..\t 0.00003..\n",
      "423\t 0.00003..\t 0.00003..\n",
      "424\t 0.00003..\t 0.00003..\n",
      "425\t 0.00003..\t 0.00003..\n",
      "426\t 0.00003..\t 0.00003..\n",
      "427\t 0.00003..\t 0.00003..\n",
      "428\t 0.00003..\t 0.00003..\n",
      "429\t 0.00003..\t 0.00003..\n",
      "430\t 0.00003..\t 0.00003..\n",
      "431\t 0.00003..\t 0.00003..\n",
      "432\t 0.00003..\t 0.00003..\n",
      "433\t 0.00003..\t 0.00003..\n",
      "434\t 0.00003..\t 0.00003..\n",
      "435\t 0.00003..\t 0.00003..\n",
      "436\t 0.00003..\t 0.00003..\n",
      "437\t 0.00003..\t 0.00003..\n",
      "438\t 0.00003..\t 0.00003..\n",
      "439\t 0.00003..\t 0.00003..\n",
      "440\t 0.00003..\t 0.00003..\n",
      "441\t 0.00003..\t 0.00003..\n",
      "442\t 0.00003..\t 0.00003..\n",
      "443\t 0.00003..\t 0.00003..\n",
      "444\t 0.00003..\t 0.00003..\n",
      "445\t 0.00003..\t 0.00003..\n",
      "446\t 0.00003..\t 0.00003..\n",
      "447\t 0.00003..\t 0.00003..\n",
      "448\t 0.00003..\t 0.00003..\n",
      "449\t 0.00003..\t 0.00003..\n",
      "450\t 0.00003..\t 0.00003..\n",
      "451\t 0.00003..\t 0.00003..\n",
      "452\t 0.00003..\t 0.00003..\n",
      "453\t 0.00003..\t 0.00003..\n",
      "454\t 0.00003..\t 0.00003..\n",
      "455\t 0.00003..\t 0.00003..\n",
      "456\t 0.00003..\t 0.00003..\n",
      "457\t 0.00003..\t 0.00003..\n",
      "458\t 0.00003..\t 0.00003..\n",
      "459\t 0.00003..\t 0.00003..\n",
      "460\t 0.00003..\t 0.00003..\n",
      "461\t 0.00003..\t 0.00003..\n",
      "462\t 0.00003..\t 0.00003..\n",
      "463\t 0.00003..\t 0.00003..\n",
      "464\t 0.00003..\t 0.00003..\n",
      "465\t 0.00003..\t 0.00003..\n",
      "466\t 0.00003..\t 0.00003..\n",
      "467\t 0.00003..\t 0.00003..\n",
      "468\t 0.00003..\t 0.00003..\n",
      "469\t 0.00003..\t 0.00003..\n",
      "470\t 0.00003..\t 0.00003..\n",
      "471\t 0.00003..\t 0.00003..\n",
      "472\t 0.00003..\t 0.00003..\n",
      "473\t 0.00003..\t 0.00003..\n",
      "474\t 0.00003..\t 0.00003..\n",
      "475\t 0.00003..\t 0.00003..\n",
      "476\t 0.00003..\t 0.00003..\n",
      "477\t 0.00003..\t 0.00003..\n",
      "478\t 0.00003..\t 0.00003..\n",
      "479\t 0.00003..\t 0.00003..\n",
      "480\t 0.00003..\t 0.00003..\n",
      "481\t 0.00003..\t 0.00003..\n",
      "482\t 0.00003..\t 0.00003..\n",
      "483\t 0.00003..\t 0.00003..\n",
      "484\t 0.00003..\t 0.00003..\n",
      "485\t 0.00003..\t 0.00003..\n",
      "486\t 0.00003..\t 0.00003..\n",
      "487\t 0.00003..\t 0.00003..\n",
      "488\t 0.00003..\t 0.00003..\n",
      "489\t 0.00003..\t 0.00003..\n",
      "490\t 0.00003..\t 0.00003..\n",
      "491\t 0.00003..\t 0.00003..\n",
      "492\t 0.00003..\t 0.00003..\n",
      "493\t 0.00003..\t 0.00003..\n",
      "494\t 0.00003..\t 0.00003..\n",
      "495\t 0.00003..\t 0.00003..\n",
      "496\t 0.00003..\t 0.00003..\n",
      "497\t 0.00003..\t 0.00003..\n",
      "498\t 0.00003..\t 0.00003..\n",
      "499\t 0.00003..\t 0.00003..\n",
      "500\t 0.00003..\t 0.00003..\n",
      "---------- Best : 0.000  at epoch  493  /  500\n",
      "Execution time=1667.07s\n"
     ]
    },
    {
     "data": {
      "image/png": "[encoded data removed]",
      "text/plain": [
       "<Figure size 648x108 with 2 Axes>"
      ]
     },
     "metadata": {
      "needs_background": "light",
      "tags": []
     },
     "output_type": "display_data"
    }
   ],
   "source": [
    "epochs_counter=500\n",
    "batch_size=64\n",
    "train_losses, valid_losses = train(model,X_train_th,X_valid_th,Y_train_th,Y_valid_th,epochs=epochs_counter,batch_size=batch_size)"
   ]
  },
  {
   "cell_type": "code",
   "execution_count": 29,
   "metadata": {
    "colab": {
     "base_uri": "https://localhost:8080/",
     "height": 204
    },
    "colab_type": "code",
    "executionInfo": {
     "elapsed": 1329,
     "status": "ok",
     "timestamp": 1591738884895,
     "user": {
      "displayName": "Gabriel Callado",
      "photoUrl": "https://lh3.googleusercontent.com/a-/AOh14Ghnvi183GuMBSeeGPSUTAterZ8HcEuC0_0pR7xFtA=s64",
      "userId": "08786233999723143686"
     },
     "user_tz": 180
    },
    "id": "CH6nwo7BB89d",
    "outputId": "72d3a05b-50f4-416f-9be4-8e7bfe01718c"
   },
   "outputs": [
    {
     "data": {
      "text/plain": [
       "Sequential(\n",
       "  (0): Conv1d(64, 128, kernel_size=(10,), stride=(2,), padding=(4,))\n",
       "  (1): LeakyReLU(negative_slope=0.01)\n",
       "  (2): MaxPool1d(kernel_size=2, stride=2, padding=0, dilation=1, ceil_mode=False)\n",
       "  (3): Conv1d(128, 64, kernel_size=(5,), stride=(2,), padding=(1,))\n",
       "  (4): LeakyReLU(negative_slope=0.01)\n",
       "  (5): MaxPool1d(kernel_size=12, stride=1, padding=0, dilation=1, ceil_mode=False)\n",
       "  (6): Flatten()\n",
       "  (7): Linear(in_features=64, out_features=64, bias=True)\n",
       "  (8): Tanh()\n",
       ")"
      ]
     },
     "execution_count": 29,
     "metadata": {
      "tags": []
     },
     "output_type": "execute_result"
    }
   ],
   "source": [
    "model"
   ]
  },
  {
   "cell_type": "code",
   "execution_count": 0,
   "metadata": {
    "colab": {},
    "colab_type": "code",
    "id": "glc7JcBEEBC0"
   },
   "outputs": [],
   "source": [
    "#TO SAVE THE MODEL\n",
    "\n",
    "# Here we create a dictionnary to store what we need: \n",
    "# 1/ the epoch number\n",
    "# 2/ the batch size\n",
    "# 2/ the paramters of the model\n",
    "# 3/ the paramters of the optimizer\n",
    "# 4/ the loss function we used\n",
    "tosave_data = {'epoch': epochs_counter,\n",
    "               'batch_size': batch_size,\n",
    "               'model_state_dict': model.state_dict(),\n",
    "               'optimizer_state_dict': optimizer.state_dict(),\n",
    "               'loss': loss_fn,\n",
    "               'training loss': train_losses,\n",
    "               'valid loss': valid_losses,}\n",
    "# Write a pickle file using pytorch \n",
    "th.save(tosave_data, \"modelcv2_model1_u3\")"
   ]
  },
  {
   "cell_type": "code",
   "execution_count": 40,
   "metadata": {
    "colab": {
     "base_uri": "https://localhost:8080/",
     "height": 740
    },
    "colab_type": "code",
    "executionInfo": {
     "elapsed": 3387,
     "status": "ok",
     "timestamp": 1591742844837,
     "user": {
      "displayName": "Gabriel Callado",
      "photoUrl": "https://lh3.googleusercontent.com/a-/AOh14Ghnvi183GuMBSeeGPSUTAterZ8HcEuC0_0pR7xFtA=s64",
      "userId": "08786233999723143686"
     },
     "user_tz": 180
    },
    "id": "wWXFXfBNEJr6",
    "outputId": "793db3d0-be66-4a79-fc29-46cec2069ce7"
   },
   "outputs": [
    {
     "name": "stdout",
     "output_type": "stream",
     "text": [
      "Start_position= 200\n",
      "The true solution:\n"
     ]
    },
    {
     "data": {
      "image/png": "[encoded data removed]",
      "text/plain": [
       "<Figure size 720x180 with 2 Axes>"
      ]
     },
     "metadata": {
      "needs_background": "light",
      "tags": []
     },
     "output_type": "display_data"
    },
    {
     "name": "stdout",
     "output_type": "stream",
     "text": [
      "The model solution:\n"
     ]
    },
    {
     "data": {
      "image/png": "[encoded data removed]",
      "text/plain": [
       "<Figure size 720x180 with 2 Axes>"
      ]
     },
     "metadata": {
      "needs_background": "light",
      "tags": []
     },
     "output_type": "display_data"
    },
    {
     "data": {
      "image/png": "[encoded data removed]",
      "text/plain": [
       "<Figure size 432x288 with 1 Axes>"
      ]
     },
     "metadata": {
      "needs_background": "light",
      "tags": []
     },
     "output_type": "display_data"
    }
   ],
   "source": [
    "state_history_norm_th = th.from_numpy(state_history_norm).cuda()\n",
    "#state_history_norm_th = state_history_norm_th.unsqueeze(0)\n",
    "start_position=200\n",
    "N_step_pred=1000\n",
    "print('Start_position=', start_position)\n",
    "prediction(model,start_position,N_step_pred,state_history_norm_th)\n"
   ]
  },
  {
   "cell_type": "code",
   "execution_count": 41,
   "metadata": {
    "colab": {
     "base_uri": "https://localhost:8080/",
     "height": 740
    },
    "colab_type": "code",
    "executionInfo": {
     "elapsed": 3206,
     "status": "ok",
     "timestamp": 1591742850761,
     "user": {
      "displayName": "Gabriel Callado",
      "photoUrl": "https://lh3.googleusercontent.com/a-/AOh14Ghnvi183GuMBSeeGPSUTAterZ8HcEuC0_0pR7xFtA=s64",
      "userId": "08786233999723143686"
     },
     "user_tz": 180
    },
    "id": "71MuSXwGBmpf",
    "outputId": "69841c41-0710-49ed-c634-be5d87c5d6d7"
   },
   "outputs": [
    {
     "name": "stdout",
     "output_type": "stream",
     "text": [
      "Start_position= 3000\n",
      "The true solution:\n"
     ]
    },
    {
     "data": {
      "image/png": "[encoded data removed]",
      "text/plain": [
       "<Figure size 720x180 with 2 Axes>"
      ]
     },
     "metadata": {
      "needs_background": "light",
      "tags": []
     },
     "output_type": "display_data"
    },
    {
     "name": "stdout",
     "output_type": "stream",
     "text": [
      "The model solution:\n"
     ]
    },
    {
     "data": {
      "image/png": "[encoded data removed]",
      "text/plain": [
       "<Figure size 720x180 with 2 Axes>"
      ]
     },
     "metadata": {
      "needs_background": "light",
      "tags": []
     },
     "output_type": "display_data"
    },
    {
     "data": {
      "image/png": "[encoded data removed]",
      "text/plain": [
       "<Figure size 432x288 with 1 Axes>"
      ]
     },
     "metadata": {
      "needs_background": "light",
      "tags": []
     },
     "output_type": "display_data"
    }
   ],
   "source": [
    "state_history_norm_th = th.from_numpy(state_history_norm).cuda()\n",
    "#state_history_norm_th = state_history_norm_th.unsqueeze(0)\n",
    "start_position=3000\n",
    "N_step_pred=1000\n",
    "print('Start_position=', start_position)\n",
    "prediction(model,start_position,N_step_pred,state_history_norm_th)"
   ]
  },
  {
   "cell_type": "markdown",
   "metadata": {
    "colab_type": "text",
    "id": "ZhkNPpiVpdsU"
   },
   "source": [
    "## Model 2"
   ]
  },
  {
   "cell_type": "code",
   "execution_count": 0,
   "metadata": {
    "colab": {},
    "colab_type": "code",
    "id": "vV82e6K-pdCe"
   },
   "outputs": [],
   "source": [
    "Lin = size_conv_time\n",
    "in_ch_conv_1 = sample_points\n",
    "out_ch_conv_1 = 128\n",
    "k_conv_1 = 10\n",
    "st_conv_1 = 2\n",
    "pad_conv_1 = 4\n",
    "L_2 = (Lin+2*pad_conv_1-(k_conv_1-1)-1)/st_conv_1+1\n",
    "\n",
    "k_pool_1= 2\n",
    "st_pool_1= 2\n",
    "L_3 = (L_2 - k_pool_1)/st_pool_1 + 1\n",
    "\n",
    "in_ch_conv_2 = 128\n",
    "out_ch_conv_2 = 64\n",
    "k_conv_2 = 5\n",
    "st_conv_2 = 2\n",
    "pad_conv_2 = 1\n",
    "L_4 = (L_3+2*pad_conv_2-(k_conv_2-1)-1)/st_conv_2+1\n",
    "\n",
    "k_pool_2= 12\n",
    "st_pool_2= 1\n",
    "L_5 = (L_4 - k_pool_2)/st_pool_2 + 1\n",
    "\n",
    "in_lin = sample_points\n",
    "out_lin = sample_points\n",
    "hidden_lin1 = sample_points*3\n",
    "hidden_lin2 = sample_points*2\n",
    "\n",
    "\n",
    "model = th.nn.Sequential(\n",
    "    th.nn.Conv1d(in_ch_conv_1,out_ch_conv_1,k_conv_1,st_conv_1,pad_conv_1),\n",
    "    th.nn.LeakyReLU(),\n",
    "    th.nn.MaxPool1d(k_pool_1,st_pool_1),\n",
    "    th.nn.Conv1d(in_ch_conv_2,out_ch_conv_2,k_conv_2,st_conv_2,pad_conv_2),\n",
    "    th.nn.LeakyReLU(),\n",
    "    th.nn.MaxPool1d(k_pool_2,st_pool_2),\n",
    "    th.nn.Flatten(),\n",
    "    th.nn.Linear(in_lin,hidden_lin1),\n",
    "    th.nn.LeakyReLU(),\n",
    "    th.nn.Linear(hidden_lin1,hidden_lin2),\n",
    "    th.nn.Tanh(),\n",
    "    th.nn.Linear(hidden_lin2,out_lin),\n",
    "    th.nn.Tanh(),\n",
    ")\n",
    "model.double()\n",
    "model.cuda()\n",
    "optimizer=th.optim.Adam(model.parameters(),lr=1e-5)\n",
    "loss_fn=th.nn.MSELoss()"
   ]
  },
  {
   "cell_type": "code",
   "execution_count": 54,
   "metadata": {
    "colab": {
     "base_uri": "https://localhost:8080/",
     "height": 1000
    },
    "colab_type": "code",
    "executionInfo": {
     "elapsed": 217735,
     "status": "ok",
     "timestamp": 1591753711420,
     "user": {
      "displayName": "Gabriel Callado",
      "photoUrl": "https://lh3.googleusercontent.com/a-/AOh14Ghnvi183GuMBSeeGPSUTAterZ8HcEuC0_0pR7xFtA=s64",
      "userId": "08786233999723143686"
     },
     "user_tz": 180
    },
    "id": "E3y32HT7qHa4",
    "outputId": "cd58bc58-e3b0-490b-f4d4-73cccb3d3f24"
   },
   "outputs": [
    {
     "name": "stdout",
     "output_type": "stream",
     "text": [
      "Epoch\tTrain Loss\tValid Loss\n",
      "0\t 0.00002..\t 0.00002..\n",
      "1\t 0.00002..\t 0.00002..\n",
      "2\t 0.00002..\t 0.00002..\n",
      "3\t 0.00002..\t 0.00002..\n",
      "4\t 0.00002..\t 0.00002..\n",
      "5\t 0.00002..\t 0.00002..\n",
      "6\t 0.00002..\t 0.00002..\n",
      "7\t 0.00002..\t 0.00002..\n",
      "8\t 0.00002..\t 0.00002..\n",
      "9\t 0.00002..\t 0.00002..\n",
      "10\t 0.00002..\t 0.00002..\n",
      "11\t 0.00002..\t 0.00002..\n",
      "12\t 0.00002..\t 0.00002..\n",
      "13\t 0.00002..\t 0.00002..\n",
      "14\t 0.00002..\t 0.00002..\n",
      "15\t 0.00002..\t 0.00002..\n",
      "16\t 0.00002..\t 0.00002..\n",
      "17\t 0.00002..\t 0.00002..\n",
      "18\t 0.00002..\t 0.00002..\n",
      "19\t 0.00002..\t 0.00002..\n",
      "20\t 0.00002..\t 0.00002..\n",
      "21\t 0.00002..\t 0.00002..\n",
      "22\t 0.00002..\t 0.00002..\n",
      "23\t 0.00002..\t 0.00002..\n",
      "24\t 0.00002..\t 0.00002..\n",
      "25\t 0.00002..\t 0.00002..\n",
      "26\t 0.00002..\t 0.00002..\n",
      "27\t 0.00002..\t 0.00002..\n",
      "28\t 0.00002..\t 0.00002..\n",
      "29\t 0.00002..\t 0.00002..\n",
      "30\t 0.00002..\t 0.00002..\n",
      "31\t 0.00002..\t 0.00002..\n",
      "32\t 0.00002..\t 0.00002..\n",
      "33\t 0.00002..\t 0.00002..\n",
      "34\t 0.00002..\t 0.00002..\n",
      "35\t 0.00002..\t 0.00002..\n",
      "36\t 0.00002..\t 0.00002..\n",
      "37\t 0.00002..\t 0.00002..\n",
      "38\t 0.00002..\t 0.00002..\n",
      "39\t 0.00002..\t 0.00002..\n",
      "40\t 0.00002..\t 0.00002..\n",
      "41\t 0.00002..\t 0.00002..\n",
      "42\t 0.00002..\t 0.00002..\n",
      "43\t 0.00002..\t 0.00002..\n",
      "44\t 0.00002..\t 0.00002..\n",
      "45\t 0.00002..\t 0.00002..\n",
      "46\t 0.00002..\t 0.00002..\n",
      "47\t 0.00002..\t 0.00002..\n",
      "48\t 0.00002..\t 0.00002..\n",
      "49\t 0.00002..\t 0.00002..\n",
      "50\t 0.00002..\t 0.00002..\n",
      "51\t 0.00002..\t 0.00002..\n",
      "52\t 0.00002..\t 0.00002..\n",
      "53\t 0.00002..\t 0.00002..\n",
      "54\t 0.00002..\t 0.00002..\n",
      "55\t 0.00002..\t 0.00002..\n",
      "56\t 0.00002..\t 0.00002..\n",
      "57\t 0.00002..\t 0.00002..\n",
      "58\t 0.00002..\t 0.00002..\n",
      "59\t 0.00002..\t 0.00002..\n",
      "60\t 0.00002..\t 0.00002..\n",
      "61\t 0.00002..\t 0.00002..\n",
      "62\t 0.00002..\t 0.00002..\n",
      "63\t 0.00002..\t 0.00002..\n",
      "64\t 0.00002..\t 0.00002..\n",
      "65\t 0.00002..\t 0.00002..\n",
      "66\t 0.00002..\t 0.00002..\n",
      "67\t 0.00002..\t 0.00002..\n",
      "68\t 0.00002..\t 0.00002..\n",
      "69\t 0.00002..\t 0.00002..\n",
      "70\t 0.00001..\t 0.00002..\n",
      "71\t 0.00001..\t 0.00002..\n",
      "72\t 0.00001..\t 0.00002..\n",
      "73\t 0.00001..\t 0.00002..\n",
      "74\t 0.00001..\t 0.00002..\n",
      "75\t 0.00001..\t 0.00002..\n",
      "76\t 0.00001..\t 0.00002..\n",
      "77\t 0.00001..\t 0.00002..\n",
      "78\t 0.00001..\t 0.00002..\n",
      "79\t 0.00001..\t 0.00002..\n",
      "80\t 0.00001..\t 0.00002..\n",
      "81\t 0.00001..\t 0.00002..\n",
      "82\t 0.00001..\t 0.00002..\n",
      "83\t 0.00001..\t 0.00002..\n",
      "84\t 0.00001..\t 0.00002..\n",
      "85\t 0.00001..\t 0.00002..\n",
      "86\t 0.00001..\t 0.00002..\n",
      "87\t 0.00001..\t 0.00001..\n",
      "88\t 0.00001..\t 0.00002..\n",
      "89\t 0.00001..\t 0.00001..\n",
      "90\t 0.00001..\t 0.00002..\n",
      "91\t 0.00001..\t 0.00002..\n",
      "92\t 0.00001..\t 0.00001..\n",
      "93\t 0.00001..\t 0.00002..\n",
      "94\t 0.00001..\t 0.00002..\n",
      "95\t 0.00001..\t 0.00001..\n",
      "96\t 0.00001..\t 0.00001..\n",
      "97\t 0.00001..\t 0.00001..\n",
      "98\t 0.00001..\t 0.00001..\n",
      "99\t 0.00001..\t 0.00001..\n",
      "100\t 0.00001..\t 0.00001..\n",
      "101\t 0.00001..\t 0.00002..\n",
      "102\t 0.00001..\t 0.00001..\n",
      "103\t 0.00001..\t 0.00002..\n",
      "104\t 0.00001..\t 0.00001..\n",
      "105\t 0.00001..\t 0.00002..\n",
      "106\t 0.00001..\t 0.00001..\n",
      "107\t 0.00001..\t 0.00001..\n",
      "108\t 0.00001..\t 0.00001..\n",
      "109\t 0.00001..\t 0.00001..\n",
      "110\t 0.00001..\t 0.00001..\n",
      "111\t 0.00001..\t 0.00001..\n",
      "112\t 0.00001..\t 0.00001..\n",
      "113\t 0.00001..\t 0.00001..\n",
      "114\t 0.00001..\t 0.00001..\n",
      "115\t 0.00001..\t 0.00001..\n",
      "116\t 0.00001..\t 0.00001..\n",
      "117\t 0.00001..\t 0.00001..\n",
      "118\t 0.00001..\t 0.00001..\n",
      "119\t 0.00001..\t 0.00001..\n",
      "120\t 0.00001..\t 0.00001..\n",
      "121\t 0.00001..\t 0.00001..\n",
      "122\t 0.00001..\t 0.00001..\n",
      "123\t 0.00001..\t 0.00001..\n",
      "124\t 0.00001..\t 0.00001..\n",
      "125\t 0.00001..\t 0.00001..\n",
      "126\t 0.00001..\t 0.00001..\n",
      "127\t 0.00001..\t 0.00001..\n",
      "128\t 0.00001..\t 0.00001..\n",
      "129\t 0.00001..\t 0.00001..\n",
      "130\t 0.00001..\t 0.00001..\n",
      "131\t 0.00001..\t 0.00001..\n",
      "132\t 0.00001..\t 0.00001..\n",
      "133\t 0.00001..\t 0.00001..\n",
      "134\t 0.00001..\t 0.00001..\n",
      "135\t 0.00001..\t 0.00001..\n",
      "136\t 0.00001..\t 0.00001..\n",
      "137\t 0.00001..\t 0.00001..\n",
      "138\t 0.00001..\t 0.00001..\n",
      "139\t 0.00001..\t 0.00001..\n",
      "140\t 0.00001..\t 0.00001..\n",
      "141\t 0.00001..\t 0.00001..\n",
      "142\t 0.00001..\t 0.00001..\n",
      "143\t 0.00001..\t 0.00001..\n",
      "144\t 0.00001..\t 0.00001..\n",
      "145\t 0.00001..\t 0.00001..\n",
      "146\t 0.00001..\t 0.00001..\n",
      "147\t 0.00001..\t 0.00001..\n",
      "148\t 0.00001..\t 0.00001..\n",
      "149\t 0.00001..\t 0.00001..\n",
      "150\t 0.00001..\t 0.00001..\n",
      "151\t 0.00001..\t 0.00001..\n",
      "152\t 0.00001..\t 0.00001..\n",
      "153\t 0.00001..\t 0.00001..\n",
      "154\t 0.00001..\t 0.00001..\n",
      "155\t 0.00001..\t 0.00001..\n",
      "156\t 0.00001..\t 0.00001..\n",
      "157\t 0.00001..\t 0.00001..\n",
      "158\t 0.00001..\t 0.00001..\n",
      "159\t 0.00001..\t 0.00001..\n",
      "160\t 0.00001..\t 0.00001..\n",
      "161\t 0.00001..\t 0.00001..\n",
      "162\t 0.00001..\t 0.00001..\n",
      "163\t 0.00001..\t 0.00001..\n",
      "164\t 0.00001..\t 0.00001..\n",
      "165\t 0.00001..\t 0.00001..\n",
      "166\t 0.00001..\t 0.00001..\n",
      "167\t 0.00001..\t 0.00001..\n",
      "168\t 0.00001..\t 0.00001..\n",
      "169\t 0.00001..\t 0.00001..\n",
      "170\t 0.00001..\t 0.00001..\n",
      "171\t 0.00001..\t 0.00001..\n",
      "172\t 0.00001..\t 0.00001..\n",
      "173\t 0.00001..\t 0.00001..\n",
      "174\t 0.00001..\t 0.00001..\n",
      "175\t 0.00001..\t 0.00001..\n",
      "176\t 0.00001..\t 0.00001..\n",
      "177\t 0.00001..\t 0.00001..\n",
      "178\t 0.00001..\t 0.00001..\n",
      "179\t 0.00001..\t 0.00001..\n",
      "180\t 0.00001..\t 0.00001..\n",
      "181\t 0.00001..\t 0.00001..\n",
      "182\t 0.00001..\t 0.00001..\n",
      "183\t 0.00001..\t 0.00001..\n",
      "184\t 0.00001..\t 0.00001..\n",
      "185\t 0.00001..\t 0.00001..\n",
      "186\t 0.00001..\t 0.00001..\n",
      "187\t 0.00001..\t 0.00001..\n",
      "188\t 0.00001..\t 0.00001..\n",
      "189\t 0.00001..\t 0.00001..\n",
      "190\t 0.00001..\t 0.00001..\n",
      "191\t 0.00001..\t 0.00001..\n",
      "192\t 0.00001..\t 0.00001..\n",
      "193\t 0.00001..\t 0.00001..\n",
      "194\t 0.00001..\t 0.00001..\n",
      "195\t 0.00001..\t 0.00001..\n",
      "196\t 0.00001..\t 0.00001..\n",
      "197\t 0.00001..\t 0.00001..\n",
      "198\t 0.00001..\t 0.00001..\n",
      "199\t 0.00001..\t 0.00001..\n",
      "200\t 0.00001..\t 0.00001..\n",
      "201\t 0.00001..\t 0.00001..\n",
      "202\t 0.00001..\t 0.00001..\n",
      "203\t 0.00001..\t 0.00001..\n",
      "204\t 0.00001..\t 0.00001..\n",
      "205\t 0.00001..\t 0.00001..\n",
      "206\t 0.00001..\t 0.00001..\n",
      "207\t 0.00001..\t 0.00001..\n",
      "208\t 0.00001..\t 0.00001..\n",
      "209\t 0.00001..\t 0.00001..\n",
      "210\t 0.00001..\t 0.00001..\n",
      "211\t 0.00001..\t 0.00001..\n",
      "212\t 0.00001..\t 0.00001..\n",
      "213\t 0.00001..\t 0.00001..\n",
      "214\t 0.00001..\t 0.00001..\n",
      "215\t 0.00001..\t 0.00001..\n",
      "216\t 0.00001..\t 0.00001..\n",
      "217\t 0.00001..\t 0.00001..\n",
      "218\t 0.00001..\t 0.00001..\n",
      "219\t 0.00001..\t 0.00001..\n",
      "220\t 0.00001..\t 0.00001..\n",
      "221\t 0.00001..\t 0.00001..\n",
      "222\t 0.00001..\t 0.00001..\n",
      "223\t 0.00001..\t 0.00001..\n",
      "224\t 0.00001..\t 0.00001..\n",
      "225\t 0.00001..\t 0.00001..\n",
      "226\t 0.00001..\t 0.00001..\n",
      "227\t 0.00001..\t 0.00001..\n",
      "228\t 0.00001..\t 0.00001..\n",
      "229\t 0.00001..\t 0.00001..\n",
      "230\t 0.00001..\t 0.00001..\n",
      "231\t 0.00001..\t 0.00001..\n",
      "232\t 0.00001..\t 0.00001..\n",
      "233\t 0.00001..\t 0.00001..\n",
      "234\t 0.00001..\t 0.00001..\n",
      "235\t 0.00001..\t 0.00001..\n",
      "236\t 0.00001..\t 0.00001..\n",
      "237\t 0.00001..\t 0.00001..\n",
      "238\t 0.00001..\t 0.00001..\n",
      "239\t 0.00001..\t 0.00001..\n",
      "240\t 0.00001..\t 0.00001..\n",
      "241\t 0.00001..\t 0.00001..\n",
      "242\t 0.00001..\t 0.00001..\n",
      "243\t 0.00001..\t 0.00001..\n",
      "244\t 0.00001..\t 0.00001..\n",
      "245\t 0.00001..\t 0.00001..\n",
      "246\t 0.00001..\t 0.00001..\n",
      "247\t 0.00001..\t 0.00001..\n",
      "248\t 0.00001..\t 0.00001..\n",
      "249\t 0.00001..\t 0.00001..\n",
      "250\t 0.00001..\t 0.00001..\n",
      "251\t 0.00001..\t 0.00001..\n",
      "252\t 0.00001..\t 0.00001..\n",
      "253\t 0.00001..\t 0.00001..\n",
      "254\t 0.00001..\t 0.00001..\n",
      "255\t 0.00001..\t 0.00001..\n",
      "256\t 0.00001..\t 0.00001..\n",
      "257\t 0.00001..\t 0.00001..\n",
      "258\t 0.00001..\t 0.00001..\n",
      "259\t 0.00001..\t 0.00001..\n",
      "260\t 0.00001..\t 0.00001..\n",
      "261\t 0.00001..\t 0.00001..\n",
      "262\t 0.00001..\t 0.00001..\n",
      "263\t 0.00001..\t 0.00001..\n",
      "264\t 0.00001..\t 0.00001..\n",
      "265\t 0.00001..\t 0.00001..\n",
      "266\t 0.00001..\t 0.00001..\n",
      "267\t 0.00001..\t 0.00001..\n",
      "268\t 0.00001..\t 0.00001..\n",
      "269\t 0.00001..\t 0.00001..\n",
      "270\t 0.00001..\t 0.00001..\n",
      "271\t 0.00001..\t 0.00001..\n",
      "272\t 0.00001..\t 0.00001..\n",
      "273\t 0.00001..\t 0.00001..\n",
      "274\t 0.00001..\t 0.00001..\n",
      "275\t 0.00001..\t 0.00001..\n",
      "276\t 0.00001..\t 0.00001..\n",
      "277\t 0.00001..\t 0.00001..\n",
      "278\t 0.00001..\t 0.00001..\n",
      "279\t 0.00001..\t 0.00001..\n",
      "280\t 0.00001..\t 0.00001..\n",
      "281\t 0.00001..\t 0.00001..\n",
      "282\t 0.00001..\t 0.00001..\n",
      "283\t 0.00001..\t 0.00001..\n",
      "284\t 0.00001..\t 0.00001..\n",
      "285\t 0.00001..\t 0.00001..\n",
      "286\t 0.00001..\t 0.00001..\n",
      "287\t 0.00001..\t 0.00001..\n",
      "288\t 0.00001..\t 0.00001..\n",
      "289\t 0.00001..\t 0.00001..\n",
      "290\t 0.00001..\t 0.00001..\n",
      "291\t 0.00001..\t 0.00001..\n",
      "292\t 0.00001..\t 0.00001..\n",
      "293\t 0.00001..\t 0.00001..\n",
      "294\t 0.00001..\t 0.00001..\n",
      "295\t 0.00001..\t 0.00001..\n",
      "296\t 0.00001..\t 0.00001..\n",
      "297\t 0.00001..\t 0.00001..\n",
      "298\t 0.00001..\t 0.00001..\n",
      "299\t 0.00001..\t 0.00001..\n",
      "300\t 0.00001..\t 0.00001..\n",
      "301\t 0.00001..\t 0.00001..\n",
      "302\t 0.00001..\t 0.00001..\n",
      "303\t 0.00001..\t 0.00001..\n",
      "304\t 0.00001..\t 0.00001..\n",
      "305\t 0.00001..\t 0.00001..\n",
      "306\t 0.00001..\t 0.00001..\n",
      "307\t 0.00001..\t 0.00001..\n",
      "308\t 0.00001..\t 0.00001..\n",
      "309\t 0.00001..\t 0.00001..\n",
      "310\t 0.00001..\t 0.00001..\n",
      "311\t 0.00001..\t 0.00001..\n",
      "312\t 0.00001..\t 0.00001..\n",
      "313\t 0.00001..\t 0.00001..\n",
      "314\t 0.00001..\t 0.00001..\n",
      "315\t 0.00001..\t 0.00001..\n",
      "316\t 0.00001..\t 0.00001..\n",
      "317\t 0.00001..\t 0.00001..\n",
      "318\t 0.00001..\t 0.00001..\n",
      "319\t 0.00001..\t 0.00001..\n",
      "320\t 0.00001..\t 0.00001..\n",
      "321\t 0.00001..\t 0.00001..\n",
      "322\t 0.00001..\t 0.00001..\n",
      "323\t 0.00001..\t 0.00001..\n",
      "324\t 0.00001..\t 0.00001..\n",
      "325\t 0.00001..\t 0.00001..\n",
      "326\t 0.00001..\t 0.00001..\n",
      "327\t 0.00001..\t 0.00001..\n",
      "328\t 0.00001..\t 0.00001..\n",
      "329\t 0.00001..\t 0.00001..\n",
      "330\t 0.00001..\t 0.00001..\n",
      "331\t 0.00001..\t 0.00001..\n",
      "332\t 0.00001..\t 0.00001..\n",
      "333\t 0.00001..\t 0.00001..\n",
      "334\t 0.00001..\t 0.00001..\n",
      "335\t 0.00001..\t 0.00001..\n",
      "336\t 0.00001..\t 0.00001..\n",
      "337\t 0.00001..\t 0.00001..\n",
      "338\t 0.00001..\t 0.00001..\n",
      "339\t 0.00001..\t 0.00001..\n",
      "340\t 0.00001..\t 0.00001..\n",
      "341\t 0.00001..\t 0.00001..\n",
      "342\t 0.00001..\t 0.00001..\n",
      "343\t 0.00001..\t 0.00001..\n",
      "344\t 0.00001..\t 0.00001..\n",
      "345\t 0.00001..\t 0.00001..\n",
      "346\t 0.00001..\t 0.00001..\n",
      "347\t 0.00001..\t 0.00001..\n",
      "348\t 0.00001..\t 0.00001..\n",
      "349\t 0.00001..\t 0.00001..\n",
      "350\t 0.00001..\t 0.00001..\n",
      "351\t 0.00001..\t 0.00001..\n",
      "352\t 0.00001..\t 0.00001..\n",
      "353\t 0.00001..\t 0.00001..\n",
      "354\t 0.00001..\t 0.00001..\n",
      "355\t 0.00001..\t 0.00001..\n",
      "356\t 0.00001..\t 0.00001..\n",
      "357\t 0.00001..\t 0.00001..\n",
      "358\t 0.00001..\t 0.00001..\n",
      "359\t 0.00001..\t 0.00001..\n",
      "360\t 0.00001..\t 0.00001..\n",
      "361\t 0.00001..\t 0.00001..\n",
      "362\t 0.00001..\t 0.00001..\n",
      "363\t 0.00001..\t 0.00001..\n",
      "364\t 0.00001..\t 0.00001..\n",
      "365\t 0.00001..\t 0.00001..\n",
      "366\t 0.00001..\t 0.00001..\n",
      "367\t 0.00001..\t 0.00001..\n",
      "368\t 0.00001..\t 0.00001..\n",
      "369\t 0.00001..\t 0.00001..\n",
      "370\t 0.00001..\t 0.00001..\n",
      "371\t 0.00001..\t 0.00001..\n",
      "372\t 0.00001..\t 0.00001..\n",
      "373\t 0.00001..\t 0.00001..\n",
      "374\t 0.00001..\t 0.00001..\n",
      "375\t 0.00001..\t 0.00001..\n",
      "376\t 0.00001..\t 0.00001..\n",
      "377\t 0.00001..\t 0.00001..\n",
      "378\t 0.00001..\t 0.00001..\n",
      "379\t 0.00001..\t 0.00001..\n",
      "380\t 0.00001..\t 0.00001..\n",
      "381\t 0.00001..\t 0.00001..\n",
      "382\t 0.00001..\t 0.00001..\n",
      "383\t 0.00001..\t 0.00001..\n",
      "384\t 0.00001..\t 0.00001..\n",
      "385\t 0.00001..\t 0.00001..\n",
      "386\t 0.00001..\t 0.00001..\n",
      "387\t 0.00001..\t 0.00001..\n",
      "388\t 0.00001..\t 0.00001..\n",
      "389\t 0.00001..\t 0.00001..\n",
      "390\t 0.00001..\t 0.00001..\n",
      "391\t 0.00001..\t 0.00001..\n",
      "392\t 0.00001..\t 0.00001..\n",
      "393\t 0.00001..\t 0.00001..\n",
      "394\t 0.00001..\t 0.00001..\n",
      "395\t 0.00001..\t 0.00001..\n",
      "396\t 0.00001..\t 0.00001..\n",
      "397\t 0.00001..\t 0.00001..\n",
      "398\t 0.00001..\t 0.00001..\n",
      "399\t 0.00001..\t 0.00001..\n",
      "400\t 0.00001..\t 0.00001..\n",
      "401\t 0.00001..\t 0.00001..\n",
      "402\t 0.00001..\t 0.00001..\n",
      "403\t 0.00001..\t 0.00001..\n",
      "404\t 0.00001..\t 0.00001..\n",
      "405\t 0.00001..\t 0.00001..\n",
      "406\t 0.00001..\t 0.00001..\n",
      "407\t 0.00001..\t 0.00001..\n",
      "408\t 0.00001..\t 0.00001..\n",
      "409\t 0.00001..\t 0.00001..\n",
      "410\t 0.00001..\t 0.00001..\n",
      "411\t 0.00001..\t 0.00001..\n",
      "412\t 0.00001..\t 0.00001..\n",
      "413\t 0.00001..\t 0.00001..\n",
      "414\t 0.00001..\t 0.00001..\n",
      "415\t 0.00001..\t 0.00001..\n",
      "416\t 0.00001..\t 0.00001..\n",
      "417\t 0.00001..\t 0.00001..\n",
      "418\t 0.00001..\t 0.00001..\n",
      "419\t 0.00001..\t 0.00001..\n",
      "420\t 0.00001..\t 0.00001..\n",
      "421\t 0.00001..\t 0.00001..\n",
      "422\t 0.00001..\t 0.00001..\n",
      "423\t 0.00001..\t 0.00001..\n",
      "424\t 0.00001..\t 0.00001..\n",
      "425\t 0.00001..\t 0.00001..\n",
      "426\t 0.00001..\t 0.00001..\n",
      "427\t 0.00001..\t 0.00001..\n",
      "428\t 0.00001..\t 0.00001..\n",
      "429\t 0.00001..\t 0.00001..\n",
      "430\t 0.00001..\t 0.00001..\n",
      "431\t 0.00001..\t 0.00001..\n",
      "432\t 0.00001..\t 0.00001..\n",
      "433\t 0.00001..\t 0.00001..\n",
      "434\t 0.00001..\t 0.00001..\n",
      "435\t 0.00001..\t 0.00001..\n",
      "436\t 0.00001..\t 0.00001..\n",
      "437\t 0.00001..\t 0.00001..\n",
      "438\t 0.00001..\t 0.00001..\n",
      "439\t 0.00001..\t 0.00001..\n",
      "440\t 0.00001..\t 0.00001..\n",
      "441\t 0.00001..\t 0.00001..\n",
      "442\t 0.00001..\t 0.00001..\n",
      "443\t 0.00001..\t 0.00001..\n",
      "444\t 0.00001..\t 0.00001..\n",
      "445\t 0.00001..\t 0.00001..\n",
      "446\t 0.00001..\t 0.00001..\n",
      "447\t 0.00001..\t 0.00001..\n",
      "448\t 0.00001..\t 0.00001..\n",
      "449\t 0.00001..\t 0.00001..\n",
      "450\t 0.00001..\t 0.00001..\n",
      "451\t 0.00001..\t 0.00001..\n",
      "452\t 0.00001..\t 0.00001..\n",
      "453\t 0.00001..\t 0.00001..\n",
      "454\t 0.00001..\t 0.00001..\n",
      "455\t 0.00001..\t 0.00001..\n",
      "456\t 0.00001..\t 0.00001..\n",
      "457\t 0.00001..\t 0.00001..\n",
      "458\t 0.00001..\t 0.00001..\n",
      "459\t 0.00001..\t 0.00001..\n",
      "460\t 0.00001..\t 0.00001..\n",
      "461\t 0.00001..\t 0.00001..\n",
      "462\t 0.00001..\t 0.00001..\n",
      "463\t 0.00001..\t 0.00001..\n",
      "464\t 0.00001..\t 0.00001..\n",
      "465\t 0.00001..\t 0.00001..\n",
      "466\t 0.00001..\t 0.00001..\n",
      "467\t 0.00001..\t 0.00001..\n",
      "468\t 0.00001..\t 0.00001..\n",
      "469\t 0.00001..\t 0.00001..\n",
      "470\t 0.00001..\t 0.00001..\n",
      "471\t 0.00001..\t 0.00001..\n",
      "472\t 0.00001..\t 0.00001..\n",
      "473\t 0.00001..\t 0.00001..\n",
      "474\t 0.00001..\t 0.00001..\n",
      "475\t 0.00001..\t 0.00001..\n",
      "476\t 0.00001..\t 0.00001..\n",
      "477\t 0.00001..\t 0.00001..\n",
      "478\t 0.00001..\t 0.00001..\n",
      "479\t 0.00001..\t 0.00001..\n",
      "480\t 0.00001..\t 0.00001..\n",
      "481\t 0.00001..\t 0.00001..\n",
      "482\t 0.00001..\t 0.00001..\n",
      "483\t 0.00001..\t 0.00001..\n",
      "484\t 0.00001..\t 0.00001..\n",
      "485\t 0.00001..\t 0.00001..\n",
      "486\t 0.00001..\t 0.00001..\n",
      "487\t 0.00001..\t 0.00001..\n",
      "488\t 0.00001..\t 0.00001..\n",
      "489\t 0.00001..\t 0.00001..\n",
      "490\t 0.00001..\t 0.00001..\n",
      "491\t 0.00001..\t 0.00001..\n",
      "492\t 0.00001..\t 0.00001..\n",
      "493\t 0.00001..\t 0.00001..\n",
      "494\t 0.00001..\t 0.00001..\n",
      "495\t 0.00001..\t 0.00001..\n",
      "496\t 0.00001..\t 0.00001..\n",
      "497\t 0.00001..\t 0.00001..\n",
      "498\t 0.00001..\t 0.00001..\n",
      "499\t 0.00001..\t 0.00001..\n",
      "500\t 0.00001..\t 0.00001..\n",
      "---------- Best : 0.000  at epoch  488  /  500\n",
      "Execution time=2037.62s\n"
     ]
    },
    {
     "data": {
      "image/png": "[encoded data removed]",
      "text/plain": [
       "<Figure size 648x108 with 2 Axes>"
      ]
     },
     "metadata": {
      "needs_background": "light",
      "tags": []
     },
     "output_type": "display_data"
    }
   ],
   "source": [
    "epochs_counter=500\n",
    "batch_size=64\n",
    "train_losses, valid_losses = train(model,X_train_th,X_valid_th,Y_train_th,Y_valid_th,epochs=epochs_counter,batch_size=batch_size)"
   ]
  },
  {
   "cell_type": "code",
   "execution_count": 49,
   "metadata": {
    "colab": {
     "base_uri": "https://localhost:8080/",
     "height": 273
    },
    "colab_type": "code",
    "executionInfo": {
     "elapsed": 968,
     "status": "ok",
     "timestamp": 1591749461299,
     "user": {
      "displayName": "Gabriel Callado",
      "photoUrl": "https://lh3.googleusercontent.com/a-/AOh14Ghnvi183GuMBSeeGPSUTAterZ8HcEuC0_0pR7xFtA=s64",
      "userId": "08786233999723143686"
     },
     "user_tz": 180
    },
    "id": "HsgzYyIGqTNr",
    "outputId": "779682a9-5b17-4362-f346-454e3a7d71e7"
   },
   "outputs": [
    {
     "data": {
      "text/plain": [
       "Sequential(\n",
       "  (0): Conv1d(64, 128, kernel_size=(10,), stride=(2,), padding=(4,))\n",
       "  (1): LeakyReLU(negative_slope=0.01)\n",
       "  (2): MaxPool1d(kernel_size=2, stride=2, padding=0, dilation=1, ceil_mode=False)\n",
       "  (3): Conv1d(128, 64, kernel_size=(5,), stride=(2,), padding=(1,))\n",
       "  (4): LeakyReLU(negative_slope=0.01)\n",
       "  (5): MaxPool1d(kernel_size=12, stride=1, padding=0, dilation=1, ceil_mode=False)\n",
       "  (6): Flatten()\n",
       "  (7): Linear(in_features=64, out_features=192, bias=True)\n",
       "  (8): LeakyReLU(negative_slope=0.01)\n",
       "  (9): Linear(in_features=192, out_features=128, bias=True)\n",
       "  (10): Tanh()\n",
       "  (11): Linear(in_features=128, out_features=64, bias=True)\n",
       "  (12): Tanh()\n",
       ")"
      ]
     },
     "execution_count": 49,
     "metadata": {
      "tags": []
     },
     "output_type": "execute_result"
    }
   ],
   "source": [
    "model"
   ]
  },
  {
   "cell_type": "code",
   "execution_count": 0,
   "metadata": {
    "colab": {},
    "colab_type": "code",
    "id": "MdN5A-yUqO6I"
   },
   "outputs": [],
   "source": [
    "#TO SAVE THE MODEL\n",
    "\n",
    "# Here we create a dictionnary to store what we need: \n",
    "# 1/ the epoch number\n",
    "# 2/ the batch size\n",
    "# 2/ the paramters of the model\n",
    "# 3/ the paramters of the optimizer\n",
    "# 4/ the loss function we used\n",
    "tosave_data = {'epoch': epochs_counter,\n",
    "               'batch_size': batch_size,\n",
    "               'model_state_dict': model.state_dict(),\n",
    "               'optimizer_state_dict': optimizer.state_dict(),\n",
    "               'loss': loss_fn,\n",
    "               'training loss': train_losses,\n",
    "               'valid loss': valid_losses,}\n",
    "# Write a pickle file using pytorch \n",
    "th.save(tosave_data, \"modelcv2_model2_u3\")"
   ]
  },
  {
   "cell_type": "code",
   "execution_count": 60,
   "metadata": {
    "colab": {
     "base_uri": "https://localhost:8080/",
     "height": 740
    },
    "colab_type": "code",
    "executionInfo": {
     "elapsed": 3261,
     "status": "ok",
     "timestamp": 1591754293337,
     "user": {
      "displayName": "Gabriel Callado",
      "photoUrl": "https://lh3.googleusercontent.com/a-/AOh14Ghnvi183GuMBSeeGPSUTAterZ8HcEuC0_0pR7xFtA=s64",
      "userId": "08786233999723143686"
     },
     "user_tz": 180
    },
    "id": "ATdF-qxTqWXI",
    "outputId": "f2e13b32-c086-4e95-e063-8e7c8a96fd0d"
   },
   "outputs": [
    {
     "name": "stdout",
     "output_type": "stream",
     "text": [
      "Start_position= 200\n",
      "The true solution:\n"
     ]
    },
    {
     "data": {
      "image/png": "[encoded data removed]",
      "text/plain": [
       "<Figure size 720x180 with 2 Axes>"
      ]
     },
     "metadata": {
      "needs_background": "light",
      "tags": []
     },
     "output_type": "display_data"
    },
    {
     "name": "stdout",
     "output_type": "stream",
     "text": [
      "The model solution:\n"
     ]
    },
    {
     "data": {
      "image/png": "[encoded data removed]",
      "text/plain": [
       "<Figure size 720x180 with 2 Axes>"
      ]
     },
     "metadata": {
      "needs_background": "light",
      "tags": []
     },
     "output_type": "display_data"
    },
    {
     "data": {
      "image/png": "[encoded data removed]",
      "text/plain": [
       "<Figure size 432x288 with 1 Axes>"
      ]
     },
     "metadata": {
      "needs_background": "light",
      "tags": []
     },
     "output_type": "display_data"
    }
   ],
   "source": [
    "state_history_norm_th = th.from_numpy(state_history_norm).cuda()\n",
    "#state_history_norm_th = state_history_norm_th.unsqueeze(0)\n",
    "start_position=200\n",
    "N_step_pred=1000\n",
    "print('Start_position=', start_position)\n",
    "prediction(model,start_position,N_step_pred,state_history_norm_th)"
   ]
  },
  {
   "cell_type": "code",
   "execution_count": 57,
   "metadata": {
    "colab": {
     "base_uri": "https://localhost:8080/",
     "height": 740
    },
    "colab_type": "code",
    "executionInfo": {
     "elapsed": 4678,
     "status": "ok",
     "timestamp": 1591753809621,
     "user": {
      "displayName": "Gabriel Callado",
      "photoUrl": "https://lh3.googleusercontent.com/a-/AOh14Ghnvi183GuMBSeeGPSUTAterZ8HcEuC0_0pR7xFtA=s64",
      "userId": "08786233999723143686"
     },
     "user_tz": 180
    },
    "id": "4VxhH7NtqGSb",
    "outputId": "2eb80a15-cc72-473c-d336-86d2685db63d"
   },
   "outputs": [
    {
     "name": "stdout",
     "output_type": "stream",
     "text": [
      "Start_position= 3000\n",
      "The true solution:\n"
     ]
    },
    {
     "data": {
      "image/png": "[encoded data removed]",
      "text/plain": [
       "<Figure size 720x180 with 2 Axes>"
      ]
     },
     "metadata": {
      "needs_background": "light",
      "tags": []
     },
     "output_type": "display_data"
    },
    {
     "name": "stdout",
     "output_type": "stream",
     "text": [
      "The model solution:\n"
     ]
    },
    {
     "data": {
      "image/png": "[encoded data removed]",
      "text/plain": [
       "<Figure size 720x180 with 2 Axes>"
      ]
     },
     "metadata": {
      "needs_background": "light",
      "tags": []
     },
     "output_type": "display_data"
    },
    {
     "data": {
      "image/png": "[encoded data removed]",
      "text/plain": [
       "<Figure size 432x288 with 1 Axes>"
      ]
     },
     "metadata": {
      "needs_background": "light",
      "tags": []
     },
     "output_type": "display_data"
    }
   ],
   "source": [
    "state_history_norm_th = th.from_numpy(state_history_norm).cuda()\n",
    "#state_history_norm_th = state_history_norm_th.unsqueeze(0)\n",
    "start_position=3000\n",
    "N_step_pred=1000\n",
    "print('Start_position=', start_position)\n",
    "prediction(model,start_position,N_step_pred,state_history_norm_th)"
   ]
  },
  {
   "cell_type": "code",
   "execution_count": 0,
   "metadata": {
    "colab": {},
    "colab_type": "code",
    "id": "0YIDiTAymk8O",
    "outputId": "6af8c833-deae-471d-f2dc-4a53fd8c52cd"
   },
   "outputs": [
    {
     "name": "stdout",
     "output_type": "stream",
     "text": [
      "Sequential(\n",
      "  (0): Conv1d(64, 128, kernel_size=(10,), stride=(2,), padding=(4,))\n",
      "  (1): LeakyReLU(negative_slope=0.01)\n",
      "  (2): MaxPool1d(kernel_size=2, stride=2, padding=0, dilation=1, ceil_mode=False)\n",
      "  (3): Conv1d(128, 64, kernel_size=(5,), stride=(2,), padding=(1,))\n",
      "  (4): LeakyReLU(negative_slope=0.01)\n",
      "  (5): MaxPool1d(kernel_size=12, stride=1, padding=0, dilation=1, ceil_mode=False)\n",
      "  (6): Flatten()\n",
      "  (7): Linear(in_features=64, out_features=192, bias=True)\n",
      "  (8): LeakyReLU(negative_slope=0.01)\n",
      "  (9): Linear(in_features=192, out_features=128, bias=True)\n",
      "  (10): Tanh()\n",
      "  (11): Linear(in_features=128, out_features=64, bias=True)\n",
      "  (12): Tanh()\n",
      ")\n",
      "Model's state_dict:\n",
      "0.weight \t torch.Size([128, 64, 10])\n",
      "0.bias \t torch.Size([128])\n",
      "3.weight \t torch.Size([64, 128, 5])\n",
      "3.bias \t torch.Size([64])\n",
      "7.weight \t torch.Size([192, 64])\n",
      "7.bias \t torch.Size([192])\n",
      "9.weight \t torch.Size([128, 192])\n",
      "9.bias \t torch.Size([128])\n",
      "11.weight \t torch.Size([64, 128])\n",
      "11.bias \t torch.Size([64])\n",
      "epoch: 500\n",
      "batch_size: 64\n",
      "loss: L1Loss()\n"
     ]
    },
    {
     "data": {
      "text/plain": [
       "(0, 0.002559431239274406)"
      ]
     },
     "execution_count": 16,
     "metadata": {
      "tags": []
     },
     "output_type": "execute_result"
    },
    {
     "data": {
      "image/png": "[encoded data removed]",
      "text/plain": [
       "<Figure size 648x108 with 2 Axes>"
      ]
     },
     "metadata": {
      "needs_background": "light",
      "tags": []
     },
     "output_type": "display_data"
    }
   ],
   "source": [
    "#TO LOAD THE MODEL\n",
    "\n",
    "# First create objects of the good types \n",
    "Lin = size_conv_time\n",
    "in_ch_conv_1 = sample_points\n",
    "out_ch_conv_1 = 128\n",
    "k_conv_1 = 10\n",
    "st_conv_1 = 2\n",
    "pad_conv_1 = 4\n",
    "L_2 = (Lin+2*pad_conv_1-(k_conv_1-1)-1)/st_conv_1+1\n",
    "\n",
    "k_pool_1= 2\n",
    "st_pool_1= 2\n",
    "L_3 = (L_2 - k_pool_1)/st_pool_1 + 1\n",
    "\n",
    "in_ch_conv_2 = 128\n",
    "out_ch_conv_2 = 64\n",
    "k_conv_2 = 5\n",
    "st_conv_2 = 2\n",
    "pad_conv_2 = 1\n",
    "L_4 = (L_3+2*pad_conv_2-(k_conv_2-1)-1)/st_conv_2+1\n",
    "\n",
    "k_pool_2= 12\n",
    "st_pool_2= 1\n",
    "L_5 = (L_4 - k_pool_2)/st_pool_2 + 1\n",
    "\n",
    "in_lin = sample_points\n",
    "out_lin = sample_points\n",
    "hidden_lin1 = sample_points*3\n",
    "hidden_lin2 = sample_points*2\n",
    "\n",
    "\n",
    "model = th.nn.Sequential(\n",
    "    th.nn.Conv1d(in_ch_conv_1,out_ch_conv_1,k_conv_1,st_conv_1,pad_conv_1),\n",
    "    th.nn.LeakyReLU(),\n",
    "    th.nn.MaxPool1d(k_pool_1,st_pool_1),\n",
    "    th.nn.Conv1d(in_ch_conv_2,out_ch_conv_2,k_conv_2,st_conv_2,pad_conv_2),\n",
    "    th.nn.LeakyReLU(),\n",
    "    th.nn.MaxPool1d(k_pool_2,st_pool_2),\n",
    "    th.nn.Flatten(),\n",
    "    th.nn.Linear(in_lin,hidden_lin1),\n",
    "    th.nn.LeakyReLU(),\n",
    "    th.nn.Linear(hidden_lin1,hidden_lin2),\n",
    "    th.nn.Tanh(),\n",
    "    th.nn.Linear(hidden_lin2,out_lin),\n",
    "    th.nn.Tanh(),\n",
    ")\n",
    "model.double()\n",
    "model.cuda()\n",
    "optimizer=th.optim.Adam(model.parameters(),lr=1e-4)\n",
    "loss_fn=th.nn.L1Loss()\n",
    "\n",
    "# Load the pickle file to read the dictionnary from the file\n",
    "checkpoint = th.load(\"modelcv2_model2_u3\")\n",
    "\n",
    "# restore the model and optimizer states: \n",
    "model.load_state_dict(checkpoint['model_state_dict'])\n",
    "optimizer.load_state_dict(checkpoint['optimizer_state_dict'])\n",
    "epoch = checkpoint['epoch']\n",
    "batch_size = checkpoint['batch_size']\n",
    "loss_fn=checkpoint['loss']\n",
    "train_losses=checkpoint['training loss']\n",
    "valid_losses=checkpoint['valid loss']\n",
    "\n",
    "\n",
    "# Print model's state_dict\n",
    "print(model)\n",
    "print(\"Model's state_dict:\")\n",
    "for param_tensor in model.state_dict():\n",
    "    print(param_tensor, \"\\t\", model.state_dict()[param_tensor].size())\n",
    "print(\"epoch:\", epoch)\n",
    "print(\"batch_size:\", batch_size)\n",
    "print(\"loss:\", loss_fn)\n",
    "    \n",
    "# Print optimizer's state_dict\n",
    "#print(\"Optimizer's state_dict:\")\n",
    "#for var_name in optimizer.state_dict():\n",
    "#    print(var_name, \"\\t\", optimizer.state_dict()[var_name])\n",
    "\n",
    "#plot some graphs\n",
    "plt.figure(figsize = (9, 1.5))\n",
    "ax= plt.subplot(1, 2, 1)\n",
    "plt.plot(train_losses)\n",
    "plt.title('Training losses')\n",
    "ax.set_ylim(bottom=0)\n",
    "ax= plt.subplot(1, 2, 2)\n",
    "plt.plot(valid_losses)\n",
    "plt.title('Valid losses')\n",
    "ax.set_ylim(bottom=0)"
   ]
  },
  {
   "cell_type": "code",
   "execution_count": 0,
   "metadata": {
    "colab": {},
    "colab_type": "code",
    "id": "EHv4QI73mk8Q",
    "outputId": "7034620f-9e86-4607-b63a-abe158f5b8c9"
   },
   "outputs": [
    {
     "ename": "RuntimeError",
     "evalue": "CUDA out of memory. Tried to allocate 2.00 MiB (GPU 0; 2.00 GiB total capacity; 215.66 MiB already allocated; 447.20 KiB free; 218.00 MiB reserved in total by PyTorch)",
     "output_type": "error",
     "traceback": [
      "\u001b[1;31m---------------------------------------------------------------------------\u001b[0m",
      "\u001b[1;31mRuntimeError\u001b[0m                              Traceback (most recent call last)",
      "\u001b[1;32m<ipython-input-36-7ba969869cef>\u001b[0m in \u001b[0;36m<module>\u001b[1;34m\u001b[0m\n\u001b[0;32m      3\u001b[0m \u001b[0mstart_position\u001b[0m\u001b[1;33m=\u001b[0m\u001b[1;36m8000\u001b[0m\u001b[1;33m\u001b[0m\u001b[1;33m\u001b[0m\u001b[0m\n\u001b[0;32m      4\u001b[0m \u001b[0mN_step_pred\u001b[0m\u001b[1;33m=\u001b[0m\u001b[1;36m500\u001b[0m\u001b[1;33m\u001b[0m\u001b[1;33m\u001b[0m\u001b[0m\n\u001b[1;32m----> 5\u001b[1;33m \u001b[0mprediction\u001b[0m\u001b[1;33m(\u001b[0m\u001b[0mmodel\u001b[0m\u001b[1;33m,\u001b[0m\u001b[0mstart_position\u001b[0m\u001b[1;33m,\u001b[0m\u001b[0mN_step_pred\u001b[0m\u001b[1;33m,\u001b[0m\u001b[0mstate_history_norm_th\u001b[0m\u001b[1;33m)\u001b[0m\u001b[1;33m\u001b[0m\u001b[1;33m\u001b[0m\u001b[0m\n\u001b[0m",
      "\u001b[1;32m<ipython-input-7-03f542ff0c08>\u001b[0m in \u001b[0;36mprediction\u001b[1;34m(model, start_position, N_step_pred, state_history_norm_th)\u001b[0m\n\u001b[0;32m     26\u001b[0m     \u001b[0msample_points\u001b[0m\u001b[1;33m=\u001b[0m\u001b[0mstate_history_norm_th\u001b[0m\u001b[1;33m.\u001b[0m\u001b[0msize\u001b[0m\u001b[1;33m(\u001b[0m\u001b[1;36m1\u001b[0m\u001b[1;33m)\u001b[0m\u001b[1;33m\u001b[0m\u001b[1;33m\u001b[0m\u001b[0m\n\u001b[0;32m     27\u001b[0m     \u001b[0mcurrent_state\u001b[0m \u001b[1;33m=\u001b[0m \u001b[0mth\u001b[0m\u001b[1;33m.\u001b[0m\u001b[0mzeros\u001b[0m\u001b[1;33m(\u001b[0m\u001b[1;33m(\u001b[0m\u001b[1;36m1\u001b[0m\u001b[1;33m,\u001b[0m \u001b[0msample_points\u001b[0m\u001b[1;33m,\u001b[0m \u001b[0msize_conv_time\u001b[0m\u001b[1;33m)\u001b[0m\u001b[1;33m)\u001b[0m\u001b[1;33m\u001b[0m\u001b[1;33m\u001b[0m\u001b[0m\n\u001b[1;32m---> 28\u001b[1;33m     \u001b[0mcurrent_state\u001b[0m\u001b[1;33m[\u001b[0m\u001b[1;36m0\u001b[0m\u001b[1;33m,\u001b[0m\u001b[1;33m:\u001b[0m\u001b[1;33m,\u001b[0m\u001b[1;33m:\u001b[0m\u001b[1;33m]\u001b[0m \u001b[1;33m=\u001b[0m \u001b[0mstate_history_norm_th\u001b[0m\u001b[1;33m[\u001b[0m\u001b[0mstart_position\u001b[0m\u001b[1;33m-\u001b[0m\u001b[1;36m100\u001b[0m\u001b[1;33m:\u001b[0m\u001b[0mstart_position\u001b[0m\u001b[1;33m,\u001b[0m\u001b[1;33m:\u001b[0m\u001b[1;33m]\u001b[0m\u001b[1;33m.\u001b[0m\u001b[0mT\u001b[0m\u001b[1;33m\u001b[0m\u001b[1;33m\u001b[0m\u001b[0m\n\u001b[0m\u001b[0;32m     29\u001b[0m     \u001b[0mcurrent_state\u001b[0m\u001b[1;33m=\u001b[0m\u001b[0mcurrent_state\u001b[0m\u001b[1;33m.\u001b[0m\u001b[0mdouble\u001b[0m\u001b[1;33m(\u001b[0m\u001b[1;33m)\u001b[0m\u001b[1;33m.\u001b[0m\u001b[0mcuda\u001b[0m\u001b[1;33m(\u001b[0m\u001b[1;33m)\u001b[0m\u001b[1;33m\u001b[0m\u001b[1;33m\u001b[0m\u001b[0m\n\u001b[0;32m     30\u001b[0m     \u001b[0mprediction_model\u001b[0m \u001b[1;33m=\u001b[0m \u001b[0mth\u001b[0m\u001b[1;33m.\u001b[0m\u001b[0mzeros\u001b[0m\u001b[1;33m(\u001b[0m\u001b[1;33m(\u001b[0m\u001b[0mN_step_pred\u001b[0m\u001b[1;33m,\u001b[0m \u001b[0msample_points\u001b[0m\u001b[1;33m)\u001b[0m\u001b[1;33m)\u001b[0m\u001b[1;33m\u001b[0m\u001b[1;33m\u001b[0m\u001b[0m\n",
      "\u001b[1;31mRuntimeError\u001b[0m: CUDA out of memory. Tried to allocate 2.00 MiB (GPU 0; 2.00 GiB total capacity; 215.66 MiB already allocated; 447.20 KiB free; 218.00 MiB reserved in total by PyTorch)"
     ]
    }
   ],
   "source": [
    "state_history_norm_th = th.from_numpy(state_history_norm).cuda()\n",
    "#state_history_norm_th = state_history_norm_th.unsqueeze(0)\n",
    "start_position=8000\n",
    "N_step_pred=500\n",
    "prediction(model,start_position,N_step_pred,state_history_norm_th)"
   ]
  }
 ],
 "metadata": {
  "accelerator": "GPU",
  "colab": {
   "collapsed_sections": [],
   "name": "KS-modelConv_2.ipynb",
   "provenance": []
  },
  "kernelspec": {
   "display_name": "Python 3",
   "language": "python",
   "name": "python3"
  },
  "language_info": {
   "codemirror_mode": {
    "name": "ipython",
    "version": 3
   },
   "file_extension": ".py",
   "mimetype": "text/x-python",
   "name": "python",
   "nbconvert_exporter": "python",
   "pygments_lexer": "ipython3",
   "version": "3.7.4"
  },
  "latex_envs": {
   "LaTeX_envs_menu_present": true,
   "autoclose": false,
   "autocomplete": true,
   "bibliofile": "biblio.bib",
   "cite_by": "apalike",
   "current_citInitial": 1,
   "eqLabelWithNumbers": true,
   "eqNumInitial": 1,
   "hotkeys": {
    "equation": "Ctrl-E",
    "itemize": "Ctrl-I"
   },
   "labels_anchors": false,
   "latex_user_defs": false,
   "report_style_numbering": false,
   "user_envs_cfg": false
  },
  "varInspector": {
   "cols": {
    "lenName": 16,
    "lenType": 16,
    "lenVar": 40
   },
   "kernels_config": {
    "python": {
     "delete_cmd_postfix": "",
     "delete_cmd_prefix": "del ",
     "library": "var_list.py",
     "varRefreshCmd": "print(var_dic_list())"
    },
    "r": {
     "delete_cmd_postfix": ") ",
     "delete_cmd_prefix": "rm(",
     "library": "var_list.r",
     "varRefreshCmd": "cat(var_dic_list()) "
    }
   },
   "types_to_exclude": [
    "module",
    "function",
    "builtin_function_or_method",
    "instance",
    "_Feature"
   ],
   "window_display": false
  }
 },
 "nbformat": 4,
 "nbformat_minor": 1
}
