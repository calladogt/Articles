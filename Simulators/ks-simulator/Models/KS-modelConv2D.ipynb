{
 "cells": [
  {
   "cell_type": "markdown",
   "metadata": {
    "colab_type": "text",
    "id": "mEmv9FsyCKU6"
   },
   "source": [
    "\n",
    "# Prediction of the KS system: a model using a 2D Convolution Neural Network\n",
    "\n",
    "In this notebook, I will use a model of Deep Learning to predict the KS system. More precisely, we wanna predict the next step of a given history of state of the system. To do it, a simple convolutional neural network will be used.\n",
    "\n",
    "To generate the data, I will use the KS.py code provided by Alessandro Bucci."
   ]
  },
  {
   "cell_type": "code",
   "execution_count": 1,
   "metadata": {
    "colab": {},
    "colab_type": "code",
    "executionInfo": {
     "elapsed": 3219,
     "status": "ok",
     "timestamp": 1594302966370,
     "user": {
      "displayName": "Gabriel Callado",
      "photoUrl": "https://lh3.googleusercontent.com/a-/AOh14Ghnvi183GuMBSeeGPSUTAterZ8HcEuC0_0pR7xFtA=s64",
      "userId": "08786233999723143686"
     },
     "user_tz": 180
    },
    "id": "rrWwDC5TCKU9"
   },
   "outputs": [],
   "source": [
    "import numpy as np\n",
    "import torch as th\n",
    "import time\n",
    "from scipy import stats\n",
    "#from KS import KS\n",
    "import matplotlib.pyplot as plt\n",
    "from sklearn import preprocessing"
   ]
  },
  {
   "cell_type": "code",
   "execution_count": null,
   "metadata": {
    "colab": {},
    "colab_type": "code",
    "id": "vblhn23zCZHj"
   },
   "outputs": [],
   "source": [
    "#Set a javascript interval to click on the connect button every 60 seconds. \n",
    "#Open developer-settings (in your web-browser) with Ctrl+Shift+i then click \n",
    "#on console tab and type this on the console prompt.\n",
    "function ClickConnect(){\n",
    "    console.log(\"Clicked on connect button\"); \n",
    "    document.querySelector(\"colab-connect-button\").click()\n",
    "}\n",
    "setInterval(ClickConnect,60000)"
   ]
  },
  {
   "cell_type": "code",
   "execution_count": 2,
   "metadata": {
    "colab": {},
    "colab_type": "code",
    "executionInfo": {
     "elapsed": 603,
     "status": "ok",
     "timestamp": 1594302966372,
     "user": {
      "displayName": "Gabriel Callado",
      "photoUrl": "https://lh3.googleusercontent.com/a-/AOh14Ghnvi183GuMBSeeGPSUTAterZ8HcEuC0_0pR7xFtA=s64",
      "userId": "08786233999723143686"
     },
     "user_tz": 180
    },
    "id": "seMr-weECKVF"
   },
   "outputs": [],
   "source": [
    "def drawKS(U_sim, x_axis, t_axis ,startT=0,endT=0, width = 10, divwidth = 4): \n",
    "    \"\"\"\n",
    "    This function will plot the evolution of the KS system (U_sim) over time (t_axis)\n",
    "    \n",
    "    \"\"\"\n",
    "    fig = plt.figure(figsize=(width, width/divwidth))\n",
    "    ax = fig.gca()\n",
    "    ola = ax.contourf(t_axis[startT:endT], x_axis, U_sim[startT:endT,:].T, 15)\n",
    "    cbar = plt.colorbar(ola)\n",
    "    plt.xlabel('Time evolution')\n",
    "    plt.ylabel('Position X')\n",
    "    plt.title('Spatiotemporal solution of KS equation')\n",
    "    plt.show()"
   ]
  },
  {
   "cell_type": "code",
   "execution_count": 3,
   "metadata": {
    "colab": {},
    "colab_type": "code",
    "executionInfo": {
     "elapsed": 698,
     "status": "ok",
     "timestamp": 1594302966712,
     "user": {
      "displayName": "Gabriel Callado",
      "photoUrl": "https://lh3.googleusercontent.com/a-/AOh14Ghnvi183GuMBSeeGPSUTAterZ8HcEuC0_0pR7xFtA=s64",
      "userId": "08786233999723143686"
     },
     "user_tz": 180
    },
    "id": "s7_tBZVPCKVJ"
   },
   "outputs": [],
   "source": [
    "def plothist(state_history,bins=30):\n",
    "    \"\"\"\n",
    "    plot the histogram of KS system data with the correct label\n",
    "    \n",
    "    \"\"\"\n",
    "    fig, ax = plt.subplots(figsize=(12, 5))\n",
    "    plt.hist(state_history,bins=30)\n",
    "    plt.xlabel('Values of velocity')\n",
    "    plt.ylabel('Frequency')\n",
    "    plt.title('Histogram of state_history')\n",
    "    plt.grid(True, color=\"#93a1a1\", alpha=0.3)"
   ]
  },
  {
   "cell_type": "code",
   "execution_count": 4,
   "metadata": {
    "colab": {},
    "colab_type": "code",
    "executionInfo": {
     "elapsed": 533,
     "status": "ok",
     "timestamp": 1594302967008,
     "user": {
      "displayName": "Gabriel Callado",
      "photoUrl": "https://lh3.googleusercontent.com/a-/AOh14Ghnvi183GuMBSeeGPSUTAterZ8HcEuC0_0pR7xFtA=s64",
      "userId": "08786233999723143686"
     },
     "user_tz": 180
    },
    "id": "h6x5PBNqCKVN"
   },
   "outputs": [],
   "source": [
    "def statvalues(state_history):\n",
    "    \"\"\"\n",
    "    print some statistics values of the KS data\n",
    "    \n",
    "    \"\"\"\n",
    "    print('Mean:', np.mean(state_history))\n",
    "    print('Median:', np.median(state_history))\n",
    "    print('Max:', np.max(state_history))\n",
    "    print('Min:', np.min(state_history))\n",
    "    print('Mode:', stats.mode(state_history))\n",
    "    print('Variance:', np.var(state_history))\n"
   ]
  },
  {
   "cell_type": "code",
   "execution_count": 5,
   "metadata": {
    "colab": {},
    "colab_type": "code",
    "executionInfo": {
     "elapsed": 686,
     "status": "ok",
     "timestamp": 1594302967916,
     "user": {
      "displayName": "Gabriel Callado",
      "photoUrl": "https://lh3.googleusercontent.com/a-/AOh14Ghnvi183GuMBSeeGPSUTAterZ8HcEuC0_0pR7xFtA=s64",
      "userId": "08786233999723143686"
     },
     "user_tz": 180
    },
    "id": "miDKdnW2CKVQ"
   },
   "outputs": [],
   "source": [
    "def evolutionstat(state_history):\n",
    "  \"\"\"\n",
    "  plot the temporal evolution of some statistics values\n",
    "  \n",
    "  \"\"\"  \n",
    "  plt.subplots(figsize=(15, 7))\n",
    "  plt.subplot(2,3,1)\n",
    "  plt.plot(np.mean(state_history,axis=1))\n",
    "  plt.title('Mean')\n",
    "  plt.ylabel('Mean value')\n",
    "  plt.subplot(2,3,2)\n",
    "  plt.plot(np.median(state_history,axis=1))\n",
    "  plt.title('Median')\n",
    "  plt.ylabel('Median value')\n",
    "  plt.subplot(2,3,3)\n",
    "  plt.plot(np.max(state_history,axis=1))\n",
    "  plt.title('Max')\n",
    "  plt.ylabel('Max value')\n",
    "  plt.xlabel('Time evolution')\n",
    "  plt.subplot(2,3,4)\n",
    "  plt.plot(np.min(state_history,axis=1))\n",
    "  plt.title('Min')\n",
    "  plt.ylabel('Min value')\n",
    "  plt.xlabel('Time evolution')\n",
    "  plt.subplot(2,3,5)\n",
    "  plt.plot(np.var(state_history,axis=1))\n",
    "  plt.title('Variance')\n",
    "  plt.ylabel('Variance value')\n",
    "  plt.xlabel('Time evolution')"
   ]
  },
  {
   "cell_type": "code",
   "execution_count": 6,
   "metadata": {
    "colab": {},
    "colab_type": "code",
    "executionInfo": {
     "elapsed": 648,
     "status": "ok",
     "timestamp": 1594302969513,
     "user": {
      "displayName": "Gabriel Callado",
      "photoUrl": "https://lh3.googleusercontent.com/a-/AOh14Ghnvi183GuMBSeeGPSUTAterZ8HcEuC0_0pR7xFtA=s64",
      "userId": "08786233999723143686"
     },
     "user_tz": 180
    },
    "id": "q8ft6IKHCvVa"
   },
   "outputs": [],
   "source": [
    "def prediction(model,start_position,N_step_pred,state_history_norm_th):\n",
    "    \"\"\"\n",
    "    This function will simulate the model for a given start_position of \n",
    "    state_history_norm_th from start_position to start_position+N_step_pred\n",
    "    and compares this simulation with the true value given by state_history_norm_th\n",
    "    \n",
    "    input:\n",
    "    - model: the model that will be used to make the prediction\n",
    "    - start_position: the position in the vector state_history_norm_th that will start the simulation\n",
    "    - N_step_pred: number of the steps to simulate\n",
    "    - state_history_norm_th: the true simulation given by KS.py. it will be used as the start point\n",
    "      to initiate our model simulation and to verify the quality of this simulation\n",
    "    \n",
    "    \n",
    "    output:\n",
    "    - print: the true spatiotemporal evolution of KS system\n",
    "             our simulation by the model\n",
    "             the difference between them per step of the simulation\n",
    "    \n",
    "    state_history: all the spatialtemporal evolution of the system. shape: [number of iteractions,samples_points]\n",
    "    time_counter: array of the time corresponding to each interaction\n",
    "    position_x: array of samples_points points that goes from 0 to length\n",
    "    \"\"\"\n",
    "\n",
    "    y_true=state_history_norm_th[start_position:start_position+N_step_pred,:].squeeze()\n",
    "    sample_points=state_history_norm_th.size(1)\n",
    "    current_state = th.zeros((1, 1, sample_points, size_conv_time))\n",
    "    current_state[0,0,:,:] = state_history_norm_th[start_position-100:start_position,:].T\n",
    "    current_state=current_state.double().cuda()\n",
    "    prediction_model = th.zeros((N_step_pred, sample_points))\n",
    "\n",
    "    for i in range(N_step_pred):\n",
    "        y=model(current_state)\n",
    "        past=current_state[:,:,:,1:100]\n",
    "        current_state=th.zeros(1,1,64,100).double().cuda()\n",
    "        current_state[:,:,:,0:99]=past\n",
    "        current_state[:,:,:,99]=y\n",
    "        prediction_model[i,:]=y.squeeze()\n",
    "\n",
    "\n",
    "    prediction_model_np = prediction_model.detach().numpy()\n",
    "    y_true_np = y_true.cpu().numpy()\n",
    "    dif=np.mean(np.absolute(prediction_model_np-y_true_np),axis=1)\n",
    "\n",
    "\n",
    "    print('The true solution:')\n",
    "    drawKS(y_true_np, position_x, time_counter[start_position:start_position+N_step_pred] ,startT=1,endT=N_step_pred, width = 10, divwidth = 4) \n",
    "    print('The model solution:')\n",
    "    drawKS(prediction_model_np, position_x,time_counter[start_position:start_position+N_step_pred] ,startT=1,endT=N_step_pred, width = 10, divwidth = 4)\n",
    "\n",
    "    plt.plot(np.absolute(dif))\n",
    "    plt.title('Difference between prediction and true value')\n",
    "    plt.ylabel('Delta')\n",
    "    plt.xlabel('Time step')"
   ]
  },
  {
   "cell_type": "code",
   "execution_count": 27,
   "metadata": {},
   "outputs": [
    {
     "data": {
      "text/plain": [
       "torch.Size([64])"
      ]
     },
     "execution_count": 27,
     "metadata": {},
     "output_type": "execute_result"
    }
   ],
   "source": [
    "y.squeeze().shape"
   ]
  },
  {
   "cell_type": "markdown",
   "metadata": {
    "colab_type": "text",
    "id": "OcwP8Uh-CKVU"
   },
   "source": [
    "## Loading and normalizing the data\n",
    "First, let's set the parameters of the simulation. Pay attention to set the correct parameters to the data set loaded."
   ]
  },
  {
   "cell_type": "code",
   "execution_count": 7,
   "metadata": {
    "colab": {},
    "colab_type": "code",
    "id": "Qi00m-dVCKVV"
   },
   "outputs": [],
   "source": [
    "final_time = 10000 # the total time of the simulation\n",
    "dt = 0.05 # the time step \n",
    "length = 22 # the \"physical\" length of the domaine. pay attention cuz this value will determine if the system is regular or chaotic\n",
    "sample_points = 64 # the number of sample points on this length. It will be the size of the input in our system\n",
    "#state_initial = np.loadtxt('u1.dat') #the observed initial state of the system"
   ]
  },
  {
   "cell_type": "code",
   "execution_count": 8,
   "metadata": {
    "colab": {},
    "colab_type": "code",
    "id": "mLgNT4qJG6yK",
    "outputId": "5168cf24-b1b0-4c3b-a438-251977db4a6c"
   },
   "outputs": [
    {
     "name": "stdout",
     "output_type": "stream",
     "text": [
      "C:\\Users\\Callado\\Documents\\GitHub\\Research-internship\\Simulators\\ks-simulator\n"
     ]
    }
   ],
   "source": [
    "cd .."
   ]
  },
  {
   "cell_type": "code",
   "execution_count": 9,
   "metadata": {
    "colab": {},
    "colab_type": "code",
    "id": "GJCI_8i2G6yT",
    "outputId": "77019426-a0e8-45ce-cfbd-6228f46a5ce1"
   },
   "outputs": [
    {
     "name": "stdout",
     "output_type": "stream",
     "text": [
      "C:\\Users\\Callado\\Documents\\GitHub\\Research-internship\\Simulators\\ks-simulator\\dataset1\n"
     ]
    }
   ],
   "source": [
    "cd ../ks-simulator/dataset1/"
   ]
  },
  {
   "cell_type": "code",
   "execution_count": 10,
   "metadata": {
    "colab": {},
    "colab_type": "code",
    "executionInfo": {
     "elapsed": 15450,
     "status": "ok",
     "timestamp": 1591733484385,
     "user": {
      "displayName": "Gabriel Callado",
      "photoUrl": "https://lh3.googleusercontent.com/a-/AOh14Ghnvi183GuMBSeeGPSUTAterZ8HcEuC0_0pR7xFtA=s64",
      "userId": "08786233999723143686"
     },
     "user_tz": 180
    },
    "id": "dm-yUw0WCKVi",
    "outputId": "e0dc0a8a-63c2-4fe8-9674-7bc129c3b914"
   },
   "outputs": [
    {
     "name": "stdout",
     "output_type": "stream",
     "text": [
      "The state_history shape is: (200001, 64)\n",
      "The final time: 10000.0\n",
      "Total length 22.0\n"
     ]
    }
   ],
   "source": [
    "#to load data\n",
    "\n",
    "from numpy import load\n",
    "# load numpy array\n",
    "state_history = np.loadtxt('state_history_u3.dat')\n",
    "time_counter = np.loadtxt('time_counter_u3.dat')\n",
    "position_x = np.loadtxt('position_u3.dat')\n",
    "\n",
    "print('The state_history shape is:', state_history.shape)\n",
    "print('The final time:', time_counter[-1])\n",
    "print('Total length', position_x[1]+position_x[-1])"
   ]
  },
  {
   "cell_type": "markdown",
   "metadata": {
    "colab_type": "text",
    "id": "rn5WELW7CKVv"
   },
   "source": [
    "Let's normalize the data to be between [-0.975,0.975]. It will allow us to use other activation fonction (like Tanh):"
   ]
  },
  {
   "cell_type": "code",
   "execution_count": 11,
   "metadata": {
    "colab": {},
    "colab_type": "code",
    "executionInfo": {
     "elapsed": 8745,
     "status": "ok",
     "timestamp": 1591733730185,
     "user": {
      "displayName": "Gabriel Callado",
      "photoUrl": "https://lh3.googleusercontent.com/a-/AOh14Ghnvi183GuMBSeeGPSUTAterZ8HcEuC0_0pR7xFtA=s64",
      "userId": "08786233999723143686"
     },
     "user_tz": 180
    },
    "id": "zIIeDJseCKVw",
    "outputId": "fe8c003d-5709-4b44-de6b-9fc0d5704682"
   },
   "outputs": [
    {
     "name": "stdout",
     "output_type": "stream",
     "text": [
      "Mean: 0.0026107055720654884\n",
      "Median: 0.03949771070218273\n",
      "Max: 0.5814164107916223\n",
      "Min: -0.538621380704021\n",
      "Mode: ModeResult(mode=array([-0.53862138]), count=array([1]))\n",
      "Variance: 0.10026812472997303\n"
     ]
    },
    {
     "data": {
      "image/png": "[encoded data removed]",
      "text/plain": [
       "<Figure size 864x360 with 1 Axes>"
      ]
     },
     "metadata": {
      "needs_background": "light"
     },
     "output_type": "display_data"
    },
    {
     "data": {
      "image/png": "[encoded data removed]",
      "text/plain": [
       "<Figure size 1080x504 with 5 Axes>"
      ]
     },
     "metadata": {
      "needs_background": "light"
     },
     "output_type": "display_data"
    }
   ],
   "source": [
    "min_max_scaler = preprocessing.MinMaxScaler(feature_range=(-0.975,0.975))\n",
    "state_history_norm = min_max_scaler.fit_transform(state_history)\n",
    "\n",
    "#histogram\n",
    "plothist(state_history_norm,bins=30)\n",
    "\n",
    "#statistic values\n",
    "statvalues(state_history_norm[0,:])\n",
    "\n",
    "#evolution of statistic values\n",
    "evolutionstat(state_history_norm)"
   ]
  },
  {
   "cell_type": "markdown",
   "metadata": {
    "colab_type": "text",
    "id": "CaAcatrRCKVz"
   },
   "source": [
    "## Separating the data into training and test sets"
   ]
  },
  {
   "cell_type": "code",
   "execution_count": null,
   "metadata": {
    "colab": {},
    "colab_type": "code",
    "executionInfo": {
     "elapsed": 878,
     "status": "ok",
     "timestamp": 1591733738326,
     "user": {
      "displayName": "Gabriel Callado",
      "photoUrl": "https://lh3.googleusercontent.com/a-/AOh14Ghnvi183GuMBSeeGPSUTAterZ8HcEuC0_0pR7xFtA=s64",
      "userId": "08786233999723143686"
     },
     "user_tz": 180
    },
    "id": "d0h5De2KDJei",
    "outputId": "91d2a0c1-4cb9-40a4-e58a-e28f80518515"
   },
   "outputs": [
    {
     "data": {
      "text/plain": [
       "(100000, 64)"
      ]
     },
     "execution_count": 13,
     "metadata": {
      "tags": []
     },
     "output_type": "execute_result"
    }
   ],
   "source": [
    "state_history_norm=state_history_norm[:100000,:]\n",
    "#On google colabs, I can use up to 100,000 training points\n",
    "# (this will also depend on the size of my convolution and etc.)\n",
    "state_history_norm.shape"
   ]
  },
  {
   "cell_type": "code",
   "execution_count": null,
   "metadata": {
    "colab": {},
    "colab_type": "code",
    "id": "RLWUBz-aCKV0"
   },
   "outputs": [],
   "source": [
    "size_conv_time=100\n",
    "X = state_history_norm[:-size_conv_time,:] #our input: all the data excluding the last size_conv_time data\n",
    "Y = state_history_norm[size_conv_time:,:] #our output: all the data minus the first size_conv_time one\n",
    "\n",
    "NN = state_history_norm.shape[0]-2*size_conv_time\n",
    "Nt = int(NN*0.9) # number of train\n",
    "Nv = int(NN*0.1) # number of validation\n",
    "\n",
    "\n",
    "np.random.seed(0)\n",
    "indices=np.arange(NN)\n",
    "np.random.shuffle(indices)\n",
    "train_ind=indices[0:Nt]\n",
    "valid_ind=indices[-Nv:]\n",
    "\n",
    "X_train = np.zeros((Nt, sample_points, size_conv_time))\n",
    "aux=0\n",
    "for ind in train_ind:\n",
    "    X_train[aux,:,:]=X[ind:ind+size_conv_time].T\n",
    "    aux=aux+1\n",
    "\n",
    "Y_train = Y[train_ind]\n",
    "\n",
    "X_valid = np.zeros((Nv, sample_points, size_conv_time))\n",
    "aux=0\n",
    "for ind in valid_ind:\n",
    "    X_valid[aux,:,:]=X[ind:ind+size_conv_time].T\n",
    "    aux=aux+1\n",
    "\n",
    "Y_valid = Y[valid_ind]\n",
    "\n",
    "\n",
    "#converting to tensor\n",
    "X_train_th = th.reshape(th.from_numpy(X_train),(Nt, 1, sample_points, size_conv_time)).cuda()\n",
    "Y_train_th = th.reshape(th.from_numpy(Y_train),(Nt, sample_points)).cuda()\n",
    "X_valid_th = th.reshape(th.from_numpy(X_valid),(Nv, 1, sample_points, size_conv_time)).cuda()\n",
    "Y_valid_th = th.reshape(th.from_numpy(Y_valid),(Nv, sample_points)).cuda()"
   ]
  },
  {
   "cell_type": "code",
   "execution_count": null,
   "metadata": {
    "colab": {},
    "colab_type": "code",
    "executionInfo": {
     "elapsed": 1034,
     "status": "ok",
     "timestamp": 1591734153840,
     "user": {
      "displayName": "Gabriel Callado",
      "photoUrl": "https://lh3.googleusercontent.com/a-/AOh14Ghnvi183GuMBSeeGPSUTAterZ8HcEuC0_0pR7xFtA=s64",
      "userId": "08786233999723143686"
     },
     "user_tz": 180
    },
    "id": "ShbN87s3CKV3",
    "outputId": "d37b50b0-3e15-4f1a-b103-472fd745bb61"
   },
   "outputs": [
    {
     "name": "stdout",
     "output_type": "stream",
     "text": [
      "torch.Size([89820, 1, 64, 100])\n",
      "torch.Size([89820, 64])\n",
      "torch.Size([9980, 1, 64, 100])\n",
      "torch.Size([9980, 64])\n"
     ]
    }
   ],
   "source": [
    "print(X_train_th.shape)\n",
    "print(Y_train_th.shape)\n",
    "print(X_valid_th.shape)\n",
    "print(Y_valid_th.shape)"
   ]
  },
  {
   "cell_type": "markdown",
   "metadata": {
    "colab_type": "text",
    "id": "XW-FIkBUCKV9"
   },
   "source": [
    "## Training"
   ]
  },
  {
   "cell_type": "code",
   "execution_count": null,
   "metadata": {
    "colab": {},
    "colab_type": "code",
    "id": "ei7CYP-UCKV-"
   },
   "outputs": [],
   "source": [
    "def train(model,X_train,X_valid,Y_train,Y_valid,epochs=30,batch_size=64):\n",
    "    Nt=len(X_train)\n",
    "    Nv=len(X_valid)\n",
    "    ### Mini-batching and shuffle\n",
    "    idx = np.arange(Nt)\n",
    "    nbatch = int(Nt/batch_size)\n",
    "    train_losses,valid_losses=[],[]\n",
    "    start_time=time.time()\n",
    "    print(\"Epoch\\tTrain Loss\\tValid Loss\")\n",
    "    \n",
    "    #Just to see the prediction of our random parameters\n",
    "    model.eval()\n",
    "    with th.no_grad():\n",
    "        running_loss=0\n",
    "        for bi in range(nbatch):\n",
    "            ids = idx[bi*batch_size:(bi+1)*batch_size]\n",
    "            x = X_train[ids]\n",
    "            ttf_calc=model(x).squeeze()\n",
    "            ttf = Y_train[ids]\n",
    "            loss=loss_fn(ttf_calc,ttf)\n",
    "            running_loss+=loss.item()\n",
    "        train_losses.append(running_loss/nbatch)\n",
    "        running_loss=0\n",
    "        ttf_calc=model(X_valid).squeeze()\n",
    "        ttf = Y_valid\n",
    "        loss=loss_fn(ttf_calc,ttf)\n",
    "        running_loss+=loss.item()\n",
    "        valid_losses.append(running_loss)\n",
    "        #it will print the result in epoch=0 during the training\n",
    "    \n",
    "    #starting the training here:\n",
    "    for e in range(epochs):\n",
    "        model.train()\n",
    "        print(\"{}\\t\".format(e),\"{:.5f}..\\t\".format(train_losses[-1]),\"{:.5f}..\".format(valid_losses[-1]))  \n",
    "        np.random.shuffle(idx)\n",
    "        running_loss=0\n",
    "        for bi in range(nbatch):\n",
    "            ids = idx[bi*batch_size:(bi+1)*batch_size]\n",
    "            x = X_train[ids]\n",
    "            optimizer.zero_grad()\n",
    "            ttf_calc=model(x).squeeze()\n",
    "            ttf = Y_train[ids]\n",
    "            loss=loss_fn(ttf_calc,ttf)\n",
    "            loss.backward()\n",
    "            optimizer.step()\n",
    "            running_loss+=loss.item()\n",
    "            \n",
    "        # training is over for one epoch\n",
    "        #now evaluate the model with the valid set:\n",
    "        model.eval()\n",
    "        accuracy=0\n",
    "        train_losses.append(running_loss/nbatch)\n",
    "        running_loss=0\n",
    "        with th.no_grad():\n",
    "            x = X_valid\n",
    "            ttf_calc=model(x).squeeze()\n",
    "            ttf = Y_valid\n",
    "            loss=loss_fn(ttf_calc,ttf)\n",
    "            running_loss+=loss.item()\n",
    "            valid_losses.append(running_loss)\n",
    "    print(\"{}\\t\".format(e+1),\"{:.5f}..\\t\".format(train_losses[-1]),\"{:.5f}..\".format(valid_losses[-1]))     \n",
    "    print(\"---------- Best : {:.3f}\".format(min(valid_losses)), \" at epoch \" \n",
    "          , np.fromiter(valid_losses, dtype=np.float).argmin(), \" / \",epochs )\n",
    "    print('Execution time={:.2f}s'.format(time.time()-start_time))\n",
    "    #plot some graphs\n",
    "    plt.figure(figsize = (9, 1.5))\n",
    "    ax= plt.subplot(1, 2, 1)\n",
    "    plt.plot(train_losses)\n",
    "    ax.set_ylim(bottom=0)\n",
    "    ax= plt.subplot(1, 2, 2)\n",
    "    plt.plot(valid_losses)\n",
    "    ax.set_ylim(bottom=0)\n",
    "    return train_losses, valid_losses"
   ]
  },
  {
   "cell_type": "markdown",
   "metadata": {
    "colab_type": "text",
    "id": "W7RJWJgWCKWI"
   },
   "source": [
    "## Model 1"
   ]
  },
  {
   "cell_type": "code",
   "execution_count": null,
   "metadata": {
    "colab": {},
    "colab_type": "code",
    "id": "mLhDnJ9zCKWJ"
   },
   "outputs": [],
   "source": [
    "#CONV1\n",
    "in_channel_1 = 1\n",
    "Hin_ch_conv_1 = sample_points\n",
    "Win_ch_conv_1 = 100\n",
    "\n",
    "kH_conv_1 = 5\n",
    "stH_conv_1 = 1\n",
    "padH_conv_1 = 2\n",
    "\n",
    "kW_conv_1 = 5\n",
    "stW_conv_1 = 1\n",
    "padW_conv_1 = 2\n",
    "\n",
    "Hout_ch_conv_1 = (Hin_ch_conv_1+2*padH_conv_1-(kH_conv_1-1)-1)/stH_conv_1+1\n",
    "Wout_ch_conv_1 = (Win_ch_conv_1+2*padW_conv_1-(kW_conv_1-1)-1)/stW_conv_1+1\n",
    "out_channel_1 = 3\n",
    "\n",
    "\n",
    "#MAXPOOL1\n",
    "kH_pool_1= 2\n",
    "stH_pool_1= 2\n",
    "\n",
    "kW_pool_1= 2\n",
    "stW_pool_1= 2\n",
    "\n",
    "Hin_ch_conv_2 = (Hout_ch_conv_1 - kH_pool_1)/stH_pool_1 + 1\n",
    "Win_ch_conv_2 = (Wout_ch_conv_1 - kW_pool_1)/stW_pool_1 + 1\n",
    "\n",
    "\n",
    "#CONV2\n",
    "in_channel_2 = out_channel_1\n",
    "\n",
    "kH_conv_2 = 2\n",
    "stH_conv_2 = 2\n",
    "padH_conv_2 = 2\n",
    "\n",
    "kW_conv_2 = 25\n",
    "stW_conv_2 = 25\n",
    "padW_conv_2 = 0\n",
    "\n",
    "Hout_ch_conv_2 = (Hin_ch_conv_2+2*padH_conv_2-(kH_conv_2-1)-1)/stH_conv_2+1\n",
    "Wout_ch_conv_2 = (Win_ch_conv_2+2*padW_conv_2-(kW_conv_2-1)-1)/stW_conv_2+1\n",
    "out_channel_2 = 1\n",
    "\n",
    "\n",
    "#MAXPOOL2\n",
    "\n",
    "kH_pool_2= 2\n",
    "stH_pool_2= 2\n",
    "\n",
    "kW_pool_2= 2\n",
    "stW_pool_2= 1\n",
    "\n",
    "Hin_ch_conv_3 = (Hout_ch_conv_2 - kH_pool_2)/stH_pool_2 + 1\n",
    "Win_ch_conv_3 = (Wout_ch_conv_2 - kW_pool_2)/stW_pool_2 + 1\n",
    "\n",
    "in_lin = int(Hin_ch_conv_3)\n",
    "out_lin = sample_points\n",
    "\n",
    "model = th.nn.Sequential(\n",
    "    th.nn.Conv2d(in_channel_1,out_channel_1,kernel_size=(kH_conv_1,kW_conv_1),stride=(stH_conv_1,stW_conv_1),padding=(padH_conv_1,padW_conv_1)),\n",
    "    th.nn.LeakyReLU(),\n",
    "    th.nn.MaxPool2d(kernel_size=(kH_pool_1,kW_pool_1),stride=(stH_pool_1,stW_pool_1)),\n",
    "    th.nn.Conv2d(in_channel_2,out_channel_2,kernel_size=(kH_conv_2,kW_conv_2),stride=(stH_conv_2,stW_conv_2),padding=(padH_conv_2,padW_conv_2)),\n",
    "    th.nn.LeakyReLU(),\n",
    "    th.nn.MaxPool2d(kernel_size=(kH_pool_2,kW_pool_2),stride=(stH_pool_2,stW_pool_2)),\n",
    "    th.nn.Flatten(),\n",
    "    th.nn.Linear(in_lin,out_lin),\n",
    "    th.nn.Tanh(),\n",
    ")\n",
    "                   \n",
    "\n",
    "model.double()\n",
    "model.cuda()\n",
    "optimizer=th.optim.Adam(model.parameters(),lr=1e-5)\n",
    "loss_fn=th.nn.MSELoss()"
   ]
  },
  {
   "cell_type": "code",
   "execution_count": null,
   "metadata": {
    "colab": {},
    "colab_type": "code",
    "executionInfo": {
     "elapsed": 2291550,
     "status": "ok",
     "timestamp": 1591743478082,
     "user": {
      "displayName": "Gabriel Callado",
      "photoUrl": "https://lh3.googleusercontent.com/a-/AOh14Ghnvi183GuMBSeeGPSUTAterZ8HcEuC0_0pR7xFtA=s64",
      "userId": "08786233999723143686"
     },
     "user_tz": 180
    },
    "id": "uJ6l9SUVCKWM",
    "outputId": "50ed6584-ab41-49d4-a987-b98abaa4e3c3"
   },
   "outputs": [
    {
     "name": "stdout",
     "output_type": "stream",
     "text": [
      "Epoch\tTrain Loss\tValid Loss\n",
      "0\t 0.19320..\t 0.19215..\n",
      "1\t 0.18574..\t 0.18165..\n",
      "2\t 0.17923..\t 0.17395..\n",
      "3\t 0.17004..\t 0.16433..\n",
      "4\t 0.16099..\t 0.15582..\n",
      "5\t 0.15298..\t 0.14823..\n",
      "6\t 0.14571..\t 0.14127..\n",
      "7\t 0.13892..\t 0.13468..\n",
      "8\t 0.13242..\t 0.12831..\n",
      "9\t 0.12607..\t 0.12204..\n",
      "10\t 0.11978..\t 0.11582..\n",
      "11\t 0.11353..\t 0.10961..\n",
      "12\t 0.10729..\t 0.10344..\n",
      "13\t 0.10111..\t 0.09736..\n",
      "14\t 0.09504..\t 0.09141..\n",
      "15\t 0.08914..\t 0.08563..\n",
      "16\t 0.08342..\t 0.08008..\n",
      "17\t 0.07796..\t 0.07480..\n",
      "18\t 0.07278..\t 0.06981..\n",
      "19\t 0.06790..\t 0.06514..\n",
      "20\t 0.06334..\t 0.06078..\n",
      "21\t 0.05910..\t 0.05672..\n",
      "22\t 0.05517..\t 0.05299..\n",
      "23\t 0.05156..\t 0.04956..\n",
      "24\t 0.04825..\t 0.04643..\n",
      "25\t 0.04524..\t 0.04358..\n",
      "26\t 0.04250..\t 0.04099..\n",
      "27\t 0.04000..\t 0.03863..\n",
      "28\t 0.03773..\t 0.03649..\n",
      "29\t 0.03568..\t 0.03455..\n",
      "30\t 0.03382..\t 0.03278..\n",
      "31\t 0.03212..\t 0.03118..\n",
      "32\t 0.03059..\t 0.02973..\n",
      "33\t 0.02919..\t 0.02842..\n",
      "34\t 0.02793..\t 0.02721..\n",
      "35\t 0.02678..\t 0.02612..\n",
      "36\t 0.02573..\t 0.02512..\n",
      "37\t 0.02477..\t 0.02421..\n",
      "38\t 0.02390..\t 0.02337..\n",
      "39\t 0.02310..\t 0.02260..\n",
      "40\t 0.02236..\t 0.02189..\n",
      "41\t 0.02167..\t 0.02124..\n",
      "42\t 0.02104..\t 0.02064..\n",
      "43\t 0.02046..\t 0.02008..\n",
      "44\t 0.01992..\t 0.01955..\n",
      "45\t 0.01942..\t 0.01907..\n",
      "46\t 0.01895..\t 0.01861..\n",
      "47\t 0.01851..\t 0.01819..\n",
      "48\t 0.01810..\t 0.01779..\n",
      "49\t 0.01772..\t 0.01743..\n",
      "50\t 0.01736..\t 0.01709..\n",
      "51\t 0.01704..\t 0.01677..\n",
      "52\t 0.01674..\t 0.01649..\n",
      "53\t 0.01646..\t 0.01622..\n",
      "54\t 0.01621..\t 0.01598..\n",
      "55\t 0.01598..\t 0.01575..\n",
      "56\t 0.01576..\t 0.01555..\n",
      "57\t 0.01556..\t 0.01535..\n",
      "58\t 0.01538..\t 0.01516..\n",
      "59\t 0.01520..\t 0.01499..\n",
      "60\t 0.01504..\t 0.01483..\n",
      "61\t 0.01489..\t 0.01468..\n",
      "62\t 0.01474..\t 0.01454..\n",
      "63\t 0.01461..\t 0.01441..\n",
      "64\t 0.01448..\t 0.01428..\n",
      "65\t 0.01437..\t 0.01416..\n",
      "66\t 0.01425..\t 0.01405..\n",
      "67\t 0.01415..\t 0.01395..\n",
      "68\t 0.01405..\t 0.01385..\n",
      "69\t 0.01396..\t 0.01376..\n",
      "70\t 0.01387..\t 0.01368..\n",
      "71\t 0.01379..\t 0.01359..\n",
      "72\t 0.01371..\t 0.01351..\n",
      "73\t 0.01364..\t 0.01344..\n",
      "74\t 0.01357..\t 0.01337..\n",
      "75\t 0.01350..\t 0.01331..\n",
      "76\t 0.01343..\t 0.01324..\n",
      "77\t 0.01337..\t 0.01318..\n",
      "78\t 0.01332..\t 0.01312..\n",
      "79\t 0.01326..\t 0.01306..\n",
      "80\t 0.01321..\t 0.01301..\n",
      "81\t 0.01316..\t 0.01296..\n",
      "82\t 0.01311..\t 0.01291..\n",
      "83\t 0.01306..\t 0.01286..\n",
      "84\t 0.01301..\t 0.01282..\n",
      "85\t 0.01297..\t 0.01277..\n",
      "86\t 0.01293..\t 0.01273..\n",
      "87\t 0.01288..\t 0.01268..\n",
      "88\t 0.01284..\t 0.01264..\n",
      "89\t 0.01281..\t 0.01260..\n",
      "90\t 0.01277..\t 0.01256..\n",
      "91\t 0.01273..\t 0.01253..\n",
      "92\t 0.01269..\t 0.01249..\n",
      "93\t 0.01266..\t 0.01245..\n",
      "94\t 0.01262..\t 0.01242..\n",
      "95\t 0.01259..\t 0.01238..\n",
      "96\t 0.01256..\t 0.01235..\n",
      "97\t 0.01253..\t 0.01232..\n",
      "98\t 0.01250..\t 0.01229..\n",
      "99\t 0.01246..\t 0.01226..\n",
      "100\t 0.01244..\t 0.01223..\n",
      "101\t 0.01241..\t 0.01220..\n",
      "102\t 0.01238..\t 0.01217..\n",
      "103\t 0.01235..\t 0.01214..\n",
      "104\t 0.01233..\t 0.01212..\n",
      "105\t 0.01230..\t 0.01209..\n",
      "106\t 0.01228..\t 0.01207..\n",
      "107\t 0.01225..\t 0.01205..\n",
      "108\t 0.01223..\t 0.01202..\n",
      "109\t 0.01221..\t 0.01200..\n",
      "110\t 0.01218..\t 0.01198..\n",
      "111\t 0.01216..\t 0.01196..\n",
      "112\t 0.01214..\t 0.01193..\n",
      "113\t 0.01212..\t 0.01192..\n",
      "114\t 0.01210..\t 0.01190..\n",
      "115\t 0.01208..\t 0.01187..\n",
      "116\t 0.01206..\t 0.01186..\n",
      "117\t 0.01204..\t 0.01184..\n",
      "118\t 0.01202..\t 0.01181..\n",
      "119\t 0.01200..\t 0.01180..\n",
      "120\t 0.01198..\t 0.01178..\n",
      "121\t 0.01196..\t 0.01176..\n",
      "122\t 0.01194..\t 0.01175..\n",
      "123\t 0.01193..\t 0.01173..\n",
      "124\t 0.01191..\t 0.01171..\n",
      "125\t 0.01189..\t 0.01170..\n",
      "126\t 0.01188..\t 0.01168..\n",
      "127\t 0.01186..\t 0.01166..\n",
      "128\t 0.01184..\t 0.01165..\n",
      "129\t 0.01183..\t 0.01163..\n",
      "130\t 0.01181..\t 0.01162..\n",
      "131\t 0.01180..\t 0.01161..\n",
      "132\t 0.01178..\t 0.01159..\n",
      "133\t 0.01177..\t 0.01158..\n",
      "134\t 0.01175..\t 0.01156..\n",
      "135\t 0.01174..\t 0.01155..\n",
      "136\t 0.01173..\t 0.01153..\n",
      "137\t 0.01171..\t 0.01152..\n",
      "138\t 0.01170..\t 0.01151..\n",
      "139\t 0.01169..\t 0.01149..\n",
      "140\t 0.01167..\t 0.01148..\n",
      "141\t 0.01166..\t 0.01147..\n",
      "142\t 0.01165..\t 0.01145..\n",
      "143\t 0.01163..\t 0.01144..\n",
      "144\t 0.01162..\t 0.01143..\n",
      "145\t 0.01161..\t 0.01142..\n",
      "146\t 0.01160..\t 0.01141..\n",
      "147\t 0.01158..\t 0.01139..\n",
      "148\t 0.01157..\t 0.01138..\n",
      "149\t 0.01156..\t 0.01137..\n",
      "150\t 0.01155..\t 0.01136..\n",
      "151\t 0.01154..\t 0.01135..\n",
      "152\t 0.01152..\t 0.01134..\n",
      "153\t 0.01151..\t 0.01133..\n",
      "154\t 0.01150..\t 0.01132..\n",
      "155\t 0.01149..\t 0.01131..\n",
      "156\t 0.01148..\t 0.01130..\n",
      "157\t 0.01147..\t 0.01129..\n",
      "158\t 0.01146..\t 0.01128..\n",
      "159\t 0.01145..\t 0.01127..\n",
      "160\t 0.01144..\t 0.01126..\n",
      "161\t 0.01143..\t 0.01125..\n",
      "162\t 0.01142..\t 0.01124..\n",
      "163\t 0.01141..\t 0.01123..\n",
      "164\t 0.01140..\t 0.01122..\n",
      "165\t 0.01139..\t 0.01121..\n",
      "166\t 0.01138..\t 0.01120..\n",
      "167\t 0.01137..\t 0.01119..\n",
      "168\t 0.01136..\t 0.01118..\n",
      "169\t 0.01135..\t 0.01117..\n",
      "170\t 0.01134..\t 0.01116..\n",
      "171\t 0.01133..\t 0.01116..\n",
      "172\t 0.01132..\t 0.01114..\n",
      "173\t 0.01131..\t 0.01114..\n",
      "174\t 0.01130..\t 0.01113..\n",
      "175\t 0.01129..\t 0.01112..\n",
      "176\t 0.01128..\t 0.01111..\n",
      "177\t 0.01127..\t 0.01110..\n",
      "178\t 0.01126..\t 0.01109..\n",
      "179\t 0.01126..\t 0.01108..\n",
      "180\t 0.01125..\t 0.01108..\n",
      "181\t 0.01124..\t 0.01107..\n",
      "182\t 0.01123..\t 0.01106..\n",
      "183\t 0.01122..\t 0.01105..\n",
      "184\t 0.01121..\t 0.01104..\n",
      "185\t 0.01121..\t 0.01104..\n",
      "186\t 0.01120..\t 0.01103..\n",
      "187\t 0.01119..\t 0.01102..\n",
      "188\t 0.01118..\t 0.01101..\n",
      "189\t 0.01118..\t 0.01101..\n",
      "190\t 0.01117..\t 0.01100..\n",
      "191\t 0.01116..\t 0.01099..\n",
      "192\t 0.01115..\t 0.01099..\n",
      "193\t 0.01115..\t 0.01098..\n",
      "194\t 0.01114..\t 0.01097..\n",
      "195\t 0.01113..\t 0.01096..\n",
      "196\t 0.01112..\t 0.01096..\n",
      "197\t 0.01112..\t 0.01095..\n",
      "198\t 0.01111..\t 0.01094..\n",
      "199\t 0.01110..\t 0.01094..\n",
      "200\t 0.01110..\t 0.01093..\n",
      "201\t 0.01109..\t 0.01093..\n",
      "202\t 0.01108..\t 0.01092..\n",
      "203\t 0.01107..\t 0.01092..\n",
      "204\t 0.01107..\t 0.01091..\n",
      "205\t 0.01106..\t 0.01090..\n",
      "206\t 0.01106..\t 0.01090..\n",
      "207\t 0.01105..\t 0.01089..\n",
      "208\t 0.01104..\t 0.01088..\n",
      "209\t 0.01104..\t 0.01088..\n",
      "210\t 0.01103..\t 0.01087..\n",
      "211\t 0.01102..\t 0.01086..\n",
      "212\t 0.01102..\t 0.01086..\n",
      "213\t 0.01101..\t 0.01085..\n",
      "214\t 0.01100..\t 0.01084..\n",
      "215\t 0.01099..\t 0.01085..\n",
      "216\t 0.01099..\t 0.01083..\n",
      "217\t 0.01098..\t 0.01082..\n",
      "218\t 0.01097..\t 0.01081..\n",
      "219\t 0.01096..\t 0.01080..\n",
      "220\t 0.01095..\t 0.01079..\n",
      "221\t 0.01094..\t 0.01078..\n",
      "222\t 0.01093..\t 0.01077..\n",
      "223\t 0.01092..\t 0.01077..\n",
      "224\t 0.01091..\t 0.01076..\n",
      "225\t 0.01090..\t 0.01075..\n",
      "226\t 0.01089..\t 0.01075..\n",
      "227\t 0.01088..\t 0.01074..\n",
      "228\t 0.01087..\t 0.01073..\n",
      "229\t 0.01086..\t 0.01071..\n",
      "230\t 0.01085..\t 0.01071..\n",
      "231\t 0.01084..\t 0.01070..\n",
      "232\t 0.01083..\t 0.01069..\n",
      "233\t 0.01082..\t 0.01068..\n",
      "234\t 0.01081..\t 0.01067..\n",
      "235\t 0.01080..\t 0.01067..\n",
      "236\t 0.01079..\t 0.01065..\n",
      "237\t 0.01078..\t 0.01064..\n",
      "238\t 0.01077..\t 0.01063..\n",
      "239\t 0.01076..\t 0.01062..\n",
      "240\t 0.01075..\t 0.01061..\n",
      "241\t 0.01074..\t 0.01060..\n",
      "242\t 0.01073..\t 0.01060..\n",
      "243\t 0.01072..\t 0.01058..\n",
      "244\t 0.01071..\t 0.01058..\n",
      "245\t 0.01070..\t 0.01057..\n",
      "246\t 0.01069..\t 0.01056..\n",
      "247\t 0.01068..\t 0.01055..\n",
      "248\t 0.01067..\t 0.01054..\n",
      "249\t 0.01066..\t 0.01053..\n",
      "250\t 0.01065..\t 0.01052..\n",
      "251\t 0.01064..\t 0.01051..\n",
      "252\t 0.01063..\t 0.01050..\n",
      "253\t 0.01062..\t 0.01049..\n",
      "254\t 0.01061..\t 0.01048..\n",
      "255\t 0.01060..\t 0.01048..\n",
      "256\t 0.01060..\t 0.01047..\n",
      "257\t 0.01059..\t 0.01046..\n",
      "258\t 0.01058..\t 0.01045..\n",
      "259\t 0.01057..\t 0.01044..\n",
      "260\t 0.01056..\t 0.01044..\n",
      "261\t 0.01055..\t 0.01043..\n",
      "262\t 0.01054..\t 0.01042..\n",
      "263\t 0.01054..\t 0.01041..\n",
      "264\t 0.01053..\t 0.01040..\n",
      "265\t 0.01052..\t 0.01039..\n",
      "266\t 0.01051..\t 0.01039..\n",
      "267\t 0.01050..\t 0.01038..\n",
      "268\t 0.01049..\t 0.01037..\n",
      "269\t 0.01049..\t 0.01036..\n",
      "270\t 0.01048..\t 0.01035..\n",
      "271\t 0.01047..\t 0.01035..\n",
      "272\t 0.01046..\t 0.01034..\n",
      "273\t 0.01045..\t 0.01033..\n",
      "274\t 0.01045..\t 0.01032..\n",
      "275\t 0.01044..\t 0.01032..\n",
      "276\t 0.01043..\t 0.01031..\n",
      "277\t 0.01042..\t 0.01030..\n",
      "278\t 0.01042..\t 0.01029..\n",
      "279\t 0.01041..\t 0.01029..\n",
      "280\t 0.01040..\t 0.01028..\n",
      "281\t 0.01039..\t 0.01027..\n",
      "282\t 0.01039..\t 0.01026..\n",
      "283\t 0.01038..\t 0.01026..\n",
      "284\t 0.01037..\t 0.01025..\n",
      "285\t 0.01037..\t 0.01024..\n",
      "286\t 0.01036..\t 0.01024..\n",
      "287\t 0.01035..\t 0.01023..\n",
      "288\t 0.01035..\t 0.01022..\n",
      "289\t 0.01034..\t 0.01022..\n",
      "290\t 0.01033..\t 0.01022..\n",
      "291\t 0.01032..\t 0.01020..\n",
      "292\t 0.01032..\t 0.01020..\n",
      "293\t 0.01031..\t 0.01019..\n",
      "294\t 0.01030..\t 0.01018..\n",
      "295\t 0.01030..\t 0.01018..\n",
      "296\t 0.01029..\t 0.01017..\n",
      "297\t 0.01028..\t 0.01016..\n",
      "298\t 0.01028..\t 0.01016..\n",
      "299\t 0.01027..\t 0.01015..\n",
      "300\t 0.01026..\t 0.01014..\n",
      "301\t 0.01026..\t 0.01014..\n",
      "302\t 0.01025..\t 0.01013..\n",
      "303\t 0.01024..\t 0.01012..\n",
      "304\t 0.01023..\t 0.01012..\n",
      "305\t 0.01023..\t 0.01011..\n",
      "306\t 0.01022..\t 0.01010..\n",
      "307\t 0.01022..\t 0.01010..\n",
      "308\t 0.01021..\t 0.01009..\n",
      "309\t 0.01020..\t 0.01008..\n",
      "310\t 0.01019..\t 0.01008..\n",
      "311\t 0.01019..\t 0.01007..\n",
      "312\t 0.01018..\t 0.01006..\n",
      "313\t 0.01018..\t 0.01006..\n",
      "314\t 0.01017..\t 0.01005..\n",
      "315\t 0.01016..\t 0.01005..\n",
      "316\t 0.01016..\t 0.01004..\n",
      "317\t 0.01015..\t 0.01003..\n",
      "318\t 0.01014..\t 0.01003..\n"
     ]
    },
    {
     "name": "stdout",
     "output_type": "stream",
     "text": [
      "319\t 0.01014..\t 0.01002..\n",
      "320\t 0.01013..\t 0.01002..\n",
      "321\t 0.01013..\t 0.01001..\n",
      "322\t 0.01012..\t 0.01000..\n",
      "323\t 0.01011..\t 0.01000..\n",
      "324\t 0.01011..\t 0.00999..\n",
      "325\t 0.01010..\t 0.00998..\n",
      "326\t 0.01009..\t 0.00998..\n",
      "327\t 0.01009..\t 0.00997..\n",
      "328\t 0.01008..\t 0.00997..\n",
      "329\t 0.01008..\t 0.00996..\n",
      "330\t 0.01007..\t 0.00995..\n",
      "331\t 0.01006..\t 0.00995..\n",
      "332\t 0.01006..\t 0.00995..\n",
      "333\t 0.01005..\t 0.00993..\n",
      "334\t 0.01005..\t 0.00993..\n",
      "335\t 0.01004..\t 0.00992..\n",
      "336\t 0.01004..\t 0.00991..\n",
      "337\t 0.01003..\t 0.00991..\n",
      "338\t 0.01002..\t 0.00990..\n",
      "339\t 0.01002..\t 0.00990..\n",
      "340\t 0.01001..\t 0.00989..\n",
      "341\t 0.01000..\t 0.00988..\n",
      "342\t 0.01000..\t 0.00988..\n",
      "343\t 0.00999..\t 0.00987..\n",
      "344\t 0.00999..\t 0.00987..\n",
      "345\t 0.00998..\t 0.00986..\n",
      "346\t 0.00997..\t 0.00985..\n",
      "347\t 0.00997..\t 0.00985..\n",
      "348\t 0.00996..\t 0.00984..\n",
      "349\t 0.00996..\t 0.00983..\n",
      "350\t 0.00995..\t 0.00983..\n",
      "351\t 0.00994..\t 0.00982..\n",
      "352\t 0.00994..\t 0.00982..\n",
      "353\t 0.00993..\t 0.00981..\n",
      "354\t 0.00993..\t 0.00981..\n",
      "355\t 0.00992..\t 0.00980..\n",
      "356\t 0.00991..\t 0.00979..\n",
      "357\t 0.00991..\t 0.00978..\n",
      "358\t 0.00990..\t 0.00978..\n",
      "359\t 0.00989..\t 0.00977..\n",
      "360\t 0.00989..\t 0.00976..\n",
      "361\t 0.00988..\t 0.00976..\n",
      "362\t 0.00988..\t 0.00975..\n",
      "363\t 0.00987..\t 0.00975..\n",
      "364\t 0.00986..\t 0.00974..\n",
      "365\t 0.00986..\t 0.00973..\n",
      "366\t 0.00985..\t 0.00973..\n",
      "367\t 0.00985..\t 0.00972..\n",
      "368\t 0.00984..\t 0.00971..\n",
      "369\t 0.00983..\t 0.00971..\n",
      "370\t 0.00983..\t 0.00971..\n",
      "371\t 0.00982..\t 0.00970..\n",
      "372\t 0.00982..\t 0.00969..\n",
      "373\t 0.00981..\t 0.00969..\n",
      "374\t 0.00980..\t 0.00968..\n",
      "375\t 0.00980..\t 0.00967..\n",
      "376\t 0.00979..\t 0.00967..\n",
      "377\t 0.00978..\t 0.00966..\n",
      "378\t 0.00978..\t 0.00965..\n",
      "379\t 0.00977..\t 0.00965..\n",
      "380\t 0.00977..\t 0.00964..\n",
      "381\t 0.00976..\t 0.00963..\n",
      "382\t 0.00976..\t 0.00963..\n",
      "383\t 0.00975..\t 0.00962..\n",
      "384\t 0.00974..\t 0.00962..\n",
      "385\t 0.00974..\t 0.00961..\n",
      "386\t 0.00973..\t 0.00961..\n",
      "387\t 0.00972..\t 0.00960..\n",
      "388\t 0.00972..\t 0.00959..\n",
      "389\t 0.00971..\t 0.00959..\n",
      "390\t 0.00971..\t 0.00958..\n",
      "391\t 0.00970..\t 0.00957..\n",
      "392\t 0.00969..\t 0.00957..\n",
      "393\t 0.00969..\t 0.00956..\n",
      "394\t 0.00968..\t 0.00955..\n",
      "395\t 0.00967..\t 0.00955..\n",
      "396\t 0.00967..\t 0.00954..\n",
      "397\t 0.00966..\t 0.00953..\n",
      "398\t 0.00966..\t 0.00953..\n",
      "399\t 0.00965..\t 0.00952..\n",
      "400\t 0.00964..\t 0.00952..\n",
      "401\t 0.00964..\t 0.00951..\n",
      "402\t 0.00963..\t 0.00950..\n",
      "403\t 0.00963..\t 0.00950..\n",
      "404\t 0.00962..\t 0.00950..\n",
      "405\t 0.00962..\t 0.00949..\n",
      "406\t 0.00961..\t 0.00948..\n",
      "407\t 0.00960..\t 0.00947..\n",
      "408\t 0.00960..\t 0.00947..\n",
      "409\t 0.00959..\t 0.00947..\n",
      "410\t 0.00959..\t 0.00946..\n",
      "411\t 0.00958..\t 0.00945..\n",
      "412\t 0.00957..\t 0.00945..\n",
      "413\t 0.00957..\t 0.00944..\n",
      "414\t 0.00956..\t 0.00943..\n",
      "415\t 0.00956..\t 0.00943..\n",
      "416\t 0.00955..\t 0.00942..\n",
      "417\t 0.00954..\t 0.00941..\n",
      "418\t 0.00954..\t 0.00941..\n",
      "419\t 0.00953..\t 0.00940..\n",
      "420\t 0.00953..\t 0.00940..\n",
      "421\t 0.00952..\t 0.00939..\n",
      "422\t 0.00952..\t 0.00939..\n",
      "423\t 0.00951..\t 0.00938..\n",
      "424\t 0.00950..\t 0.00937..\n",
      "425\t 0.00950..\t 0.00937..\n",
      "426\t 0.00949..\t 0.00936..\n",
      "427\t 0.00949..\t 0.00936..\n",
      "428\t 0.00948..\t 0.00935..\n",
      "429\t 0.00948..\t 0.00935..\n",
      "430\t 0.00947..\t 0.00934..\n",
      "431\t 0.00947..\t 0.00933..\n",
      "432\t 0.00946..\t 0.00933..\n",
      "433\t 0.00946..\t 0.00933..\n",
      "434\t 0.00945..\t 0.00932..\n",
      "435\t 0.00945..\t 0.00931..\n",
      "436\t 0.00944..\t 0.00931..\n",
      "437\t 0.00944..\t 0.00930..\n",
      "438\t 0.00943..\t 0.00930..\n",
      "439\t 0.00943..\t 0.00929..\n",
      "440\t 0.00942..\t 0.00929..\n",
      "441\t 0.00942..\t 0.00928..\n",
      "442\t 0.00941..\t 0.00928..\n",
      "443\t 0.00941..\t 0.00927..\n",
      "444\t 0.00940..\t 0.00927..\n",
      "445\t 0.00940..\t 0.00926..\n",
      "446\t 0.00939..\t 0.00926..\n",
      "447\t 0.00939..\t 0.00925..\n",
      "448\t 0.00938..\t 0.00925..\n",
      "449\t 0.00938..\t 0.00924..\n",
      "450\t 0.00937..\t 0.00924..\n",
      "451\t 0.00937..\t 0.00924..\n",
      "452\t 0.00936..\t 0.00923..\n",
      "453\t 0.00936..\t 0.00923..\n",
      "454\t 0.00935..\t 0.00922..\n",
      "455\t 0.00935..\t 0.00922..\n",
      "456\t 0.00934..\t 0.00921..\n",
      "457\t 0.00934..\t 0.00921..\n",
      "458\t 0.00933..\t 0.00920..\n",
      "459\t 0.00933..\t 0.00920..\n",
      "460\t 0.00933..\t 0.00919..\n",
      "461\t 0.00932..\t 0.00919..\n",
      "462\t 0.00932..\t 0.00918..\n",
      "463\t 0.00931..\t 0.00918..\n",
      "464\t 0.00931..\t 0.00918..\n",
      "465\t 0.00930..\t 0.00917..\n",
      "466\t 0.00930..\t 0.00917..\n",
      "467\t 0.00929..\t 0.00917..\n",
      "468\t 0.00929..\t 0.00916..\n",
      "469\t 0.00929..\t 0.00915..\n",
      "470\t 0.00928..\t 0.00915..\n",
      "471\t 0.00928..\t 0.00915..\n",
      "472\t 0.00927..\t 0.00914..\n",
      "473\t 0.00927..\t 0.00914..\n",
      "474\t 0.00926..\t 0.00913..\n",
      "475\t 0.00926..\t 0.00913..\n",
      "476\t 0.00925..\t 0.00912..\n",
      "477\t 0.00925..\t 0.00912..\n",
      "478\t 0.00925..\t 0.00911..\n",
      "479\t 0.00924..\t 0.00912..\n",
      "480\t 0.00924..\t 0.00911..\n",
      "481\t 0.00923..\t 0.00910..\n",
      "482\t 0.00923..\t 0.00910..\n",
      "483\t 0.00922..\t 0.00909..\n",
      "484\t 0.00922..\t 0.00909..\n",
      "485\t 0.00922..\t 0.00909..\n",
      "486\t 0.00921..\t 0.00908..\n",
      "487\t 0.00921..\t 0.00908..\n",
      "488\t 0.00920..\t 0.00907..\n",
      "489\t 0.00920..\t 0.00907..\n",
      "490\t 0.00920..\t 0.00907..\n",
      "491\t 0.00919..\t 0.00906..\n",
      "492\t 0.00919..\t 0.00906..\n",
      "493\t 0.00918..\t 0.00905..\n",
      "494\t 0.00918..\t 0.00905..\n",
      "495\t 0.00917..\t 0.00904..\n",
      "496\t 0.00917..\t 0.00904..\n",
      "497\t 0.00917..\t 0.00904..\n",
      "498\t 0.00916..\t 0.00903..\n",
      "499\t 0.00916..\t 0.00902..\n",
      "500\t 0.00915..\t 0.00902..\n",
      "---------- Best : 0.009  at epoch  500  /  500\n",
      "Execution time=2127.32s\n"
     ]
    },
    {
     "data": {
      "image/png": "[encoded data removed]",
      "text/plain": [
       "<Figure size 648x108 with 2 Axes>"
      ]
     },
     "metadata": {
      "needs_background": "light",
      "tags": []
     },
     "output_type": "display_data"
    }
   ],
   "source": [
    "epochs_counter=500\n",
    "batch_size=64\n",
    "train_losses, valid_losses = train(model,X_train_th,X_valid_th,Y_train_th,Y_valid_th,epochs=epochs_counter,batch_size=batch_size)"
   ]
  },
  {
   "cell_type": "code",
   "execution_count": null,
   "metadata": {
    "colab": {},
    "colab_type": "code",
    "id": "ghXUCh4VKSL0"
   },
   "outputs": [],
   "source": [
    "model"
   ]
  },
  {
   "cell_type": "code",
   "execution_count": null,
   "metadata": {
    "colab": {},
    "colab_type": "code",
    "id": "glc7JcBEEBC0"
   },
   "outputs": [],
   "source": [
    "#TO SAVE THE MODEL\n",
    "\n",
    "# Here we create a dictionnary to store what we need: \n",
    "# 1/ the epoch number\n",
    "# 2/ the batch size\n",
    "# 2/ the paramters of the model\n",
    "# 3/ the paramters of the optimizer\n",
    "# 4/ the loss function we used\n",
    "tosave_data = {'epoch': epochs_counter,\n",
    "               'batch_size': batch_size,\n",
    "               'model_state_dict': model.state_dict(),\n",
    "               'optimizer_state_dict': optimizer.state_dict(),\n",
    "               'loss': loss_fn,\n",
    "               'training loss': train_losses,\n",
    "               'valid loss': valid_losses,}\n",
    "# Write a pickle file using pytorch \n",
    "th.save(tosave_data, \"modelcv2d_model1_u3\")"
   ]
  },
  {
   "cell_type": "code",
   "execution_count": null,
   "metadata": {
    "colab": {},
    "colab_type": "code",
    "executionInfo": {
     "elapsed": 2908,
     "status": "ok",
     "timestamp": 1591743585960,
     "user": {
      "displayName": "Gabriel Callado",
      "photoUrl": "https://lh3.googleusercontent.com/a-/AOh14Ghnvi183GuMBSeeGPSUTAterZ8HcEuC0_0pR7xFtA=s64",
      "userId": "08786233999723143686"
     },
     "user_tz": 180
    },
    "id": "wWXFXfBNEJr6",
    "outputId": "fa6472d9-2b8c-4077-8e27-50b87cc68821"
   },
   "outputs": [
    {
     "name": "stdout",
     "output_type": "stream",
     "text": [
      "Start_position= 3000\n",
      "The true solution:\n"
     ]
    },
    {
     "data": {
      "image/png": "[encoded data removed]",
      "text/plain": [
       "<Figure size 720x180 with 2 Axes>"
      ]
     },
     "metadata": {
      "needs_background": "light",
      "tags": []
     },
     "output_type": "display_data"
    },
    {
     "name": "stdout",
     "output_type": "stream",
     "text": [
      "The model solution:\n"
     ]
    },
    {
     "data": {
      "image/png": "[encoded data removed]",
      "text/plain": [
       "<Figure size 720x180 with 2 Axes>"
      ]
     },
     "metadata": {
      "needs_background": "light",
      "tags": []
     },
     "output_type": "display_data"
    },
    {
     "data": {
      "image/png": "[encoded data removed]",
      "text/plain": [
       "<Figure size 432x288 with 1 Axes>"
      ]
     },
     "metadata": {
      "needs_background": "light",
      "tags": []
     },
     "output_type": "display_data"
    }
   ],
   "source": [
    "state_history_norm_th = th.from_numpy(state_history_norm).cuda()\n",
    "#state_history_norm_th = state_history_norm_th.unsqueeze(0)\n",
    "start_position=3000\n",
    "N_step_pred=10\n",
    "print('Start_position=', start_position)\n",
    "prediction(model,start_position,N_step_pred,state_history_norm_th)"
   ]
  },
  {
   "cell_type": "code",
   "execution_count": null,
   "metadata": {
    "colab": {},
    "colab_type": "code",
    "id": "-s_1M3LVH4j7"
   },
   "outputs": [],
   "source": [
    "state_history_norm_th = th.from_numpy(state_history_norm).cuda()\n",
    "#state_history_norm_th = state_history_norm_th.unsqueeze(0)\n",
    "start_position=3000\n",
    "N_step_pred=1000\n",
    "print('Start_position=', start_position)\n",
    "prediction(model,start_position,N_step_pred,state_history_norm_th)"
   ]
  },
  {
   "cell_type": "markdown",
   "metadata": {
    "colab_type": "text",
    "id": "ZhkNPpiVpdsU"
   },
   "source": [
    "## Model 2"
   ]
  },
  {
   "cell_type": "code",
   "execution_count": null,
   "metadata": {
    "colab": {},
    "colab_type": "code",
    "id": "bT41lCI7UfMP"
   },
   "outputs": [],
   "source": [
    "#CONV1\n",
    "in_channel_1 = 1\n",
    "Hin_ch_conv_1 = sample_points\n",
    "Win_ch_conv_1 = 100\n",
    "\n",
    "kH_conv_1 = 5\n",
    "stH_conv_1 = 1\n",
    "padH_conv_1 = 2\n",
    "\n",
    "kW_conv_1 = 5\n",
    "stW_conv_1 = 1\n",
    "padW_conv_1 = 2\n",
    "\n",
    "Hout_ch_conv_1 = (Hin_ch_conv_1+2*padH_conv_1-(kH_conv_1-1)-1)/stH_conv_1+1\n",
    "Wout_ch_conv_1 = (Win_ch_conv_1+2*padW_conv_1-(kW_conv_1-1)-1)/stW_conv_1+1\n",
    "out_channel_1 = 3\n",
    "\n",
    "\n",
    "#MAXPOOL1\n",
    "kH_pool_1= 2\n",
    "stH_pool_1= 2\n",
    "\n",
    "kW_pool_1= 2\n",
    "stW_pool_1= 2\n",
    "\n",
    "Hin_ch_conv_2 = (Hout_ch_conv_1 - kH_pool_1)/stH_pool_1 + 1\n",
    "Win_ch_conv_2 = (Wout_ch_conv_1 - kW_pool_1)/stW_pool_1 + 1\n",
    "\n",
    "\n",
    "#CONV2\n",
    "in_channel_2 = out_channel_1\n",
    "\n",
    "kH_conv_2 = 2\n",
    "stH_conv_2 = 2\n",
    "padH_conv_2 = 2\n",
    "\n",
    "kW_conv_2 = 25\n",
    "stW_conv_2 = 25\n",
    "padW_conv_2 = 0\n",
    "\n",
    "Hout_ch_conv_2 = (Hin_ch_conv_2+2*padH_conv_2-(kH_conv_2-1)-1)/stH_conv_2+1\n",
    "Wout_ch_conv_2 = (Win_ch_conv_2+2*padW_conv_2-(kW_conv_2-1)-1)/stW_conv_2+1\n",
    "out_channel_2 = 1\n",
    "\n",
    "\n",
    "#MAXPOOL2\n",
    "\n",
    "kH_pool_2= 2\n",
    "stH_pool_2= 2\n",
    "\n",
    "kW_pool_2= 2\n",
    "stW_pool_2= 1\n",
    "\n",
    "Hin_ch_conv_3 = (Hout_ch_conv_2 - kH_pool_2)/stH_pool_2 + 1\n",
    "Win_ch_conv_3 = (Wout_ch_conv_2 - kW_pool_2)/stW_pool_2 + 1\n",
    "\n",
    "in_lin = int(Hin_ch_conv_3)\n",
    "hidden_lin1 = sample_points\n",
    "hidden_lout1 = sample_points*2\n",
    "out_lin = sample_points\n",
    "\n",
    "model = th.nn.Sequential(\n",
    "    th.nn.Conv2d(in_channel_1,out_channel_1,kernel_size=(kH_conv_1,kW_conv_1),stride=(stH_conv_1,stW_conv_1),padding=(padH_conv_1,padW_conv_1)),\n",
    "    th.nn.LeakyReLU(),\n",
    "    th.nn.MaxPool2d(kernel_size=(kH_pool_1,kW_pool_1),stride=(stH_pool_1,stW_pool_1)),\n",
    "    th.nn.Conv2d(in_channel_2,out_channel_2,kernel_size=(kH_conv_2,kW_conv_2),stride=(stH_conv_2,stW_conv_2),padding=(padH_conv_2,padW_conv_2)),\n",
    "    th.nn.LeakyReLU(),\n",
    "    th.nn.MaxPool2d(kernel_size=(kH_pool_2,kW_pool_2),stride=(stH_pool_2,stW_pool_2)),\n",
    "    th.nn.Flatten(),\n",
    "    th.nn.Linear(in_lin,hidden_lin1),\n",
    "    th.nn.LeakyReLU(),\n",
    "    th.nn.Linear(hidden_lin1,hidden_lout1),\n",
    "    th.nn.Tanh(),\n",
    "    th.nn.Linear(hidden_lout1,out_lin),\n",
    "    th.nn.Tanh(),\n",
    ")\n",
    "                   \n",
    "\n",
    "model.double()\n",
    "model.cuda()\n",
    "optimizer=th.optim.Adam(model.parameters(),lr=1e-5)\n",
    "loss_fn=th.nn.MSELoss()"
   ]
  },
  {
   "cell_type": "code",
   "execution_count": null,
   "metadata": {
    "colab": {},
    "colab_type": "code",
    "id": "HmYl9okwVRB6"
   },
   "outputs": [],
   "source": [
    "epochs_counter=500\n",
    "batch_size=64\n",
    "train_losses, valid_losses = train(model,X_train_th,X_valid_th,Y_train_th,Y_valid_th,epochs=epochs_counter,batch_size=batch_size)"
   ]
  },
  {
   "cell_type": "code",
   "execution_count": null,
   "metadata": {
    "colab": {},
    "colab_type": "code",
    "id": "ixGFkTIaok6l"
   },
   "outputs": [],
   "source": [
    "model"
   ]
  },
  {
   "cell_type": "code",
   "execution_count": null,
   "metadata": {
    "colab": {},
    "colab_type": "code",
    "id": "-rITHbpnVVYu"
   },
   "outputs": [],
   "source": [
    "#TO SAVE THE MODEL\n",
    "\n",
    "# Here we create a dictionnary to store what we need: \n",
    "# 1/ the epoch number\n",
    "# 2/ the batch size\n",
    "# 2/ the paramters of the model\n",
    "# 3/ the paramters of the optimizer\n",
    "# 4/ the loss function we used\n",
    "tosave_data = {'epoch': epochs_counter,\n",
    "               'batch_size': batch_size,\n",
    "               'model_state_dict': model.state_dict(),\n",
    "               'optimizer_state_dict': optimizer.state_dict(),\n",
    "               'loss': loss_fn,\n",
    "               'training loss': train_losses,\n",
    "               'valid loss': valid_losses,}\n",
    "# Write a pickle file using pytorch \n",
    "th.save(tosave_data, \"modelcv2d_model2_u3\")"
   ]
  },
  {
   "cell_type": "code",
   "execution_count": null,
   "metadata": {
    "colab": {},
    "colab_type": "code",
    "id": "ihU-wLj1Vf4s"
   },
   "outputs": [],
   "source": [
    "state_history_norm_th = th.from_numpy(state_history_norm).cuda()\n",
    "#state_history_norm_th = state_history_norm_th.unsqueeze(0)\n",
    "start_position=200\n",
    "N_step_pred=1000\n",
    "print('Start_position=', start_position)\n",
    "prediction(model,start_position,N_step_pred,state_history_norm_th)"
   ]
  },
  {
   "cell_type": "code",
   "execution_count": null,
   "metadata": {
    "colab": {},
    "colab_type": "code",
    "id": "-kNXRuuUVief"
   },
   "outputs": [],
   "source": [
    "state_history_norm_th = th.from_numpy(state_history_norm).cuda()\n",
    "#state_history_norm_th = state_history_norm_th.unsqueeze(0)\n",
    "start_position=3000\n",
    "N_step_pred=1000\n",
    "print('Start_position=', start_position)\n",
    "prediction(model,start_position,N_step_pred,state_history_norm_th)"
   ]
  },
  {
   "cell_type": "markdown",
   "metadata": {
    "colab_type": "text",
    "id": "3e4fYo_ZG6zv"
   },
   "source": [
    "## Model 3"
   ]
  },
  {
   "cell_type": "code",
   "execution_count": 12,
   "metadata": {
    "colab": {},
    "colab_type": "code",
    "id": "iRDcWqkCosp8"
   },
   "outputs": [],
   "source": [
    "#CONV1\n",
    "in_channel_1 = 1\n",
    "Hin_ch_conv_1 = sample_points\n",
    "Win_ch_conv_1 = 100\n",
    "\n",
    "kH_conv_1 = 4\n",
    "stH_conv_1 = 1\n",
    "padH_conv_1 = 2\n",
    "\n",
    "kW_conv_1 = 4\n",
    "stW_conv_1 = 3\n",
    "padW_conv_1 = 3\n",
    "\n",
    "Hout_ch_conv_1 = (Hin_ch_conv_1+2*padH_conv_1-(kH_conv_1-1)-1)/stH_conv_1+1\n",
    "Wout_ch_conv_1 = (Win_ch_conv_1+2*padW_conv_1-(kW_conv_1-1)-1)/stW_conv_1+1\n",
    "out_channel_1 = 3\n",
    "\n",
    "\n",
    "#MAXPOOL1\n",
    "kH_pool_1= 3\n",
    "stH_pool_1= 1\n",
    "\n",
    "kW_pool_1= 3\n",
    "stW_pool_1= 2\n",
    "\n",
    "Hin_ch_conv_2 = (Hout_ch_conv_1 - kH_pool_1)/stH_pool_1 + 1\n",
    "Win_ch_conv_2 = (Wout_ch_conv_1 - kW_pool_1)/stW_pool_1 + 1\n",
    "\n",
    "\n",
    "\n",
    "\n",
    "#CONV2\n",
    "in_channel_2 = out_channel_1\n",
    "\n",
    "kH_conv_2 = 4\n",
    "stH_conv_2 = 1\n",
    "padH_conv_2 = 1\n",
    "\n",
    "kW_conv_2 = 5\n",
    "stW_conv_2 = 4\n",
    "padW_conv_2 = 0\n",
    "\n",
    "Hout_ch_conv_2 = (Hin_ch_conv_2+2*padH_conv_2-(kH_conv_2-1)-1)/stH_conv_2+1\n",
    "Wout_ch_conv_2 = (Win_ch_conv_2+2*padW_conv_2-(kW_conv_2-1)-1)/stW_conv_2+1\n",
    "out_channel_2 = 1\n",
    "\n",
    "\n",
    "#MAXPOOL2\n",
    "\n",
    "kH_pool_2= 4\n",
    "stH_pool_2= 1\n",
    "\n",
    "kW_pool_2= 4\n",
    "stW_pool_2= 1\n",
    "\n",
    "Hin_ch_conv_3 = (Hout_ch_conv_2 - kH_pool_2)/stH_pool_2 + 1\n",
    "Win_ch_conv_3 = (Wout_ch_conv_2 - kW_pool_2)/stW_pool_2 + 1\n",
    "\n",
    "\n",
    "#Linear\n",
    "\n",
    "in_lin = int(Hin_ch_conv_3)\n",
    "hidden_lin1 = sample_points\n",
    "hidden_lout1 = sample_points*2\n",
    "out_lin = sample_points\n",
    "\n",
    "model = th.nn.Sequential(\n",
    "    th.nn.Conv2d(in_channel_1,out_channel_1,kernel_size=(kH_conv_1,kW_conv_1),stride=(stH_conv_1,stW_conv_1),padding=(padH_conv_1,padW_conv_1)),\n",
    "    th.nn.LeakyReLU(),\n",
    "    th.nn.MaxPool2d(kernel_size=(kH_pool_1,kW_pool_1),stride=(stH_pool_1,stW_pool_1)),\n",
    "    th.nn.Conv2d(in_channel_2,out_channel_2,kernel_size=(kH_conv_2,kW_conv_2),stride=(stH_conv_2,stW_conv_2),padding=(padH_conv_2,padW_conv_2)),\n",
    "    th.nn.LeakyReLU(),\n",
    "    th.nn.MaxPool2d(kernel_size=(kH_pool_2,kW_pool_2),stride=(stH_pool_2,stW_pool_2)),\n",
    "    th.nn.Flatten(),\n",
    "    th.nn.Linear(in_lin,hidden_lin1),\n",
    "    th.nn.LeakyReLU(),\n",
    "    th.nn.Linear(hidden_lin1,hidden_lout1),\n",
    "    th.nn.Tanh(),\n",
    "    th.nn.Linear(hidden_lout1,out_lin),\n",
    "    th.nn.Tanh(),\n",
    ")\n",
    "                   \n",
    "\n",
    "model.double()\n",
    "model.cuda()\n",
    "optimizer=th.optim.Adam(model.parameters(),lr=1e-5)\n",
    "loss_fn=th.nn.MSELoss()"
   ]
  },
  {
   "cell_type": "code",
   "execution_count": null,
   "metadata": {
    "colab": {},
    "colab_type": "code",
    "id": "TFJXMO1HG6z4",
    "outputId": "e78d7d0f-c14b-4623-cfc4-777f5c021b46"
   },
   "outputs": [
    {
     "name": "stdout",
     "output_type": "stream",
     "text": [
      "Epoch\tTrain Loss\tValid Loss\n",
      "0\t 0.00034..\t 0.00035..\n",
      "1\t 0.00034..\t 0.00035..\n",
      "2\t 0.00034..\t 0.00034..\n",
      "3\t 0.00034..\t 0.00035..\n",
      "4\t 0.00034..\t 0.00034..\n",
      "5\t 0.00034..\t 0.00035..\n",
      "6\t 0.00034..\t 0.00034..\n",
      "7\t 0.00034..\t 0.00034..\n",
      "8\t 0.00034..\t 0.00034..\n",
      "9\t 0.00034..\t 0.00034..\n",
      "10\t 0.00034..\t 0.00034..\n",
      "11\t 0.00034..\t 0.00034..\n",
      "12\t 0.00034..\t 0.00034..\n",
      "13\t 0.00034..\t 0.00034..\n",
      "14\t 0.00034..\t 0.00034..\n",
      "15\t 0.00034..\t 0.00034..\n",
      "16\t 0.00034..\t 0.00034..\n",
      "17\t 0.00034..\t 0.00034..\n",
      "18\t 0.00034..\t 0.00034..\n",
      "19\t 0.00034..\t 0.00034..\n",
      "20\t 0.00033..\t 0.00034..\n",
      "21\t 0.00033..\t 0.00034..\n",
      "22\t 0.00033..\t 0.00034..\n",
      "23\t 0.00033..\t 0.00033..\n",
      "24\t 0.00033..\t 0.00033..\n",
      "25\t 0.00033..\t 0.00033..\n",
      "26\t 0.00033..\t 0.00033..\n",
      "27\t 0.00033..\t 0.00033..\n",
      "28\t 0.00033..\t 0.00033..\n",
      "29\t 0.00033..\t 0.00033..\n",
      "30\t 0.00033..\t 0.00033..\n",
      "31\t 0.00033..\t 0.00033..\n",
      "32\t 0.00033..\t 0.00033..\n",
      "33\t 0.00033..\t 0.00033..\n",
      "34\t 0.00033..\t 0.00033..\n",
      "35\t 0.00033..\t 0.00033..\n",
      "36\t 0.00033..\t 0.00033..\n",
      "37\t 0.00033..\t 0.00033..\n",
      "38\t 0.00033..\t 0.00033..\n",
      "39\t 0.00033..\t 0.00033..\n",
      "40\t 0.00033..\t 0.00033..\n",
      "41\t 0.00033..\t 0.00033..\n",
      "42\t 0.00032..\t 0.00033..\n",
      "43\t 0.00032..\t 0.00033..\n",
      "44\t 0.00032..\t 0.00033..\n",
      "45\t 0.00032..\t 0.00033..\n",
      "46\t 0.00032..\t 0.00032..\n",
      "47\t 0.00032..\t 0.00032..\n",
      "48\t 0.00032..\t 0.00033..\n",
      "49\t 0.00032..\t 0.00032..\n",
      "50\t 0.00032..\t 0.00032..\n",
      "51\t 0.00032..\t 0.00032..\n",
      "52\t 0.00032..\t 0.00032..\n",
      "53\t 0.00032..\t 0.00032..\n",
      "54\t 0.00032..\t 0.00032..\n",
      "55\t 0.00032..\t 0.00032..\n",
      "56\t 0.00032..\t 0.00032..\n",
      "57\t 0.00032..\t 0.00032..\n",
      "58\t 0.00032..\t 0.00032..\n",
      "59\t 0.00032..\t 0.00032..\n",
      "60\t 0.00032..\t 0.00032..\n",
      "61\t 0.00032..\t 0.00032..\n",
      "62\t 0.00032..\t 0.00032..\n",
      "63\t 0.00032..\t 0.00032..\n",
      "64\t 0.00032..\t 0.00032..\n",
      "65\t 0.00032..\t 0.00032..\n",
      "66\t 0.00032..\t 0.00032..\n",
      "67\t 0.00031..\t 0.00031..\n",
      "68\t 0.00031..\t 0.00032..\n",
      "69\t 0.00031..\t 0.00032..\n",
      "70\t 0.00031..\t 0.00032..\n",
      "71\t 0.00031..\t 0.00031..\n",
      "72\t 0.00031..\t 0.00031..\n",
      "73\t 0.00031..\t 0.00031..\n",
      "74\t 0.00031..\t 0.00031..\n",
      "75\t 0.00031..\t 0.00032..\n",
      "76\t 0.00031..\t 0.00032..\n",
      "77\t 0.00031..\t 0.00031..\n",
      "78\t 0.00031..\t 0.00031..\n",
      "79\t 0.00031..\t 0.00031..\n",
      "80\t 0.00031..\t 0.00031..\n",
      "81\t 0.00031..\t 0.00031..\n",
      "82\t 0.00031..\t 0.00031..\n",
      "83\t 0.00031..\t 0.00031..\n",
      "84\t 0.00031..\t 0.00031..\n",
      "85\t 0.00031..\t 0.00031..\n",
      "86\t 0.00031..\t 0.00031..\n",
      "87\t 0.00031..\t 0.00031..\n",
      "88\t 0.00031..\t 0.00031..\n",
      "89\t 0.00031..\t 0.00031..\n",
      "90\t 0.00031..\t 0.00031..\n",
      "91\t 0.00031..\t 0.00031..\n",
      "92\t 0.00030..\t 0.00031..\n",
      "93\t 0.00030..\t 0.00031..\n",
      "94\t 0.00030..\t 0.00031..\n",
      "95\t 0.00030..\t 0.00031..\n",
      "96\t 0.00030..\t 0.00030..\n",
      "97\t 0.00030..\t 0.00030..\n",
      "98\t 0.00030..\t 0.00031..\n",
      "99\t 0.00030..\t 0.00031..\n",
      "100\t 0.00030..\t 0.00030..\n",
      "101\t 0.00030..\t 0.00030..\n",
      "102\t 0.00030..\t 0.00030..\n",
      "103\t 0.00030..\t 0.00030..\n",
      "104\t 0.00030..\t 0.00030..\n",
      "105\t 0.00030..\t 0.00030..\n",
      "106\t 0.00030..\t 0.00030..\n",
      "107\t 0.00030..\t 0.00030..\n",
      "108\t 0.00030..\t 0.00030..\n",
      "109\t 0.00030..\t 0.00030..\n",
      "110\t 0.00030..\t 0.00030..\n",
      "111\t 0.00030..\t 0.00030..\n",
      "112\t 0.00030..\t 0.00030..\n",
      "113\t 0.00030..\t 0.00030..\n",
      "114\t 0.00030..\t 0.00030..\n",
      "115\t 0.00030..\t 0.00030..\n",
      "116\t 0.00030..\t 0.00030..\n",
      "117\t 0.00030..\t 0.00030..\n",
      "118\t 0.00030..\t 0.00030..\n",
      "119\t 0.00030..\t 0.00030..\n",
      "120\t 0.00030..\t 0.00030..\n",
      "121\t 0.00030..\t 0.00030..\n",
      "122\t 0.00029..\t 0.00030..\n",
      "123\t 0.00029..\t 0.00030..\n",
      "124\t 0.00029..\t 0.00030..\n",
      "125\t 0.00029..\t 0.00029..\n",
      "126\t 0.00029..\t 0.00030..\n",
      "127\t 0.00029..\t 0.00030..\n",
      "128\t 0.00029..\t 0.00029..\n",
      "129\t 0.00029..\t 0.00029..\n",
      "130\t 0.00029..\t 0.00029..\n",
      "131\t 0.00029..\t 0.00029..\n",
      "132\t 0.00029..\t 0.00030..\n",
      "133\t 0.00029..\t 0.00029..\n",
      "134\t 0.00029..\t 0.00029..\n",
      "135\t 0.00029..\t 0.00029..\n",
      "136\t 0.00029..\t 0.00029..\n",
      "137\t 0.00029..\t 0.00029..\n",
      "138\t 0.00029..\t 0.00029..\n",
      "139\t 0.00029..\t 0.00029..\n",
      "140\t 0.00029..\t 0.00029..\n",
      "141\t 0.00029..\t 0.00029..\n",
      "142\t 0.00029..\t 0.00029..\n",
      "143\t 0.00029..\t 0.00029..\n",
      "144\t 0.00029..\t 0.00029..\n",
      "145\t 0.00029..\t 0.00029..\n",
      "146\t 0.00029..\t 0.00029..\n",
      "147\t 0.00029..\t 0.00029..\n",
      "148\t 0.00029..\t 0.00029..\n",
      "149\t 0.00029..\t 0.00029..\n",
      "150\t 0.00029..\t 0.00029..\n",
      "151\t 0.00029..\t 0.00029..\n",
      "152\t 0.00028..\t 0.00029..\n",
      "153\t 0.00028..\t 0.00029..\n",
      "154\t 0.00028..\t 0.00029..\n",
      "155\t 0.00028..\t 0.00029..\n",
      "156\t 0.00028..\t 0.00029..\n",
      "157\t 0.00028..\t 0.00029..\n",
      "158\t 0.00028..\t 0.00029..\n",
      "159\t 0.00028..\t 0.00028..\n",
      "160\t 0.00028..\t 0.00028..\n",
      "161\t 0.00028..\t 0.00028..\n",
      "162\t 0.00028..\t 0.00029..\n",
      "163\t 0.00028..\t 0.00028..\n",
      "164\t 0.00028..\t 0.00028..\n",
      "165\t 0.00028..\t 0.00028..\n",
      "166\t 0.00028..\t 0.00028..\n",
      "167\t 0.00028..\t 0.00028..\n",
      "168\t 0.00028..\t 0.00028..\n",
      "169\t 0.00028..\t 0.00028..\n",
      "170\t 0.00028..\t 0.00028..\n",
      "171\t 0.00028..\t 0.00028..\n",
      "172\t 0.00028..\t 0.00028..\n",
      "173\t 0.00028..\t 0.00028..\n",
      "174\t 0.00028..\t 0.00028..\n",
      "175\t 0.00028..\t 0.00028..\n",
      "176\t 0.00028..\t 0.00028..\n",
      "177\t 0.00028..\t 0.00028..\n",
      "178\t 0.00028..\t 0.00028..\n",
      "179\t 0.00028..\t 0.00028..\n",
      "180\t 0.00028..\t 0.00028..\n",
      "181\t 0.00028..\t 0.00028..\n",
      "182\t 0.00028..\t 0.00028..\n",
      "183\t 0.00028..\t 0.00028..\n",
      "184\t 0.00028..\t 0.00028..\n",
      "185\t 0.00028..\t 0.00028..\n",
      "186\t 0.00027..\t 0.00028..\n",
      "187\t 0.00027..\t 0.00028..\n",
      "188\t 0.00027..\t 0.00028..\n",
      "189\t 0.00027..\t 0.00027..\n",
      "190\t 0.00027..\t 0.00028..\n",
      "191\t 0.00027..\t 0.00028..\n",
      "192\t 0.00027..\t 0.00027..\n",
      "193\t 0.00027..\t 0.00028..\n",
      "194\t 0.00027..\t 0.00028..\n",
      "195\t 0.00027..\t 0.00027..\n",
      "196\t 0.00027..\t 0.00027..\n",
      "197\t 0.00027..\t 0.00028..\n",
      "198\t 0.00027..\t 0.00027..\n",
      "199\t 0.00027..\t 0.00027..\n",
      "200\t 0.00027..\t 0.00027..\n",
      "201\t 0.00027..\t 0.00027..\n",
      "202\t 0.00027..\t 0.00027..\n",
      "203\t 0.00027..\t 0.00027..\n",
      "204\t 0.00027..\t 0.00027..\n",
      "205\t 0.00027..\t 0.00027..\n",
      "206\t 0.00027..\t 0.00027..\n",
      "207\t 0.00027..\t 0.00027..\n",
      "208\t 0.00027..\t 0.00027..\n",
      "209\t 0.00027..\t 0.00027..\n",
      "210\t 0.00027..\t 0.00027..\n",
      "211\t 0.00027..\t 0.00027..\n",
      "212\t 0.00027..\t 0.00027..\n",
      "213\t 0.00027..\t 0.00027..\n",
      "214\t 0.00027..\t 0.00027..\n",
      "215\t 0.00027..\t 0.00027..\n",
      "216\t 0.00027..\t 0.00027..\n",
      "217\t 0.00027..\t 0.00027..\n",
      "218\t 0.00027..\t 0.00027..\n",
      "219\t 0.00027..\t 0.00027..\n",
      "220\t 0.00027..\t 0.00027..\n",
      "221\t 0.00027..\t 0.00027..\n",
      "222\t 0.00027..\t 0.00027..\n",
      "223\t 0.00026..\t 0.00027..\n",
      "224\t 0.00026..\t 0.00027..\n",
      "225\t 0.00026..\t 0.00027..\n",
      "226\t 0.00026..\t 0.00027..\n",
      "227\t 0.00026..\t 0.00027..\n",
      "228\t 0.00026..\t 0.00027..\n",
      "229\t 0.00026..\t 0.00027..\n",
      "230\t 0.00026..\t 0.00026..\n",
      "231\t 0.00026..\t 0.00026..\n",
      "232\t 0.00026..\t 0.00027..\n",
      "233\t 0.00026..\t 0.00027..\n",
      "234\t 0.00026..\t 0.00026..\n",
      "235\t 0.00026..\t 0.00026..\n",
      "236\t 0.00026..\t 0.00026..\n",
      "237\t 0.00026..\t 0.00026..\n",
      "238\t 0.00026..\t 0.00026..\n",
      "239\t 0.00026..\t 0.00026..\n",
      "240\t 0.00026..\t 0.00026..\n",
      "241\t 0.00026..\t 0.00026..\n",
      "242\t 0.00026..\t 0.00026..\n",
      "243\t 0.00026..\t 0.00026..\n",
      "244\t 0.00026..\t 0.00026..\n",
      "245\t 0.00026..\t 0.00026..\n",
      "246\t 0.00026..\t 0.00026..\n",
      "247\t 0.00026..\t 0.00026..\n",
      "248\t 0.00026..\t 0.00026..\n",
      "249\t 0.00026..\t 0.00026..\n",
      "250\t 0.00026..\t 0.00026..\n",
      "251\t 0.00026..\t 0.00026..\n",
      "252\t 0.00026..\t 0.00026..\n",
      "253\t 0.00026..\t 0.00026..\n",
      "254\t 0.00026..\t 0.00026..\n",
      "255\t 0.00026..\t 0.00026..\n",
      "256\t 0.00026..\t 0.00026..\n",
      "257\t 0.00026..\t 0.00026..\n",
      "258\t 0.00026..\t 0.00026..\n",
      "259\t 0.00026..\t 0.00026..\n",
      "260\t 0.00026..\t 0.00026..\n",
      "261\t 0.00026..\t 0.00026..\n",
      "262\t 0.00025..\t 0.00026..\n",
      "263\t 0.00025..\t 0.00026..\n",
      "264\t 0.00025..\t 0.00026..\n",
      "265\t 0.00025..\t 0.00026..\n",
      "266\t 0.00025..\t 0.00026..\n",
      "267\t 0.00025..\t 0.00026..\n",
      "268\t 0.00025..\t 0.00025..\n",
      "269\t 0.00025..\t 0.00026..\n",
      "270\t 0.00025..\t 0.00026..\n",
      "271\t 0.00025..\t 0.00025..\n",
      "272\t 0.00025..\t 0.00025..\n",
      "273\t 0.00025..\t 0.00025..\n",
      "274\t 0.00025..\t 0.00025..\n",
      "275\t 0.00025..\t 0.00025..\n",
      "276\t 0.00025..\t 0.00025..\n",
      "277\t 0.00025..\t 0.00025..\n",
      "278\t 0.00025..\t 0.00025..\n",
      "279\t 0.00025..\t 0.00025..\n",
      "280\t 0.00025..\t 0.00025..\n",
      "281\t 0.00025..\t 0.00025..\n",
      "282\t 0.00025..\t 0.00025..\n",
      "283\t 0.00025..\t 0.00025..\n",
      "284\t 0.00025..\t 0.00025..\n",
      "285\t 0.00025..\t 0.00025..\n",
      "286\t 0.00025..\t 0.00025..\n",
      "287\t 0.00025..\t 0.00025..\n",
      "288\t 0.00025..\t 0.00025..\n",
      "289\t 0.00025..\t 0.00025..\n",
      "290\t 0.00025..\t 0.00025..\n",
      "291\t 0.00025..\t 0.00025..\n",
      "292\t 0.00025..\t 0.00025..\n",
      "293\t 0.00025..\t 0.00025..\n",
      "294\t 0.00025..\t 0.00025..\n",
      "295\t 0.00025..\t 0.00025..\n",
      "296\t 0.00025..\t 0.00025..\n",
      "297\t 0.00025..\t 0.00025..\n",
      "298\t 0.00025..\t 0.00025..\n",
      "299\t 0.00025..\t 0.00025..\n",
      "300\t 0.00025..\t 0.00025..\n",
      "301\t 0.00025..\t 0.00025..\n",
      "302\t 0.00025..\t 0.00025..\n",
      "303\t 0.00025..\t 0.00025..\n",
      "304\t 0.00025..\t 0.00025..\n",
      "305\t 0.00025..\t 0.00025..\n",
      "306\t 0.00024..\t 0.00025..\n",
      "307\t 0.00024..\t 0.00025..\n",
      "308\t 0.00024..\t 0.00025..\n",
      "309\t 0.00024..\t 0.00025..\n",
      "310\t 0.00024..\t 0.00025..\n",
      "311\t 0.00024..\t 0.00025..\n",
      "312\t 0.00024..\t 0.00025..\n",
      "313\t 0.00024..\t 0.00025..\n",
      "314\t 0.00024..\t 0.00024..\n",
      "315\t 0.00024..\t 0.00024..\n",
      "316\t 0.00024..\t 0.00025..\n",
      "317\t 0.00024..\t 0.00025..\n",
      "318\t 0.00024..\t 0.00024..\n"
     ]
    },
    {
     "name": "stdout",
     "output_type": "stream",
     "text": [
      "319\t 0.00024..\t 0.00024..\n",
      "320\t 0.00024..\t 0.00024..\n",
      "321\t 0.00024..\t 0.00024..\n",
      "322\t 0.00024..\t 0.00024..\n",
      "323\t 0.00024..\t 0.00024..\n",
      "324\t 0.00024..\t 0.00024..\n",
      "325\t 0.00024..\t 0.00024..\n",
      "326\t 0.00024..\t 0.00024..\n",
      "327\t 0.00024..\t 0.00024..\n",
      "328\t 0.00024..\t 0.00024..\n",
      "329\t 0.00024..\t 0.00024..\n",
      "330\t 0.00024..\t 0.00024..\n",
      "331\t 0.00024..\t 0.00024..\n",
      "332\t 0.00024..\t 0.00024..\n",
      "333\t 0.00024..\t 0.00024..\n",
      "334\t 0.00024..\t 0.00024..\n",
      "335\t 0.00024..\t 0.00024..\n",
      "336\t 0.00024..\t 0.00024..\n",
      "337\t 0.00024..\t 0.00024..\n",
      "338\t 0.00024..\t 0.00024..\n",
      "339\t 0.00024..\t 0.00024..\n",
      "340\t 0.00024..\t 0.00024..\n",
      "341\t 0.00024..\t 0.00024..\n",
      "342\t 0.00024..\t 0.00024..\n",
      "343\t 0.00024..\t 0.00024..\n",
      "344\t 0.00024..\t 0.00024..\n",
      "345\t 0.00024..\t 0.00024..\n",
      "346\t 0.00024..\t 0.00024..\n",
      "347\t 0.00024..\t 0.00024..\n",
      "348\t 0.00024..\t 0.00024..\n",
      "349\t 0.00024..\t 0.00024..\n",
      "350\t 0.00024..\t 0.00024..\n",
      "351\t 0.00024..\t 0.00024..\n",
      "352\t 0.00024..\t 0.00024..\n",
      "353\t 0.00024..\t 0.00024..\n",
      "354\t 0.00024..\t 0.00024..\n",
      "355\t 0.00023..\t 0.00024..\n",
      "356\t 0.00023..\t 0.00024..\n",
      "357\t 0.00023..\t 0.00024..\n",
      "358\t 0.00023..\t 0.00024..\n",
      "359\t 0.00023..\t 0.00024..\n",
      "360\t 0.00023..\t 0.00024..\n",
      "361\t 0.00023..\t 0.00024..\n",
      "362\t 0.00023..\t 0.00024..\n",
      "363\t 0.00023..\t 0.00024..\n",
      "364\t 0.00023..\t 0.00023..\n",
      "365\t 0.00023..\t 0.00023..\n",
      "366\t 0.00023..\t 0.00023..\n",
      "367\t 0.00023..\t 0.00023..\n",
      "368\t 0.00023..\t 0.00024..\n",
      "369\t 0.00023..\t 0.00023..\n",
      "370\t 0.00023..\t 0.00023..\n",
      "371\t 0.00023..\t 0.00023..\n",
      "372\t 0.00023..\t 0.00024..\n",
      "373\t 0.00023..\t 0.00023..\n",
      "374\t 0.00023..\t 0.00023..\n",
      "375\t 0.00023..\t 0.00023..\n",
      "376\t 0.00023..\t 0.00023..\n",
      "377\t 0.00023..\t 0.00023..\n",
      "378\t 0.00023..\t 0.00023..\n",
      "379\t 0.00023..\t 0.00023..\n",
      "380\t 0.00023..\t 0.00023..\n",
      "381\t 0.00023..\t 0.00023..\n",
      "382\t 0.00023..\t 0.00023..\n",
      "383\t 0.00023..\t 0.00023..\n",
      "384\t 0.00023..\t 0.00023..\n",
      "385\t 0.00023..\t 0.00023..\n",
      "386\t 0.00023..\t 0.00023..\n",
      "387\t 0.00023..\t 0.00023..\n",
      "388\t 0.00023..\t 0.00023..\n",
      "389\t 0.00023..\t 0.00023..\n",
      "390\t 0.00023..\t 0.00023..\n",
      "391\t 0.00023..\t 0.00023..\n",
      "392\t 0.00023..\t 0.00023..\n",
      "393\t 0.00023..\t 0.00023..\n",
      "394\t 0.00023..\t 0.00023..\n",
      "395\t 0.00023..\t 0.00023..\n",
      "396\t 0.00023..\t 0.00023..\n",
      "397\t 0.00023..\t 0.00023..\n",
      "398\t 0.00023..\t 0.00023..\n",
      "399\t 0.00023..\t 0.00023..\n",
      "400\t 0.00023..\t 0.00023..\n",
      "401\t 0.00023..\t 0.00023..\n",
      "402\t 0.00023..\t 0.00023..\n",
      "403\t 0.00023..\t 0.00023..\n",
      "404\t 0.00023..\t 0.00023..\n",
      "405\t 0.00023..\t 0.00023..\n",
      "406\t 0.00023..\t 0.00023..\n",
      "407\t 0.00023..\t 0.00023..\n",
      "408\t 0.00022..\t 0.00023..\n",
      "409\t 0.00022..\t 0.00023..\n",
      "410\t 0.00022..\t 0.00023..\n",
      "411\t 0.00022..\t 0.00023..\n",
      "412\t 0.00022..\t 0.00023..\n",
      "413\t 0.00022..\t 0.00023..\n",
      "414\t 0.00022..\t 0.00023..\n",
      "415\t 0.00022..\t 0.00023..\n",
      "416\t 0.00022..\t 0.00023..\n",
      "417\t 0.00022..\t 0.00023..\n",
      "418\t 0.00022..\t 0.00023..\n",
      "419\t 0.00022..\t 0.00022..\n",
      "420\t 0.00022..\t 0.00023..\n",
      "421\t 0.00022..\t 0.00022..\n",
      "422\t 0.00022..\t 0.00023..\n",
      "423\t 0.00022..\t 0.00022..\n",
      "424\t 0.00022..\t 0.00022..\n",
      "425\t 0.00022..\t 0.00022..\n",
      "426\t 0.00022..\t 0.00022..\n",
      "427\t 0.00022..\t 0.00022..\n",
      "428\t 0.00022..\t 0.00022..\n",
      "429\t 0.00022..\t 0.00022..\n",
      "430\t 0.00022..\t 0.00022..\n",
      "431\t 0.00022..\t 0.00022..\n",
      "432\t 0.00022..\t 0.00022..\n",
      "433\t 0.00022..\t 0.00022..\n",
      "434\t 0.00022..\t 0.00022..\n",
      "435\t 0.00022..\t 0.00022..\n",
      "436\t 0.00022..\t 0.00022..\n",
      "437\t 0.00022..\t 0.00022..\n",
      "438\t 0.00022..\t 0.00022..\n",
      "439\t 0.00022..\t 0.00022..\n",
      "440\t 0.00022..\t 0.00022..\n",
      "441\t 0.00022..\t 0.00022..\n",
      "442\t 0.00022..\t 0.00022..\n",
      "443\t 0.00022..\t 0.00022..\n",
      "444\t 0.00022..\t 0.00022..\n",
      "445\t 0.00022..\t 0.00022..\n",
      "446\t 0.00022..\t 0.00022..\n",
      "447\t 0.00022..\t 0.00022..\n",
      "448\t 0.00022..\t 0.00022..\n",
      "449\t 0.00022..\t 0.00022..\n",
      "450\t 0.00022..\t 0.00022..\n",
      "451\t 0.00022..\t 0.00022..\n",
      "452\t 0.00022..\t 0.00022..\n",
      "453\t 0.00022..\t 0.00022..\n",
      "454\t 0.00022..\t 0.00022..\n",
      "455\t 0.00022..\t 0.00022..\n",
      "456\t 0.00022..\t 0.00022..\n",
      "457\t 0.00022..\t 0.00022..\n",
      "458\t 0.00022..\t 0.00022..\n",
      "459\t 0.00022..\t 0.00022..\n",
      "460\t 0.00022..\t 0.00022..\n",
      "461\t 0.00022..\t 0.00022..\n",
      "462\t 0.00022..\t 0.00022..\n",
      "463\t 0.00022..\t 0.00022..\n",
      "464\t 0.00022..\t 0.00022..\n",
      "465\t 0.00022..\t 0.00022..\n",
      "466\t 0.00022..\t 0.00022..\n",
      "467\t 0.00022..\t 0.00022..\n",
      "468\t 0.00021..\t 0.00022..\n",
      "469\t 0.00021..\t 0.00022..\n",
      "470\t 0.00021..\t 0.00022..\n",
      "471\t 0.00021..\t 0.00022..\n",
      "472\t 0.00021..\t 0.00022..\n",
      "473\t 0.00021..\t 0.00022..\n",
      "474\t 0.00021..\t 0.00022..\n",
      "475\t 0.00021..\t 0.00022..\n",
      "476\t 0.00021..\t 0.00021..\n",
      "477\t 0.00021..\t 0.00021..\n",
      "478\t 0.00021..\t 0.00021..\n",
      "479\t 0.00021..\t 0.00021..\n",
      "480\t 0.00021..\t 0.00022..\n",
      "481\t 0.00021..\t 0.00022..\n",
      "482\t 0.00021..\t 0.00021..\n",
      "483\t 0.00021..\t 0.00022..\n",
      "484\t 0.00021..\t 0.00022..\n",
      "485\t 0.00021..\t 0.00021..\n",
      "486\t 0.00021..\t 0.00022..\n",
      "487\t 0.00021..\t 0.00021..\n",
      "488\t 0.00021..\t 0.00021..\n",
      "489\t 0.00021..\t 0.00021..\n",
      "490\t 0.00021..\t 0.00021..\n",
      "491\t 0.00021..\t 0.00021..\n",
      "492\t 0.00021..\t 0.00021..\n",
      "493\t 0.00021..\t 0.00021..\n",
      "494\t 0.00021..\t 0.00021..\n",
      "495\t 0.00021..\t 0.00021..\n",
      "496\t 0.00021..\t 0.00021..\n",
      "497\t 0.00021..\t 0.00021..\n",
      "498\t 0.00021..\t 0.00021..\n",
      "499\t 0.00021..\t 0.00021..\n",
      "500\t 0.00021..\t 0.00021..\n",
      "---------- Best : 0.000  at epoch  500  /  500\n",
      "Execution time=2069.34s\n"
     ]
    },
    {
     "data": {
      "image/png": "[encoded data removed]",
      "text/plain": [
       "<Figure size 648x108 with 2 Axes>"
      ]
     },
     "metadata": {
      "needs_background": "light",
      "tags": []
     },
     "output_type": "display_data"
    }
   ],
   "source": [
    "epochs_counter=500\n",
    "batch_size=64\n",
    "train_losses, valid_losses = train(model,X_train_th,X_valid_th,Y_train_th,Y_valid_th,epochs=epochs_counter,batch_size=batch_size)"
   ]
  },
  {
   "cell_type": "code",
   "execution_count": null,
   "metadata": {
    "colab": {},
    "colab_type": "code",
    "id": "55kOd1TtG6z9",
    "outputId": "8f520de4-39c9-4ac4-bffc-7b561cfdb3b5"
   },
   "outputs": [
    {
     "data": {
      "text/plain": [
       "Sequential(\n",
       "  (0): Conv2d(1, 3, kernel_size=(4, 4), stride=(1, 3), padding=(2, 3))\n",
       "  (1): LeakyReLU(negative_slope=0.01)\n",
       "  (2): MaxPool2d(kernel_size=(3, 3), stride=(1, 2), padding=0, dilation=1, ceil_mode=False)\n",
       "  (3): Conv2d(3, 1, kernel_size=(4, 5), stride=(1, 4), padding=(1, 0))\n",
       "  (4): LeakyReLU(negative_slope=0.01)\n",
       "  (5): MaxPool2d(kernel_size=(4, 4), stride=(1, 1), padding=0, dilation=1, ceil_mode=False)\n",
       "  (6): Flatten()\n",
       "  (7): Linear(in_features=59, out_features=64, bias=True)\n",
       "  (8): LeakyReLU(negative_slope=0.01)\n",
       "  (9): Linear(in_features=64, out_features=128, bias=True)\n",
       "  (10): Tanh()\n",
       "  (11): Linear(in_features=128, out_features=64, bias=True)\n",
       "  (12): Tanh()\n",
       ")"
      ]
     },
     "execution_count": 94,
     "metadata": {
      "tags": []
     },
     "output_type": "execute_result"
    }
   ],
   "source": [
    "model"
   ]
  },
  {
   "cell_type": "code",
   "execution_count": 41,
   "metadata": {
    "colab": {},
    "colab_type": "code",
    "id": "pYiv6Kf2G60A",
    "outputId": "484a62ab-2953-452b-c137-6eae46447456"
   },
   "outputs": [
    {
     "name": "stdout",
     "output_type": "stream",
     "text": [
      "Start_position= 40012\n",
      "The true solution:\n"
     ]
    },
    {
     "data": {
      "image/png": "[encoded data removed]",
      "text/plain": [
       "<Figure size 720x180 with 2 Axes>"
      ]
     },
     "metadata": {
      "needs_background": "light"
     },
     "output_type": "display_data"
    },
    {
     "name": "stdout",
     "output_type": "stream",
     "text": [
      "The model solution:\n"
     ]
    },
    {
     "data": {
      "image/png": "[encoded data removed]",
      "text/plain": [
       "<Figure size 720x180 with 2 Axes>"
      ]
     },
     "metadata": {
      "needs_background": "light"
     },
     "output_type": "display_data"
    },
    {
     "data": {
      "image/png": "[encoded data removed]",
      "text/plain": [
       "<Figure size 432x288 with 1 Axes>"
      ]
     },
     "metadata": {
      "needs_background": "light"
     },
     "output_type": "display_data"
    }
   ],
   "source": [
    "size_conv_time=100\n",
    "#state_history_norm_th = state_history_norm_th.unsqueeze(0)\n",
    "start_position=40012\n",
    "N_step_pred=1000\n",
    "print('Start_position=', start_position)\n",
    "prediction(model,start_position,N_step_pred,state_history_norm_th)"
   ]
  },
  {
   "cell_type": "code",
   "execution_count": null,
   "metadata": {
    "colab": {},
    "colab_type": "code",
    "id": "mg7lHUhMG60D",
    "outputId": "5be7d623-8626-4b98-d7f0-c040a75c1d06"
   },
   "outputs": [
    {
     "name": "stdout",
     "output_type": "stream",
     "text": [
      "Start_position= 3000\n",
      "The true solution:\n"
     ]
    },
    {
     "data": {
      "image/png": "[encoded data removed]",
      "text/plain": [
       "<Figure size 720x180 with 2 Axes>"
      ]
     },
     "metadata": {
      "needs_background": "light",
      "tags": []
     },
     "output_type": "display_data"
    },
    {
     "name": "stdout",
     "output_type": "stream",
     "text": [
      "The model solution:\n"
     ]
    },
    {
     "data": {
      "image/png": "[encoded data removed]",
      "text/plain": [
       "<Figure size 720x180 with 2 Axes>"
      ]
     },
     "metadata": {
      "needs_background": "light",
      "tags": []
     },
     "output_type": "display_data"
    },
    {
     "data": {
      "image/png": "[encoded data removed]",
      "text/plain": [
       "<Figure size 432x288 with 1 Axes>"
      ]
     },
     "metadata": {
      "needs_background": "light",
      "tags": []
     },
     "output_type": "display_data"
    }
   ],
   "source": [
    "state_history_norm_th = th.from_numpy(state_history_norm).cuda()\n",
    "#state_history_norm_th = state_history_norm_th.unsqueeze(0)\n",
    "start_position=3000\n",
    "N_step_pred=1000\n",
    "print('Start_position=', start_position)\n",
    "prediction(model,start_position,N_step_pred,state_history_norm_th)"
   ]
  },
  {
   "cell_type": "code",
   "execution_count": 19,
   "metadata": {
    "colab": {},
    "colab_type": "code",
    "id": "rWHLBktbG60K",
    "outputId": "71a59dc7-fe5e-4ce2-9f4c-dba954077aa8"
   },
   "outputs": [
    {
     "data": {
      "text/plain": [
       "(200001, 64)"
      ]
     },
     "execution_count": 19,
     "metadata": {},
     "output_type": "execute_result"
    }
   ],
   "source": [
    "state_history.shape"
   ]
  },
  {
   "cell_type": "code",
   "execution_count": null,
   "metadata": {
    "colab": {},
    "colab_type": "code",
    "id": "YqhRaMpzG60P"
   },
   "outputs": [],
   "source": [
    "#TO SAVE THE MODEL\n",
    "\n",
    "tosave_data = {'model': model,\n",
    "               'epoch': epoch,\n",
    "               'batch_size': batch_size,\n",
    "               'model_state_dict': model.state_dict(),\n",
    "               'optimizer_state_dict': optimizer.state_dict(),\n",
    "               'loss': loss_fn,\n",
    "               'training loss': train_losses,\n",
    "               'valid loss': valid_losses,}\n",
    "# Write a pickle file using pytorch \n",
    "th.save(tosave_data, \"modelcv2d_model3_u3\")"
   ]
  },
  {
   "cell_type": "code",
   "execution_count": 14,
   "metadata": {},
   "outputs": [
    {
     "name": "stdout",
     "output_type": "stream",
     "text": [
      "C:\\Users\\Callado\\Documents\\GitHub\\Research-internship\\Simulators\\ks-simulator\\Models\n"
     ]
    }
   ],
   "source": [
    "cd ../ks-simulator/Models/"
   ]
  },
  {
   "cell_type": "code",
   "execution_count": 15,
   "metadata": {},
   "outputs": [],
   "source": [
    "name = \"modelcv2d_model3_u3\"\n",
    "checkpoint = th.load(name)\n",
    "# restore the model and optimizer states: \n",
    "model = checkpoint['model']\n",
    "model.load_state_dict(checkpoint['model_state_dict'])\n",
    "epoch = checkpoint['epoch']\n",
    "batch_size = checkpoint['batch_size']\n",
    "loss_fn=checkpoint['loss']\n",
    "train_losses=checkpoint['training loss']\n",
    "valid_losses=checkpoint['valid loss']"
   ]
  }
 ],
 "metadata": {
  "colab": {
   "name": "KS-modelConv2D.ipynb",
   "provenance": []
  },
  "kernelspec": {
   "display_name": "Python 3",
   "language": "python",
   "name": "python3"
  },
  "language_info": {
   "codemirror_mode": {
    "name": "ipython",
    "version": 3
   },
   "file_extension": ".py",
   "mimetype": "text/x-python",
   "name": "python",
   "nbconvert_exporter": "python",
   "pygments_lexer": "ipython3",
   "version": "3.7.4"
  },
  "latex_envs": {
   "LaTeX_envs_menu_present": true,
   "autoclose": false,
   "autocomplete": true,
   "bibliofile": "biblio.bib",
   "cite_by": "apalike",
   "current_citInitial": 1,
   "eqLabelWithNumbers": true,
   "eqNumInitial": 1,
   "hotkeys": {
    "equation": "Ctrl-E",
    "itemize": "Ctrl-I"
   },
   "labels_anchors": false,
   "latex_user_defs": false,
   "report_style_numbering": false,
   "user_envs_cfg": false
  },
  "varInspector": {
   "cols": {
    "lenName": 16,
    "lenType": 16,
    "lenVar": 40
   },
   "kernels_config": {
    "python": {
     "delete_cmd_postfix": "",
     "delete_cmd_prefix": "del ",
     "library": "var_list.py",
     "varRefreshCmd": "print(var_dic_list())"
    },
    "r": {
     "delete_cmd_postfix": ") ",
     "delete_cmd_prefix": "rm(",
     "library": "var_list.r",
     "varRefreshCmd": "cat(var_dic_list()) "
    }
   },
   "types_to_exclude": [
    "module",
    "function",
    "builtin_function_or_method",
    "instance",
    "_Feature"
   ],
   "window_display": false
  }
 },
 "nbformat": 4,
 "nbformat_minor": 1
}
